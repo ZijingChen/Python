{
  "nbformat": 4,
  "nbformat_minor": 0,
  "metadata": {
    "colab": {
      "provenance": [],
      "collapsed_sections": [
        "Yk-kmWWNaM7P",
        "txLCJxSm9G1Q",
        "_mDzckOszrPI",
        "4aCHM_BmoTJn"
      ],
      "toc_visible": true
    },
    "kernelspec": {
      "name": "python3",
      "display_name": "Python 3"
    },
    "language_info": {
      "name": "python"
    }
  },
  "cells": [
    {
      "cell_type": "markdown",
      "source": [
        "## Debugger\n",
        "\n",
        "### pdb the Python debugger\n",
        "\n",
        "https://docs.python.org/3/library/pdb.html\n",
        "\n",
        "### Debugging with Colab\n",
        "https://colab.research.google.com/github/QuantEcon/lecture-python-programming.notebooks/blob/master/debugging.ipynb\n",
        "\n",
        "**1. With breakpoint**"
      ],
      "metadata": {
        "id": "Yk-kmWWNaM7P"
      }
    },
    {
      "cell_type": "code",
      "source": [
        "a = 1\n",
        "print(a)\n",
        "breakpoint()\n",
        "b = 2\n",
        "print(b)\n",
        "breakpoint()\n",
        "c= 3\n",
        "print(c)"
      ],
      "metadata": {
        "colab": {
          "base_uri": "https://localhost:8080/"
        },
        "id": "VzB6j0dFTkBi",
        "outputId": "cafcebee-3cc3-4dcc-b2b2-b1f5135d3843"
      },
      "execution_count": null,
      "outputs": [
        {
          "name": "stdout",
          "output_type": "stream",
          "text": [
            "1\n",
            "--Return--\n",
            "None\n",
            "> \u001b[0;32m<ipython-input-2-4f65590db4af>\u001b[0m(3)\u001b[0;36m<cell line: 3>\u001b[0;34m()\u001b[0m\n",
            "\u001b[0;32m      1 \u001b[0;31m\u001b[0ma\u001b[0m \u001b[0;34m=\u001b[0m \u001b[0;36m1\u001b[0m\u001b[0;34m\u001b[0m\u001b[0;34m\u001b[0m\u001b[0m\n",
            "\u001b[0m\u001b[0;32m      2 \u001b[0;31m\u001b[0mprint\u001b[0m\u001b[0;34m(\u001b[0m\u001b[0ma\u001b[0m\u001b[0;34m)\u001b[0m\u001b[0;34m\u001b[0m\u001b[0;34m\u001b[0m\u001b[0m\n",
            "\u001b[0m\u001b[0;32m----> 3 \u001b[0;31m\u001b[0mbreakpoint\u001b[0m\u001b[0;34m(\u001b[0m\u001b[0;34m)\u001b[0m\u001b[0;34m\u001b[0m\u001b[0;34m\u001b[0m\u001b[0m\n",
            "\u001b[0m\u001b[0;32m      4 \u001b[0;31m\u001b[0mb\u001b[0m \u001b[0;34m=\u001b[0m \u001b[0;36m2\u001b[0m\u001b[0;34m\u001b[0m\u001b[0;34m\u001b[0m\u001b[0m\n",
            "\u001b[0m\u001b[0;32m      5 \u001b[0;31m\u001b[0mprint\u001b[0m\u001b[0;34m(\u001b[0m\u001b[0mb\u001b[0m\u001b[0;34m)\u001b[0m\u001b[0;34m\u001b[0m\u001b[0;34m\u001b[0m\u001b[0m\n",
            "\u001b[0m\n",
            "ipdb> p a\n",
            "1\n",
            "ipdb> c\n",
            "2\n",
            "--Return--\n",
            "None\n",
            "> \u001b[0;32m<ipython-input-2-4f65590db4af>\u001b[0m(6)\u001b[0;36m<cell line: 6>\u001b[0;34m()\u001b[0m\n",
            "\u001b[0;32m      4 \u001b[0;31m\u001b[0mb\u001b[0m \u001b[0;34m=\u001b[0m \u001b[0;36m2\u001b[0m\u001b[0;34m\u001b[0m\u001b[0;34m\u001b[0m\u001b[0m\n",
            "\u001b[0m\u001b[0;32m      5 \u001b[0;31m\u001b[0mprint\u001b[0m\u001b[0;34m(\u001b[0m\u001b[0mb\u001b[0m\u001b[0;34m)\u001b[0m\u001b[0;34m\u001b[0m\u001b[0;34m\u001b[0m\u001b[0m\n",
            "\u001b[0m\u001b[0;32m----> 6 \u001b[0;31m\u001b[0mbreakpoint\u001b[0m\u001b[0;34m(\u001b[0m\u001b[0;34m)\u001b[0m\u001b[0;34m\u001b[0m\u001b[0;34m\u001b[0m\u001b[0m\n",
            "\u001b[0m\u001b[0;32m      7 \u001b[0;31m\u001b[0mc\u001b[0m\u001b[0;34m=\u001b[0m \u001b[0;36m3\u001b[0m\u001b[0;34m\u001b[0m\u001b[0;34m\u001b[0m\u001b[0m\n",
            "\u001b[0m\u001b[0;32m      8 \u001b[0;31m\u001b[0mprint\u001b[0m\u001b[0;34m(\u001b[0m\u001b[0mc\u001b[0m\u001b[0;34m)\u001b[0m\u001b[0;34m\u001b[0m\u001b[0;34m\u001b[0m\u001b[0m\n",
            "\u001b[0m\n",
            "ipdb> q\n"
          ]
        },
        {
          "output_type": "stream",
          "name": "stderr",
          "text": [
            "\n",
            "PYDEV DEBUGGER WARNING:\n",
            "sys.settrace() should not be used when the debugger is being used.\n",
            "This may cause the debugger to stop working correctly.\n",
            "If this is needed, please check: \n",
            "http://pydev.blogspot.com/2007/06/why-cant-pydev-debugger-work-with.html\n",
            "to see how to restore the debug tracing back correctly.\n",
            "Call Location:\n",
            "  File \"/usr/lib/python3.10/bdb.py\", line 361, in set_quit\n",
            "    sys.settrace(None)\n",
            "\n"
          ]
        }
      ]
    },
    {
      "cell_type": "markdown",
      "source": [
        "**2. With ipdb**"
      ],
      "metadata": {
        "id": "H_trnL5_Hh63"
      }
    },
    {
      "cell_type": "code",
      "source": [
        "!pip install -Uqq ipdb\n",
        "import ipdb"
      ],
      "metadata": {
        "colab": {
          "base_uri": "https://localhost:8080/"
        },
        "id": "rHik0Ae5HsVA",
        "outputId": "c027660a-f4cf-4495-de4b-0a5a3517f9b4"
      },
      "execution_count": null,
      "outputs": [
        {
          "output_type": "stream",
          "name": "stdout",
          "text": [
            "\u001b[2K     \u001b[90m━━━━━━━━━━━━━━━━━━━━━━━━━━━━━━━━━━━━━━━━\u001b[0m \u001b[32m1.6/1.6 MB\u001b[0m \u001b[31m7.2 MB/s\u001b[0m eta \u001b[36m0:00:00\u001b[0m\n",
            "\u001b[?25h"
          ]
        }
      ]
    },
    {
      "cell_type": "code",
      "source": [
        "a = 1\n",
        "print(a)\n",
        "ipdb.set_trace()\n",
        "b = 2\n",
        "print(b)\n",
        "ipdb.set_trace()\n",
        "c= 3\n",
        "print(c)"
      ],
      "metadata": {
        "colab": {
          "base_uri": "https://localhost:8080/"
        },
        "id": "o62mUVUsKuXw",
        "outputId": "7b5de4c0-e06b-4373-90aa-b9802261cfe2"
      },
      "execution_count": null,
      "outputs": [
        {
          "output_type": "stream",
          "name": "stdout",
          "text": [
            "1\n",
            "--Return--\n",
            "None\n",
            "> \u001b[0;32m<ipython-input-9-c42e8409ca97>\u001b[0m(3)\u001b[0;36m<cell line: 3>\u001b[0;34m()\u001b[0m\n",
            "\u001b[0;32m      2 \u001b[0;31m\u001b[0mprint\u001b[0m\u001b[0;34m(\u001b[0m\u001b[0ma\u001b[0m\u001b[0;34m)\u001b[0m\u001b[0;34m\u001b[0m\u001b[0;34m\u001b[0m\u001b[0m\n",
            "\u001b[0m\u001b[0;32m----> 3 \u001b[0;31m\u001b[0mipdb\u001b[0m\u001b[0;34m.\u001b[0m\u001b[0mset_trace\u001b[0m\u001b[0;34m(\u001b[0m\u001b[0;34m)\u001b[0m\u001b[0;34m\u001b[0m\u001b[0;34m\u001b[0m\u001b[0m\n",
            "\u001b[0m\u001b[0;32m      4 \u001b[0;31m\u001b[0mb\u001b[0m \u001b[0;34m=\u001b[0m \u001b[0;36m2\u001b[0m\u001b[0;34m\u001b[0m\u001b[0;34m\u001b[0m\u001b[0m\n",
            "\u001b[0m\n",
            "ipdb> c\n",
            "2\n",
            "--Return--\n",
            "None\n",
            "> \u001b[0;32m<ipython-input-9-c42e8409ca97>\u001b[0m(6)\u001b[0;36m<cell line: 6>\u001b[0;34m()\u001b[0m\n",
            "\u001b[0;32m      5 \u001b[0;31m\u001b[0mprint\u001b[0m\u001b[0;34m(\u001b[0m\u001b[0mb\u001b[0m\u001b[0;34m)\u001b[0m\u001b[0;34m\u001b[0m\u001b[0;34m\u001b[0m\u001b[0m\n",
            "\u001b[0m\u001b[0;32m----> 6 \u001b[0;31m\u001b[0mipdb\u001b[0m\u001b[0;34m.\u001b[0m\u001b[0mset_trace\u001b[0m\u001b[0;34m(\u001b[0m\u001b[0;34m)\u001b[0m\u001b[0;34m\u001b[0m\u001b[0;34m\u001b[0m\u001b[0m\n",
            "\u001b[0m\u001b[0;32m      7 \u001b[0;31m\u001b[0mc\u001b[0m\u001b[0;34m=\u001b[0m \u001b[0;36m3\u001b[0m\u001b[0;34m\u001b[0m\u001b[0;34m\u001b[0m\u001b[0m\n",
            "\u001b[0m\n",
            "ipdb> c\n",
            "3\n"
          ]
        }
      ]
    },
    {
      "cell_type": "markdown",
      "source": [
        "**3. With pdb**"
      ],
      "metadata": {
        "id": "ads0sfYrK8Jw"
      }
    },
    {
      "cell_type": "code",
      "source": [
        "import pdb\n",
        "\n",
        "a = 1\n",
        "print(a)\n",
        "pdb.set_trace()\n",
        "b = 2\n",
        "print(b)\n",
        "pdb.set_trace()\n",
        "c= 3\n",
        "print(c)"
      ],
      "metadata": {
        "colab": {
          "base_uri": "https://localhost:8080/"
        },
        "id": "4LGfwI2tK6vr",
        "outputId": "a3ed8fec-3ac0-4c87-8ff6-1639276c2f3f"
      },
      "execution_count": null,
      "outputs": [
        {
          "output_type": "stream",
          "name": "stderr",
          "text": [
            "\n",
            "PYDEV DEBUGGER WARNING:\n",
            "sys.settrace() should not be used when the debugger is being used.\n",
            "This may cause the debugger to stop working correctly.\n",
            "If this is needed, please check: \n",
            "http://pydev.blogspot.com/2007/06/why-cant-pydev-debugger-work-with.html\n",
            "to see how to restore the debug tracing back correctly.\n",
            "Call Location:\n",
            "  File \"/usr/lib/python3.10/bdb.py\", line 336, in set_trace\n",
            "    sys.settrace(self.trace_dispatch)\n",
            "\n"
          ]
        },
        {
          "name": "stdout",
          "output_type": "stream",
          "text": [
            "1\n",
            "--Return--\n",
            "None\n",
            "> \u001b[0;32m<ipython-input-1-3e2302da7f44>\u001b[0m(5)\u001b[0;36m<cell line: 5>\u001b[0;34m()\u001b[0m\n",
            "\u001b[0;32m      3 \u001b[0;31m\u001b[0ma\u001b[0m \u001b[0;34m=\u001b[0m \u001b[0;36m1\u001b[0m\u001b[0;34m\u001b[0m\u001b[0;34m\u001b[0m\u001b[0m\n",
            "\u001b[0m\u001b[0;32m      4 \u001b[0;31m\u001b[0mprint\u001b[0m\u001b[0;34m(\u001b[0m\u001b[0ma\u001b[0m\u001b[0;34m)\u001b[0m\u001b[0;34m\u001b[0m\u001b[0;34m\u001b[0m\u001b[0m\n",
            "\u001b[0m\u001b[0;32m----> 5 \u001b[0;31m\u001b[0mpdb\u001b[0m\u001b[0;34m.\u001b[0m\u001b[0mset_trace\u001b[0m\u001b[0;34m(\u001b[0m\u001b[0;34m)\u001b[0m\u001b[0;34m\u001b[0m\u001b[0;34m\u001b[0m\u001b[0m\n",
            "\u001b[0m\u001b[0;32m      6 \u001b[0;31m\u001b[0mb\u001b[0m \u001b[0;34m=\u001b[0m \u001b[0;36m2\u001b[0m\u001b[0;34m\u001b[0m\u001b[0;34m\u001b[0m\u001b[0m\n",
            "\u001b[0m\u001b[0;32m      7 \u001b[0;31m\u001b[0mprint\u001b[0m\u001b[0;34m(\u001b[0m\u001b[0mb\u001b[0m\u001b[0;34m)\u001b[0m\u001b[0;34m\u001b[0m\u001b[0;34m\u001b[0m\u001b[0m\n",
            "\u001b[0m\n",
            "ipdb> p a\n",
            "1\n",
            "ipdb> c\n"
          ]
        },
        {
          "output_type": "stream",
          "name": "stderr",
          "text": [
            "\n",
            "PYDEV DEBUGGER WARNING:\n",
            "sys.settrace() should not be used when the debugger is being used.\n",
            "This may cause the debugger to stop working correctly.\n",
            "If this is needed, please check: \n",
            "http://pydev.blogspot.com/2007/06/why-cant-pydev-debugger-work-with.html\n",
            "to see how to restore the debug tracing back correctly.\n",
            "Call Location:\n",
            "  File \"/usr/lib/python3.10/bdb.py\", line 347, in set_continue\n",
            "    sys.settrace(None)\n",
            "\n"
          ]
        },
        {
          "output_type": "stream",
          "name": "stdout",
          "text": [
            "2\n",
            "--Return--\n",
            "None\n",
            "> \u001b[0;32m<ipython-input-1-3e2302da7f44>\u001b[0m(8)\u001b[0;36m<cell line: 8>\u001b[0;34m()\u001b[0m\n",
            "\u001b[0;32m      6 \u001b[0;31m\u001b[0mb\u001b[0m \u001b[0;34m=\u001b[0m \u001b[0;36m2\u001b[0m\u001b[0;34m\u001b[0m\u001b[0;34m\u001b[0m\u001b[0m\n",
            "\u001b[0m\u001b[0;32m      7 \u001b[0;31m\u001b[0mprint\u001b[0m\u001b[0;34m(\u001b[0m\u001b[0mb\u001b[0m\u001b[0;34m)\u001b[0m\u001b[0;34m\u001b[0m\u001b[0;34m\u001b[0m\u001b[0m\n",
            "\u001b[0m\u001b[0;32m----> 8 \u001b[0;31m\u001b[0mpdb\u001b[0m\u001b[0;34m.\u001b[0m\u001b[0mset_trace\u001b[0m\u001b[0;34m(\u001b[0m\u001b[0;34m)\u001b[0m\u001b[0;34m\u001b[0m\u001b[0;34m\u001b[0m\u001b[0m\n",
            "\u001b[0m\u001b[0;32m      9 \u001b[0;31m\u001b[0mc\u001b[0m\u001b[0;34m=\u001b[0m \u001b[0;36m3\u001b[0m\u001b[0;34m\u001b[0m\u001b[0;34m\u001b[0m\u001b[0m\n",
            "\u001b[0m\u001b[0;32m     10 \u001b[0;31m\u001b[0mprint\u001b[0m\u001b[0;34m(\u001b[0m\u001b[0mc\u001b[0m\u001b[0;34m)\u001b[0m\u001b[0;34m\u001b[0m\u001b[0;34m\u001b[0m\u001b[0m\n",
            "\u001b[0m\n",
            "ipdb> p b\n",
            "2\n",
            "ipdb> c\n",
            "3\n"
          ]
        }
      ]
    },
    {
      "cell_type": "markdown",
      "source": [
        "## Function\n",
        "\n",
        "Function returns multiple values:"
      ],
      "metadata": {
        "id": "txLCJxSm9G1Q"
      }
    },
    {
      "cell_type": "code",
      "source": [
        "def add_two(a,b):\n",
        "  return a, b, a+b\n",
        "\n",
        "x,y,z = add_two(2,3)\n",
        "print('The value of two numbers and their sum is {}+{}={}!'.format(x,y,z))"
      ],
      "metadata": {
        "colab": {
          "base_uri": "https://localhost:8080/"
        },
        "id": "DTavTYak8plj",
        "outputId": "79241370-6cc1-425a-99eb-12419a663526"
      },
      "execution_count": null,
      "outputs": [
        {
          "output_type": "stream",
          "name": "stdout",
          "text": [
            "The value of two numbers and their sum is 2+3=5!\n"
          ]
        }
      ]
    },
    {
      "cell_type": "markdown",
      "source": [
        "## Class\n",
        "\n"
      ],
      "metadata": {
        "id": "WPhynUgpGrsZ"
      }
    },
    {
      "cell_type": "markdown",
      "source": [
        "### Define a class\n",
        "\n",
        "Including __init__, and other methods."
      ],
      "metadata": {
        "id": "k941tCgUJgj0"
      }
    },
    {
      "cell_type": "code",
      "source": [
        "class Ellipse:\n",
        "  def __init__(self, w, h): # don't forget 'self'!!\n",
        "    self.width = w\n",
        "    self.height = h\n",
        "  def calculate_area(self): # no parameter\n",
        "    return 3.14159 * self.width * self.height\n",
        "  def scale(self, s): # one parameter\n",
        "    self.width = self.width * s\n",
        "    self.height = self.height * s"
      ],
      "metadata": {
        "id": "eAQ0lL6_HAAc"
      },
      "execution_count": null,
      "outputs": []
    },
    {
      "cell_type": "markdown",
      "source": [
        "### Create an object\n",
        "\n",
        "Call methods."
      ],
      "metadata": {
        "id": "rNLkI_vTJYET"
      }
    },
    {
      "cell_type": "code",
      "source": [
        "ell = Ellipse(3, 4) # two argument, width = 3\n",
        "print('Area:'+ str(ell.calculate_area()) ) # str(): number to string\n",
        "ell.scale(2)\n",
        "print('Scale it, width='+str(ell.width))"
      ],
      "metadata": {
        "colab": {
          "base_uri": "https://localhost:8080/"
        },
        "id": "qhjhHhofJqgh",
        "outputId": "52a5a890-88cf-4a8a-c989-4d22f0dc0aeb"
      },
      "execution_count": null,
      "outputs": [
        {
          "output_type": "stream",
          "name": "stdout",
          "text": [
            "Area:37.699079999999995\n",
            "Scale it, width=6\n"
          ]
        }
      ]
    },
    {
      "cell_type": "markdown",
      "source": [
        "### Examples of Class"
      ],
      "metadata": {
        "id": "-bnIy8RhNmC7"
      }
    },
    {
      "cell_type": "markdown",
      "source": [
        "#### Sort an object based on its attribute\n",
        "Sort based on width\n",
        "\n"
      ],
      "metadata": {
        "id": "TyBA9r1ahZFr"
      }
    },
    {
      "cell_type": "code",
      "source": [
        "class Ellipse:\n",
        "  def __init__(self, w, h):\n",
        "    self.width = w\n",
        "    self.height = h\n",
        "\n",
        "# a helper funciton\n",
        "def get_width(obj):\n",
        "  return obj.width"
      ],
      "metadata": {
        "id": "AqE0FkCkiFrk"
      },
      "execution_count": null,
      "outputs": []
    },
    {
      "cell_type": "code",
      "source": [
        "ell3 = Ellipse(3, 4)\n",
        "ell9 = Ellipse(9, 4)\n",
        "ell5 = Ellipse(5, 4)\n",
        "ell_all = [ell3, ell9, ell5]\n",
        "\n",
        "ell_all.sort(key = get_width) # key is the name of the helper func\n",
        "for tmp in ell_all: # visit each sorted obj, show width\n",
        "  print('Width=',tmp.width)"
      ],
      "metadata": {
        "colab": {
          "base_uri": "https://localhost:8080/"
        },
        "id": "GWGX5Z59hmVC",
        "outputId": "8d9ef3d7-29b9-4b30-ae3c-e061e6e4127d"
      },
      "execution_count": null,
      "outputs": [
        {
          "output_type": "stream",
          "name": "stdout",
          "text": [
            "Width= 3\n",
            "Width= 5\n",
            "Width= 9\n"
          ]
        }
      ]
    },
    {
      "cell_type": "code",
      "source": [
        "ell_all.sort(key = get_width, reverse=True) # descend order\n",
        "for tmp in ell_all:\n",
        "  print('Width=',tmp.width)"
      ],
      "metadata": {
        "colab": {
          "base_uri": "https://localhost:8080/"
        },
        "id": "5qMmJ7w_SjtJ",
        "outputId": "6802b2bd-a25b-4c92-da8d-6dd3d71d84e3"
      },
      "execution_count": null,
      "outputs": [
        {
          "output_type": "stream",
          "name": "stdout",
          "text": [
            "Width= 9\n",
            "Width= 5\n",
            "Width= 3\n"
          ]
        }
      ]
    },
    {
      "cell_type": "markdown",
      "source": [
        "#### Class B's method creates Class A's object within it\n",
        "\n",
        "In this code:\n",
        "\n",
        "* ClassA has an __init__ method that initializes a message attribute and a display_message method that returns the message.\n",
        "* ClassB has a method create_class_a_object that creates and returns a new instance of ClassA.\n",
        "* An instance of ClassB is created, and its create_class_a_object method is called to create an instance of ClassA.\n",
        "* The display_message method of the ClassA instance is called to demonstrate that the object has been successfully created and is functioning as expected.\n"
      ],
      "metadata": {
        "id": "_bu7s0ZfL2bc"
      }
    },
    {
      "cell_type": "code",
      "source": [
        "class ClassA:\n",
        "    def __init__(self):\n",
        "        self.message = \"Object of Class A\"\n",
        "\n",
        "    def display_message(self):\n",
        "        return self.message\n",
        "\n",
        "\n",
        "class ClassB:\n",
        "    def create_class_a_object(self):\n",
        "        # Creating an object of ClassA inside a ClassB method\n",
        "        class_a_object = ClassA()\n",
        "        return class_a_object\n",
        "\n",
        "\n",
        "# Using ClassB to create an object of ClassA\n",
        "b = ClassB()\n",
        "a = b.create_class_a_object()  # a is now an object of ClassA\n",
        "\n",
        "# Demonstrating that 'a' is indeed an instance of ClassA\n",
        "print(a.display_message())  # Outputs: \"Object of Class A\"\n"
      ],
      "metadata": {
        "colab": {
          "base_uri": "https://localhost:8080/"
        },
        "id": "isGvjiacMAgP",
        "outputId": "987b8e88-4627-49c8-8eea-52ad9f495015"
      },
      "execution_count": null,
      "outputs": [
        {
          "output_type": "stream",
          "name": "stdout",
          "text": [
            "Object of Class A\n"
          ]
        }
      ]
    },
    {
      "cell_type": "markdown",
      "source": [
        "## Format output\n",
        "\n",
        "(reference:\n",
        "* https://docs.python.org/3/library/string.html#formatspec\n",
        "* https://realpython.com/python-modulo-string-formatting/\n",
        "* https://realpython.com/python-format-mini-language/)\n",
        "\n",
        "**Format mini-language** defines the syntax of a format specifier.\n",
        "\n",
        "**String interpolation**: embed/insert values and objects into your string to dynamically build a new string.\n",
        "\n",
        "Three tools for string interpolation\n",
        "\n",
        "\n",
        "1.   modulo operator (%)\n",
        "2.   f-string literals\n",
        "3.   str.format() method\n",
        "\n",
        "\n",
        "\n"
      ],
      "metadata": {
        "id": "9oMbZlrqERCr"
      }
    },
    {
      "cell_type": "markdown",
      "source": [
        "### 1. modulo operator\n",
        "\n",
        "The first string interpolation tool in Python. Unfortunately, it doesn’t provide many string formatting features.\n",
        "\n",
        "Syntax: *format_string % values*"
      ],
      "metadata": {
        "id": "hCxV9JgRoEjg"
      }
    },
    {
      "cell_type": "code",
      "source": [
        "print(\"%d %s cost me %.2f dollars!\" % (3, \"books\", 66.1234))"
      ],
      "metadata": {
        "colab": {
          "base_uri": "https://localhost:8080/"
        },
        "id": "0jCV9hlGp_YL",
        "outputId": "6e2bf8f8-cf5f-4987-d0df-ef0eb9e39b90"
      },
      "execution_count": null,
      "outputs": [
        {
          "output_type": "stream",
          "name": "stdout",
          "text": [
            "3 books cost me 66.12 dollars!\n"
          ]
        }
      ]
    },
    {
      "cell_type": "markdown",
      "source": [
        "* The first item in the tuple is 3, a numeric value that replaces %d in the format string.\n",
        "* The next item is the string value \"books\", which replaces %s.\n",
        "* The last item is the float value 66.1234, which replaces %.2f. As .2 specify the precision of floating-point is 2, so output shows 66.12 rather than 66.1234"
      ],
      "metadata": {
        "id": "VmisDvnB3JwE"
      }
    },
    {
      "cell_type": "markdown",
      "source": [
        "### 2. f-string\n",
        "An f-string is a **string literal** prefixed with an f."
      ],
      "metadata": {
        "id": "ZW8ybux7nUYr"
      }
    },
    {
      "cell_type": "markdown",
      "source": [
        "Formatted string literal, or f-string, is quite a popular tool for string interpolation and formatting.\n",
        "\n",
        "F-string literals start with f or F.\n",
        "\n",
        "To interpolate a value into an f-string, you need replacement fields. The **replacement fields** are delimited by a pair of curly brackets ({})."
      ],
      "metadata": {
        "id": "CmsdoudftZJ3"
      }
    },
    {
      "cell_type": "code",
      "execution_count": null,
      "metadata": {
        "colab": {
          "base_uri": "https://localhost:8080/"
        },
        "id": "U3z5HfnyEOmC",
        "outputId": "5a81f798-ef3f-4f1c-995c-dba6fd600066"
      },
      "outputs": [
        {
          "output_type": "stream",
          "name": "stdout",
          "text": [
            "Account 1 balance is $23.00\n"
          ]
        }
      ],
      "source": [
        "acc = 1\n",
        "bal = 23.0\n",
        "print(f'Account {acc} balance is ${bal:.2f}')"
      ]
    },
    {
      "cell_type": "markdown",
      "source": [
        "You may wonder what this \":.2f\" means. That's **format specifiers**.\n",
        "\n",
        "You can **use format specifiers within replacement fields** to format the object that you want to interpolate into your strings.\n",
        "\n",
        "The syntax is considered a whole mini-language."
      ],
      "metadata": {
        "id": "RbjPf1hlrDuo"
      }
    },
    {
      "cell_type": "markdown",
      "source": [
        "\n",
        "\n",
        "![image.png](data:image/png;base64,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)"
      ],
      "metadata": {
        "id": "-hOlPhUur6em"
      }
    },
    {
      "cell_type": "markdown",
      "source": [
        "### format specifier\n",
        "\n",
        "#### format specifier: **[width][precision][Type]**\n",
        "\n",
        "Type: b for Binary, converts the number to based 2"
      ],
      "metadata": {
        "id": "heCuF3gAFBb1"
      }
    },
    {
      "cell_type": "code",
      "source": [
        "num1 = 3\n",
        "f'Transfer decimal value {num1} into Binary is {num1:b}'"
      ],
      "metadata": {
        "colab": {
          "base_uri": "https://localhost:8080/",
          "height": 35
        },
        "id": "blQv3J0Y0YoZ",
        "outputId": "800651c8-f2c4-4a74-c21e-d4e0d3dc3581"
      },
      "execution_count": null,
      "outputs": [
        {
          "output_type": "execute_result",
          "data": {
            "text/plain": [
              "'Transfer decimal value 3 into Binary is 11'"
            ],
            "application/vnd.google.colaboratory.intrinsic+json": {
              "type": "string"
            }
          },
          "metadata": {},
          "execution_count": 16
        }
      ]
    },
    {
      "cell_type": "code",
      "source": [
        "res = 1/3 # 0.333333333333\n",
        "f'Number:{res:7.2f}'\n",
        "#:7.2f-->Type f for float, width = 7, precision = 2, right aligned (default for number)"
      ],
      "metadata": {
        "colab": {
          "base_uri": "https://localhost:8080/",
          "height": 35
        },
        "id": "VBImMhXZFPLs",
        "outputId": "ee7e92a3-1e94-4b84-c250-5c90a45aad8c"
      },
      "execution_count": null,
      "outputs": [
        {
          "output_type": "execute_result",
          "data": {
            "text/plain": [
              "'Number:   0.33'"
            ],
            "application/vnd.google.colaboratory.intrinsic+json": {
              "type": "string"
            }
          },
          "metadata": {},
          "execution_count": 3
        }
      ]
    },
    {
      "cell_type": "code",
      "source": [
        "num = 123\n",
        "f'Number:{num:7d}'\n",
        "#:7d--> Type d for decimal integer, width = 7, right aligned (default for number)"
      ],
      "metadata": {
        "colab": {
          "base_uri": "https://localhost:8080/",
          "height": 35
        },
        "id": "op1u_zy8vG1J",
        "outputId": "9e618e73-acc8-44ee-9969-fecd88223a7e"
      },
      "execution_count": null,
      "outputs": [
        {
          "output_type": "execute_result",
          "data": {
            "text/plain": [
              "'Number:    123'"
            ],
            "application/vnd.google.colaboratory.intrinsic+json": {
              "type": "string"
            }
          },
          "metadata": {},
          "execution_count": 4
        }
      ]
    },
    {
      "cell_type": "code",
      "source": [
        "f'{\"Hello\":8s}'\n",
        "#:8s--> Type s for string, width = 8, left aligned (default for string)"
      ],
      "metadata": {
        "colab": {
          "base_uri": "https://localhost:8080/",
          "height": 35
        },
        "id": "-_y3D1aEGavu",
        "outputId": "077fdb8c-8359-4bae-906e-17910f94888e"
      },
      "execution_count": null,
      "outputs": [
        {
          "output_type": "execute_result",
          "data": {
            "text/plain": [
              "'Hello   '"
            ],
            "application/vnd.google.colaboratory.intrinsic+json": {
              "type": "string"
            }
          },
          "metadata": {},
          "execution_count": 11
        }
      ]
    },
    {
      "cell_type": "markdown",
      "source": [
        "#### format specifier: **[align]**\n",
        "\n",
        "< for left, > for right, if not using default:"
      ],
      "metadata": {
        "id": "PDuVwgN0wwhM"
      }
    },
    {
      "cell_type": "code",
      "source": [
        "num = 123\n",
        "f'Number:{num:<7d}'\n",
        "#:7d--> d for integer, width = 7, force to LEFT aligned (default right for number)"
      ],
      "metadata": {
        "colab": {
          "base_uri": "https://localhost:8080/",
          "height": 35
        },
        "outputId": "dc2b67ff-1470-4124-b094-6b8acd6c50d2",
        "id": "n1CzpsHsxAMQ"
      },
      "execution_count": null,
      "outputs": [
        {
          "output_type": "execute_result",
          "data": {
            "text/plain": [
              "'Number:123    '"
            ],
            "application/vnd.google.colaboratory.intrinsic+json": {
              "type": "string"
            }
          },
          "metadata": {},
          "execution_count": 6
        }
      ]
    },
    {
      "cell_type": "code",
      "source": [
        "f'{\"Hello\":>8s}'\n",
        "#:8s--> s for string, width = 8, force to RIGHT aligned (default left for string)"
      ],
      "metadata": {
        "colab": {
          "base_uri": "https://localhost:8080/",
          "height": 36
        },
        "outputId": "d9442ce2-9623-466d-8c64-6fb90ee4eb25",
        "id": "KlEx5Os3xAMR"
      },
      "execution_count": null,
      "outputs": [
        {
          "output_type": "execute_result",
          "data": {
            "text/plain": [
              "'Hello   '"
            ],
            "application/vnd.google.colaboratory.intrinsic+json": {
              "type": "string"
            }
          },
          "metadata": {},
          "execution_count": 7
        }
      ]
    },
    {
      "cell_type": "markdown",
      "source": [
        "Please pay attention to the order! [align] before [width]"
      ],
      "metadata": {
        "id": "646L9mILxR0J"
      }
    },
    {
      "cell_type": "markdown",
      "source": [
        "#### format specifier: **[grouping_option]**\n",
        "\n",
        "group numeric values conveniently and improve readability."
      ],
      "metadata": {
        "id": "quTlC00SwJGA"
      }
    },
    {
      "cell_type": "code",
      "source": [
        "looooong_num = 123456789\n",
        "f'Long number:{looooong_num:,}'"
      ],
      "metadata": {
        "colab": {
          "base_uri": "https://localhost:8080/",
          "height": 35
        },
        "id": "otX-A4RewTZr",
        "outputId": "2baf9c03-8fb8-4d1e-990b-70ece6a5c037"
      },
      "execution_count": null,
      "outputs": [
        {
          "output_type": "execute_result",
          "data": {
            "text/plain": [
              "'Long number:123,456,789'"
            ],
            "application/vnd.google.colaboratory.intrinsic+json": {
              "type": "string"
            }
          },
          "metadata": {},
          "execution_count": 5
        }
      ]
    },
    {
      "cell_type": "markdown",
      "source": [
        "#### format specifier: **[sign]**\n",
        "\n",
        "+:  a sign should be used for both positive and negative numbers\n",
        "\n",
        "-: a sign should be used only for negative numbers (default behaviour)\n",
        "\n",
        "space: a leading space should be used on positive numbers and a minus sign on negative numbers"
      ],
      "metadata": {
        "id": "u48DZny0trKN"
      }
    },
    {
      "cell_type": "code",
      "source": [
        "pos_num = 88\n",
        "neg_num = -10\n",
        "f'first:{pos_num:+}, second:{neg_num:+}' # + --> a sign should be used!"
      ],
      "metadata": {
        "colab": {
          "base_uri": "https://localhost:8080/",
          "height": 35
        },
        "id": "C4F7RPyJxiLA",
        "outputId": "eca86d63-d071-4d4f-f2c1-c22cb57875fe"
      },
      "execution_count": null,
      "outputs": [
        {
          "output_type": "execute_result",
          "data": {
            "text/plain": [
              "'first:+88, second:-10'"
            ],
            "application/vnd.google.colaboratory.intrinsic+json": {
              "type": "string"
            }
          },
          "metadata": {},
          "execution_count": 9
        }
      ]
    },
    {
      "cell_type": "code",
      "source": [
        "f'first:{pos_num:-}, second:{neg_num:-}'# - --> a sign only for negative!"
      ],
      "metadata": {
        "colab": {
          "base_uri": "https://localhost:8080/",
          "height": 35
        },
        "id": "DNTLiNFQxyWu",
        "outputId": "32429d24-5f93-47a7-b179-21ea95eb17e3"
      },
      "execution_count": null,
      "outputs": [
        {
          "output_type": "execute_result",
          "data": {
            "text/plain": [
              "'first:88, second:-10'"
            ],
            "application/vnd.google.colaboratory.intrinsic+json": {
              "type": "string"
            }
          },
          "metadata": {},
          "execution_count": 10
        }
      ]
    },
    {
      "cell_type": "code",
      "source": [
        "f'first:{pos_num: }, second:{neg_num: }'# space --> leading space for pos, minus sign for neg"
      ],
      "metadata": {
        "colab": {
          "base_uri": "https://localhost:8080/",
          "height": 35
        },
        "id": "1pKg3P2XyQVx",
        "outputId": "1aa3abd5-79e5-4265-a2fd-c110a87a8e5b"
      },
      "execution_count": null,
      "outputs": [
        {
          "output_type": "execute_result",
          "data": {
            "text/plain": [
              "'first: 88, second:-10'"
            ],
            "application/vnd.google.colaboratory.intrinsic+json": {
              "type": "string"
            }
          },
          "metadata": {},
          "execution_count": 17
        }
      ]
    },
    {
      "cell_type": "markdown",
      "source": [
        "**Grammer of f-string**\n",
        "\n",
        "start with f, followed by a single pair of quotes.\n",
        "\n",
        "* The string without formatted?\n",
        "\n",
        "> Just leave it within this pair of quotes.\n",
        "\n",
        "* With formatted?\n",
        "\n",
        "\n",
        "\n",
        "> Insert content into {:}, put format specifier on right of : . Then, for the left of :\n",
        "\n",
        "\n",
        "> - a string, enclosed with a pair of double quotes\n",
        "> - a number, put its name\n",
        "\n",
        "\n",
        "Example: Format output for both string and number within a f-string:\n",
        "\n",
        "* string: \"Total price\", width is 20.\n",
        "* number: stored in variable total_value, 2 decimal places\n"
      ],
      "metadata": {
        "id": "Uh4mmNJJOtST"
      }
    },
    {
      "cell_type": "code",
      "source": [
        "total_value = 39.1811\n",
        "print( f'{\"Total price\":20s}: ${total_value:.2f}' )"
      ],
      "metadata": {
        "colab": {
          "base_uri": "https://localhost:8080/"
        },
        "id": "6XBQM4UYOst2",
        "outputId": "93fea131-16a6-4e23-c4dc-111e2643f17d"
      },
      "execution_count": null,
      "outputs": [
        {
          "output_type": "stream",
          "name": "stdout",
          "text": [
            "Total price         : $39.18\n"
          ]
        }
      ]
    },
    {
      "cell_type": "markdown",
      "source": [
        "Test your knowledge: a comprehensive example"
      ],
      "metadata": {
        "id": "Dkn0_3C7sYTH"
      }
    },
    {
      "cell_type": "code",
      "source": [
        "# Advanced example\n",
        "num_c = -123456789.5432\n",
        "# standard, num is placed between 'First part\"' and 'after'\n",
        "print(f'First part:{num_c}after')\n",
        "\n",
        "#[fill]:0; [align]:default(number is right align);\n",
        "#[sign]:default\n",
        "#[width]:20 -> (-000,000,123,456,790) takes 20\n",
        "#[grouping_option]: ,\n",
        "#[.precision]:0 ->0 digit for fractional part, aka, whole number. rounding on 789.54 will be 790\n",
        "#[type]:f\n",
        "print(f'First part:{num_c:=020,.0f}after') # use :=\n",
        "print(f'First part:{num_c:020,.0f}after') # use :"
      ],
      "metadata": {
        "colab": {
          "base_uri": "https://localhost:8080/"
        },
        "id": "5xR6dRO_J_gd",
        "outputId": "59b7c7b6-d2eb-41ad-fb81-bdac9de0708b"
      },
      "execution_count": null,
      "outputs": [
        {
          "output_type": "stream",
          "name": "stdout",
          "text": [
            "First part:-123456789.5432after\n",
            "First part:-000,000,123,456,790after\n",
            "First part:-000,000,123,456,790after\n"
          ]
        }
      ]
    },
    {
      "cell_type": "code",
      "source": [
        "#[fill]:no fill; [align]:default(number is right align);\n",
        "#[sign]:+\n",
        "#[width]:20\n",
        "#[grouping_option]: ,\n",
        "#[.precision]:0\n",
        "#[type]:f\n",
        "print(f'First part:{num_c*-1:=+20,.0f}after')\n",
        "# the value has been changed to a positive number by the expression num*(-1)"
      ],
      "metadata": {
        "id": "yzRFpM19JCkI",
        "colab": {
          "base_uri": "https://localhost:8080/"
        },
        "outputId": "610dea4c-20f6-499a-8d1e-b3a0eedb8040"
      },
      "execution_count": null,
      "outputs": [
        {
          "output_type": "stream",
          "name": "stdout",
          "text": [
            "First part:+        123,456,790after\n"
          ]
        }
      ]
    },
    {
      "cell_type": "markdown",
      "source": [
        "### 3. Str.format()\n",
        "\n",
        "It is a string method to interpolate values into your strings.\n",
        "\n",
        "Formats the specified value(s) and insert them inside the string's placeholder.\n",
        "\n",
        "format() inserts its arguments into the *replacement fields* and builds a final string."
      ],
      "metadata": {
        "id": "6T92fj8JOFJ7"
      }
    },
    {
      "cell_type": "code",
      "source": [
        "# A quick example: using different placeholder values\n",
        "txt1 = \"My name is {fname}, I'm {age}\".format(fname = \"Zijing\", age = 18)\n",
        "txt2 = \"My name is {0}, I'm {1}\".format(\"Zijing\",18)\n",
        "txt3 = \"My name is {}, I'm {}\".format(\"Zijing\",18)\n",
        "print(txt1)\n",
        "print(txt2)\n",
        "print(txt3)"
      ],
      "metadata": {
        "colab": {
          "base_uri": "https://localhost:8080/"
        },
        "id": "lFudjBf_OZsS",
        "outputId": "50013b8c-8620-41bb-f833-35fb91e84bda"
      },
      "execution_count": null,
      "outputs": [
        {
          "output_type": "stream",
          "name": "stdout",
          "text": [
            "My name is Zijing, I'm 18\n",
            "My name is Zijing, I'm 18\n",
            "My name is Zijing, I'm 18\n"
          ]
        }
      ]
    },
    {
      "cell_type": "markdown",
      "source": [
        "Combine **format specifiers** with str.format()"
      ],
      "metadata": {
        "id": "qIAII9HjORfz"
      }
    },
    {
      "cell_type": "code",
      "source": [
        "print(\"For only {price:.2f} dollars!\".format(price = 99.9))"
      ],
      "metadata": {
        "colab": {
          "base_uri": "https://localhost:8080/"
        },
        "id": "4arkeYJEPYpx",
        "outputId": "e1154c2d-ae3c-423b-841b-595260227744"
      },
      "execution_count": null,
      "outputs": [
        {
          "output_type": "stream",
          "name": "stdout",
          "text": [
            "For only 99.90 dollars!\n"
          ]
        }
      ]
    },
    {
      "cell_type": "markdown",
      "source": [
        "#### replacement fields\n",
        "\n",
        "The str.format() function can be used to accomplish similar things as F-strings. In particular, the format specification mini-language can still be used to control how data are printed to the screen.\n",
        "\n",
        "The difference lies in the optional **replacement fields**.\n",
        "\n",
        "Strings on which str.format() is called can contain replacement fields, **data contained in curly braces {}** that are operated on before being printed to the screen\n",
        "\n",
        "Similar to the format specification mini-language, there is also a grammar for replacement fields, which syntax is:\n",
        "\n",
        "**replacement_field ::= \"{\" [field_name] [\"!\" conversion] [\":\" format_spec] \"}\"**\n",
        "\n",
        "* field_name: thing to print\n",
        "* conversion and format_spec: how to print\n"
      ],
      "metadata": {
        "id": "K1Hsgju5KuUP"
      }
    },
    {
      "cell_type": "markdown",
      "source": [
        "In less formal terms, the replacement field can start with\n",
        "* a **field_name** that specifies the object whose value is to be formatted and inserted into the output instead of the replacement field.\n",
        "* The field_name is optionally followed by a **conversion**, which is preceded by an exclamation point '!',\n",
        "* and a **format_spec**, which is preceded by a colon ':'. These specify a non-default format for the replacement value.”\n",
        "\n",
        "Note that the basis of a replacement field is an object, not an expression (as it was in the F-strings). Putting an arbitrary expression into a replacement field will result in an error.\n"
      ],
      "metadata": {
        "id": "UeehyBSZ8y5S"
      }
    },
    {
      "cell_type": "markdown",
      "source": [
        "Also in less formal terms, the **field_name** can be one of three things:\n",
        "\n",
        "1. A keyword, in which case it refers to a named argument passed\n",
        "into the .format() function\n",
        "2. An integer, in which case it refers to a positional argument passed into the .format() function (as in, 0 refers to the first argument, 1 to the second, etc.)\n",
        "3. Blank, in which case it gets the next positional argument from the arguments to the .format() function in ascending numerical order\n",
        "\n",
        "That is, “{first} {second} {third}”.format(first=a, second=b, third=c) does the same thing as “{0} {1} {2}”.format(a, b, c)which in turn does the same thing as “{} {} {}”.format(a, b, c)\n"
      ],
      "metadata": {
        "id": "QRzf5ZR-9K-d"
      }
    },
    {
      "cell_type": "code",
      "source": [
        "# field_name\n",
        "a, b, c = 3, 1, 4\n",
        "print(\"{first}{second}{third}\".format(first = a, second=b, third = c)) # case 1\n",
        "print(\"{0}{1}{2}\".format(a, b, c)) # case 2\n",
        "print(\"{}{}{}\".format(a, b, c)) # case 3"
      ],
      "metadata": {
        "colab": {
          "base_uri": "https://localhost:8080/"
        },
        "id": "UbkzRYUn9fD1",
        "outputId": "c3a73768-572f-4b87-dd94-b0eb1846e7b9"
      },
      "execution_count": null,
      "outputs": [
        {
          "output_type": "stream",
          "name": "stdout",
          "text": [
            "314\n",
            "314\n",
            "314\n"
          ]
        }
      ]
    },
    {
      "cell_type": "markdown",
      "source": [
        "**conversion** is rarely used\n",
        "\n",
        "It can be one of three things:\n",
        "1. !s, the object is passed to the str()\n",
        "2. !r, the object is passed to the repr()\n",
        "3. !a, the object is passed to the ascii()\n",
        "\n",
        "The “default behaviour” is the same is what happens when you normally try to print a non-string value, which is to say the __format__ method of that object is called.\n",
        "\n",
        "repr() : returns a printable string describing the object that is passed in. A class can control what this function returns for its instances when called by defining a __repr__() dunder method.\n",
        "\n",
        "ascii(): returns a readable version of any objects. Replace any non-ascii characters with escape characters.\n"
      ],
      "metadata": {
        "id": "84EEcWfr-2VO"
      }
    },
    {
      "cell_type": "code",
      "source": [
        "x = ascii(\"My name is Stellå\")\n",
        "print(x)"
      ],
      "metadata": {
        "colab": {
          "base_uri": "https://localhost:8080/"
        },
        "id": "OyBUI84pEM-X",
        "outputId": "96acd668-c331-4f25-f44e-7bad2045b9e5"
      },
      "execution_count": null,
      "outputs": [
        {
          "output_type": "stream",
          "name": "stdout",
          "text": [
            "'My name is Stell\\xe5'\n"
          ]
        }
      ]
    },
    {
      "cell_type": "code",
      "source": [
        "print(\"Case 1--{!s}\".format(99.99)) # case 1\n",
        "print(\"Case 2--{!r}\".format('Stellå')) # case 2\n",
        "print(\"Case 3--{!a}\".format('Stellå')) # case 2"
      ],
      "metadata": {
        "colab": {
          "base_uri": "https://localhost:8080/"
        },
        "id": "o6myUAB5Cz9A",
        "outputId": "e01149e9-5d1e-40ba-d424-b19c1d637474"
      },
      "execution_count": null,
      "outputs": [
        {
          "output_type": "stream",
          "name": "stdout",
          "text": [
            "Case 1--99.99\n",
            "Case 2--'Stellå'\n",
            "Case 3--'Stell\\xe5'\n"
          ]
        }
      ]
    },
    {
      "cell_type": "markdown",
      "source": [
        "The **format_spec** argument is same as what we used in f-string.\n",
        "\n",
        "However, str.format() lets you do something pretty cool: format_spec field can have nested replacement fields in it!\n",
        "For example, print('{0:{width}{base}}'.format(num, base=base, width=width), end=‘ ‘)\n",
        "\n",
        "This makes the format string itself programmable, as in the example we saw a bit earlier\n"
      ],
      "metadata": {
        "id": "b_cGEsnS_nlQ"
      }
    },
    {
      "cell_type": "code",
      "source": [
        "width = 5\n",
        "for num in range(16):\n",
        "  for base in 'dxob':\n",
        "    print('{0:{width}{base}}'.format(num, base=base, width=width), end=' ')\n",
        "  print() # change to next line after inner for-loop\n"
      ],
      "metadata": {
        "colab": {
          "base_uri": "https://localhost:8080/"
        },
        "id": "WVg4GAjDLey_",
        "outputId": "dd90cf15-a6bd-4a1e-ee4c-1a12a790abc6"
      },
      "execution_count": null,
      "outputs": [
        {
          "output_type": "stream",
          "name": "stdout",
          "text": [
            "    0+    0+    0+    0+\n",
            "    1+    1+    1+    1+\n",
            "    2+    2+    2+   10+\n",
            "    3+    3+    3+   11+\n",
            "    4+    4+    4+  100+\n",
            "    5+    5+    5+  101+\n",
            "    6+    6+    6+  110+\n",
            "    7+    7+    7+  111+\n",
            "    8+    8+   10+ 1000+\n",
            "    9+    9+   11+ 1001+\n",
            "   10+    a+   12+ 1010+\n",
            "   11+    b+   13+ 1011+\n",
            "   12+    c+   14+ 1100+\n",
            "   13+    d+   15+ 1101+\n",
            "   14+    e+   16+ 1110+\n",
            "   15+    f+   17+ 1111+\n"
          ]
        }
      ]
    },
    {
      "cell_type": "markdown",
      "source": [
        "### Format output for file\n",
        "\n",
        "Write a beautiful and elegant txt file."
      ],
      "metadata": {
        "id": "4Ih7mRCdrIQZ"
      }
    },
    {
      "cell_type": "code",
      "source": [
        "txt1 = \"My name is {fname}, I'm {age}\".format(fname = \"Zijing\", age = 18)\n",
        "# txt2 = \"My name is {0}, I'm {1}\".format(\"Zijing\",18)\n",
        "\n",
        "with open(\"format_file.txt\", \"w\") as my_file:\n",
        "    my_file.write(txt1+'\\n') # one way to add the new line character\n",
        "    my_file.write(\"My name is {0}, I'm {1}, \\n\".format(\"Zijing\",18)) # another way\n",
        "    my_file.write(\"This is an elegant text file \\n\")\n"
      ],
      "metadata": {
        "id": "IzsTTS0xrL34"
      },
      "execution_count": null,
      "outputs": []
    },
    {
      "cell_type": "code",
      "source": [
        "# write a 'table' to file with nested for-loop\n",
        "width = 5\n",
        "with open('format_table.txt','w') as myfile:\n",
        "  for num in range(16):\n",
        "    for base in 'dxob':\n",
        "      myfile.write('{0:{width}{base}}'.format(num, base=base, width=width)+' ')\n",
        "    myfile.write('\\n') # add a newline character at the end of each row\n"
      ],
      "metadata": {
        "id": "79YnBZdFvvg-"
      },
      "execution_count": null,
      "outputs": []
    },
    {
      "cell_type": "markdown",
      "source": [
        "## Files"
      ],
      "metadata": {
        "id": "FATUKUK1Kx76"
      }
    },
    {
      "cell_type": "markdown",
      "source": [
        "### open()"
      ],
      "metadata": {
        "id": "pm1bHSmrK3NZ"
      }
    },
    {
      "cell_type": "code",
      "source": [
        "## Don't use this\n",
        "# file = open(\"filename.txt\", 'r')\n",
        "# string = file.read() # read entire content as a string\n",
        "\n",
        "## read line with for loop\n",
        "# for line in file:\n",
        "#    print(line[:-1])\n",
        "\n",
        "# file.close()"
      ],
      "metadata": {
        "id": "cOjifVocKzSj"
      },
      "execution_count": null,
      "outputs": []
    },
    {
      "cell_type": "markdown",
      "source": [
        "### 'With as' to open\n",
        "\n",
        "No need to manually close the file.\n",
        "\n",
        "First create a new file and write to it.\n",
        "\n",
        "Then read it."
      ],
      "metadata": {
        "id": "f9zxngBWK502"
      }
    },
    {
      "cell_type": "code",
      "source": [
        "with open(\"hello.txt\", \"w\") as my_file:\n",
        "    my_file.write(\"Hello world \\n\")\n",
        "    my_file.write(\"I hope you're doing well today \\n\")\n",
        "    my_file.write(\"This is a text file \\n\")\n",
        "    my_file.write(\"Have a nice time \\n\")\n",
        "\n",
        "# for-loop, read line by line. Why empty lines?\n",
        "with open(\"hello.txt\") as my_file:\n",
        "    for line in my_file:\n",
        "        print(line)"
      ],
      "metadata": {
        "colab": {
          "base_uri": "https://localhost:8080/"
        },
        "id": "8nbYwe0LK74H",
        "outputId": "df9a7e50-ad8b-4e3b-9d1f-ce0d6f6bd4c1"
      },
      "execution_count": null,
      "outputs": [
        {
          "output_type": "stream",
          "name": "stdout",
          "text": [
            "Hello world \n",
            "\n",
            "I hope you're doing well today \n",
            "\n",
            "This is a text file \n",
            "\n",
            "Have a nice time \n",
            "\n"
          ]
        }
      ]
    },
    {
      "cell_type": "markdown",
      "source": [
        "Remove empty lines"
      ],
      "metadata": {
        "id": "ozZOFWoE9u9O"
      }
    },
    {
      "cell_type": "code",
      "source": [
        "file = open(\"hello.txt\", 'r')\n",
        "\n",
        "for line in file:\n",
        "  print(line[:-1]) # try print(line) rather than line[:-1]\n",
        "file.close()"
      ],
      "metadata": {
        "colab": {
          "base_uri": "https://localhost:8080/"
        },
        "id": "APqRE1J5-Wye",
        "outputId": "c691473c-6258-48f2-8ec8-4366a13a3207"
      },
      "execution_count": null,
      "outputs": [
        {
          "output_type": "stream",
          "name": "stdout",
          "text": [
            "Hello world \n",
            "I hope you're doing well today \n",
            "This is a text file \n",
            "Have a nice time \n"
          ]
        }
      ]
    },
    {
      "cell_type": "code",
      "source": [
        "file = open(\"hello.txt\", 'r')\n",
        "string = file.read() # read entire content as a string\n",
        "print(string)\n",
        "file.close()"
      ],
      "metadata": {
        "colab": {
          "base_uri": "https://localhost:8080/"
        },
        "id": "DUmBiUzF9ufy",
        "outputId": "706f5ac2-dcb4-4206-acbb-8d6abd432dbd"
      },
      "execution_count": null,
      "outputs": [
        {
          "output_type": "stream",
          "name": "stdout",
          "text": [
            "Hello world \n",
            "I hope you're doing well today \n",
            "This is a text file \n",
            "Have a nice time \n",
            "\n"
          ]
        }
      ]
    },
    {
      "cell_type": "markdown",
      "source": [
        "**File Modes**: default is 'r'. Read from but not written to.\n",
        "\n",
        "![image.png](data:image/png;base64,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)"
      ],
      "metadata": {
        "id": "BJJnlxQv-lQ3"
      }
    },
    {
      "cell_type": "markdown",
      "source": [
        "### Process content of a line (Challenge)"
      ],
      "metadata": {
        "id": "YwFDKwGo9UAZ"
      }
    },
    {
      "cell_type": "code",
      "source": [
        "with open(\"test_file.txt\", \"w\") as my_file:\n",
        "    my_file.write(\"1,2,3\\n\")\n",
        "    my_file.write(\"4,5,6\\n\")\n",
        "    my_file.write(\"7,8,9\\n\")"
      ],
      "metadata": {
        "id": "PJ37_i-bFzTh"
      },
      "execution_count": null,
      "outputs": []
    },
    {
      "cell_type": "markdown",
      "source": [
        "Attention: there is a blank line in line4 if you open text_file.txt"
      ],
      "metadata": {
        "id": "d_ve_dxYGJgl"
      }
    },
    {
      "cell_type": "code",
      "source": [
        "with open('test_file.txt') as f:\n",
        "  for line in f:\n",
        "    print(line)"
      ],
      "metadata": {
        "colab": {
          "base_uri": "https://localhost:8080/"
        },
        "id": "ZKmAc8GNGPjC",
        "outputId": "f7fbdd31-fcb0-4ed4-9735-31b10e18c055"
      },
      "execution_count": null,
      "outputs": [
        {
          "output_type": "stream",
          "name": "stdout",
          "text": [
            "1,2,3\n",
            "\n",
            "4,5,6\n",
            "\n",
            "7,8,9\n",
            "\n"
          ]
        }
      ]
    },
    {
      "cell_type": "code",
      "source": [
        "with open('test_file.txt') as f:\n",
        "  for line in f:\n",
        "    nums = line.split(',')\n",
        "    sum = 0\n",
        "    for n in nums:\n",
        "      print(n, end = ' ')\n",
        "      sum = sum + int(n)\n",
        "\n",
        "    print(\"=\", sum)"
      ],
      "metadata": {
        "colab": {
          "base_uri": "https://localhost:8080/"
        },
        "id": "VMgSk24HGYHA",
        "outputId": "f152b92d-326e-439d-cede-179822f9f281"
      },
      "execution_count": null,
      "outputs": [
        {
          "output_type": "stream",
          "name": "stdout",
          "text": [
            "1 2 3\n",
            " = 6\n",
            "4 5 6\n",
            " = 15\n",
            "7 8 9\n",
            " = 24\n"
          ]
        }
      ]
    },
    {
      "cell_type": "code",
      "source": [
        "# strip()\n",
        "with open('test_file.txt') as f:\n",
        "  for line in f:\n",
        "    nums = line.strip().split(',') # popular way!!\n",
        "    sum = 0\n",
        "    for n in nums:\n",
        "      print(n, end = ' ')\n",
        "      sum = sum + int(n)\n",
        "\n",
        "    print(\"=\", sum)"
      ],
      "metadata": {
        "colab": {
          "base_uri": "https://localhost:8080/"
        },
        "id": "ytOlLbDzGxol",
        "outputId": "87402aa2-cd51-4bbf-cd9b-445f0393eef9"
      },
      "execution_count": null,
      "outputs": [
        {
          "output_type": "stream",
          "name": "stdout",
          "text": [
            "1 2 3 = 6\n",
            "4 5 6 = 15\n",
            "7 8 9 = 24\n"
          ]
        }
      ]
    },
    {
      "cell_type": "markdown",
      "source": [
        "### Write table-like content:"
      ],
      "metadata": {
        "id": "DkIHPjWLG9sv"
      }
    },
    {
      "cell_type": "code",
      "source": [
        "# check the value generated by nested loop\n",
        "for i in range(3):\n",
        "  for j in range(3):\n",
        "    print(\"i = {}, j={}, i*j={}\".format(i,j,i*j))"
      ],
      "metadata": {
        "colab": {
          "base_uri": "https://localhost:8080/"
        },
        "id": "ZX33yx0QHmx7",
        "outputId": "67ddb86b-d4af-4b87-a85c-f7d9e1770316"
      },
      "execution_count": null,
      "outputs": [
        {
          "output_type": "stream",
          "name": "stdout",
          "text": [
            "i = 0, j=0, i*j=0\n",
            "i = 0, j=1, i*j=0\n",
            "i = 0, j=2, i*j=0\n",
            "i = 1, j=0, i*j=0\n",
            "i = 1, j=1, i*j=1\n",
            "i = 1, j=2, i*j=2\n",
            "i = 2, j=0, i*j=0\n",
            "i = 2, j=1, i*j=2\n",
            "i = 2, j=2, i*j=4\n"
          ]
        }
      ]
    },
    {
      "cell_type": "code",
      "source": [
        "# write the above content in file\n",
        "with open('write_test_new.txt', mode = 'wt') as f:\n",
        "  for i in range(10):\n",
        "    for j in range(10):\n",
        "      f.write(\"{:>5}\".format(i*j))\n",
        "    f.write('\\n')"
      ],
      "metadata": {
        "id": "ynTdhrsEHVUt"
      },
      "execution_count": null,
      "outputs": []
    },
    {
      "cell_type": "markdown",
      "source": [
        "Homework: explore the below example."
      ],
      "metadata": {
        "id": "_EKuhJkB_Mps"
      }
    },
    {
      "cell_type": "code",
      "source": [
        "with open('write_test_new.txt') as f:\n",
        "    for line in f:\n",
        "        line = line.strip()\n",
        "        nums = line.split() # split by the white spaces\n",
        "        total = 0\n",
        "        for num in nums:\n",
        "            total += int(num)\n",
        "        print(line, 'sum =', total)"
      ],
      "metadata": {
        "colab": {
          "base_uri": "https://localhost:8080/"
        },
        "id": "ra56wdlUcaRC",
        "outputId": "1eda6ccc-b327-44fc-8b1d-80ea5ac11afc"
      },
      "execution_count": null,
      "outputs": [
        {
          "output_type": "stream",
          "name": "stdout",
          "text": [
            "0    0    0    0    0    0    0    0    0    0 sum = 0\n",
            "0    1    2    3    4    5    6    7    8    9 sum = 45\n",
            "0    2    4    6    8   10   12   14   16   18 sum = 90\n",
            "0    3    6    9   12   15   18   21   24   27 sum = 135\n",
            "0    4    8   12   16   20   24   28   32   36 sum = 180\n",
            "0    5   10   15   20   25   30   35   40   45 sum = 225\n",
            "0    6   12   18   24   30   36   42   48   54 sum = 270\n",
            "0    7   14   21   28   35   42   49   56   63 sum = 315\n",
            "0    8   16   24   32   40   48   56   64   72 sum = 360\n",
            "0    9   18   27   36   45   54   63   72   81 sum = 405\n"
          ]
        }
      ]
    },
    {
      "cell_type": "markdown",
      "source": [
        "Check if a file exist, if yes, open it; otherwise print error message"
      ],
      "metadata": {
        "id": "yGyabuylNRp-"
      }
    },
    {
      "cell_type": "code",
      "source": [
        "\n"
      ],
      "metadata": {
        "id": "otcZ8E8mNKUw"
      },
      "execution_count": null,
      "outputs": []
    },
    {
      "cell_type": "markdown",
      "source": [
        "### Json File\n",
        "https://www.w3schools.com/python/python_json.asp\n",
        "\n",
        "**json.load()** read json into Python\n",
        "\n",
        "**json.dump()** save Python as json"
      ],
      "metadata": {
        "id": "_mDzckOszrPI"
      }
    },
    {
      "cell_type": "code",
      "source": [
        "# writing to a Jason File.   json.dump()\n",
        "import json\n",
        "people = [\n",
        "    {'name': 'John Doe', 'age': 43, 'is_employee': True},\n",
        "     {'name': 'Jane Doe', 'age': 44, 'is_employee': False}\n",
        "    ] # True/False will be in lower case in people.json\n",
        "\n",
        "out_file = open('people.json', 'w')\n",
        "json.dump(people, out_file)\n",
        "out_file.close()"
      ],
      "metadata": {
        "id": "N1b-eq6eztox"
      },
      "execution_count": null,
      "outputs": []
    },
    {
      "cell_type": "code",
      "source": [
        "# Read json file as a Python object with json.load()\n",
        "import json\n",
        "in_file = open('people.json', 'r')\n",
        "\n",
        "people = json.load(in_file) # a list of dict\n",
        "in_file.close()\n",
        "\n",
        "for person in people: # for each element in list\n",
        "    print(person)\n"
      ],
      "metadata": {
        "id": "vtuiyFX51-jE"
      },
      "execution_count": null,
      "outputs": []
    },
    {
      "cell_type": "markdown",
      "source": [
        "### Path\n",
        "\n"
      ],
      "metadata": {
        "id": "W9awWFhyFiV0"
      }
    },
    {
      "cell_type": "code",
      "source": [
        "# Identify file\n",
        "import os\n",
        "os.path.isfile(path)"
      ],
      "metadata": {
        "id": "HRG_jKytFndE"
      },
      "execution_count": null,
      "outputs": []
    },
    {
      "cell_type": "code",
      "source": [
        "# Idenfity dir, create path if not exists\n",
        "if not os.path.isdir(path):\n",
        "  os.mkdir(path)"
      ],
      "metadata": {
        "id": "aUcSzdRUFx_7"
      },
      "execution_count": null,
      "outputs": []
    },
    {
      "cell_type": "code",
      "source": [
        "# List all files and folders\n",
        "os.listdir(path)"
      ],
      "metadata": {
        "id": "dtemNtjdGBtH"
      },
      "execution_count": null,
      "outputs": []
    },
    {
      "cell_type": "markdown",
      "source": [
        "## Tuple List Set Dict"
      ],
      "metadata": {
        "id": "W5-dUcf7O3LQ"
      }
    },
    {
      "cell_type": "markdown",
      "source": [
        "### Tuple\n",
        "\n",
        "Tuples are used to store multiple items in a single variable.\n",
        "\n",
        "Tuple is one of 4 built-in data types in Python used to store collections of data, the other 3 are List, Set, and Dictionary, all with different qualities and usage.\n",
        "\n",
        "A tuple is a collection which is **ordered and unchangeable**.\n",
        "\n",
        "Tuples are written with round brackets."
      ],
      "metadata": {
        "id": "_LxQunHNryaG"
      }
    },
    {
      "cell_type": "code",
      "source": [
        "# Tuple can have duplicated value\n",
        "thistuple = (\"apple\", \"banana\", \"cherry\", \"apple\", \"cherry\")\n",
        "print(thistuple)"
      ],
      "metadata": {
        "colab": {
          "base_uri": "https://localhost:8080/"
        },
        "id": "shqFgc6DsFVj",
        "outputId": "35e416ba-7521-48a6-a80a-ebe7e111929b"
      },
      "execution_count": null,
      "outputs": [
        {
          "output_type": "stream",
          "name": "stdout",
          "text": [
            "('apple', 'banana', 'cherry', 'apple', 'cherry')\n"
          ]
        }
      ]
    },
    {
      "cell_type": "code",
      "source": [
        "# Tuple is ordered\n",
        "for element in thistuple:\n",
        "  print(element)"
      ],
      "metadata": {
        "colab": {
          "base_uri": "https://localhost:8080/"
        },
        "id": "ccd2VEk9sODn",
        "outputId": "be2ab99b-b592-4453-dbff-c1f98bfe698c"
      },
      "execution_count": null,
      "outputs": [
        {
          "output_type": "stream",
          "name": "stdout",
          "text": [
            "apple\n",
            "banana\n",
            "cherry\n",
            "apple\n",
            "cherry\n"
          ]
        }
      ]
    },
    {
      "cell_type": "markdown",
      "source": [
        "#### Tuple unpacking"
      ],
      "metadata": {
        "id": "OI4aXH5QM1DC"
      }
    },
    {
      "cell_type": "code",
      "execution_count": null,
      "metadata": {
        "colab": {
          "base_uri": "https://localhost:8080/"
        },
        "id": "Ffimbu2fMyBf",
        "outputId": "c1f796ed-3c02-44da-db80-e3b7a1292b9a"
      },
      "outputs": [
        {
          "output_type": "stream",
          "name": "stdout",
          "text": [
            "apple\n",
            "banana\n",
            "cherry\n"
          ]
        }
      ],
      "source": [
        "fruits = (\"apple\", \"banana\", \"cherry\")\n",
        "\n",
        "(green, yellow, red) = fruits\n",
        "\n",
        "print(green)\n",
        "print(yellow)\n",
        "print(red)"
      ]
    },
    {
      "cell_type": "markdown",
      "source": [
        "### List\n",
        "\n"
      ],
      "metadata": {
        "id": "fYLFyiS6O6L3"
      }
    },
    {
      "cell_type": "markdown",
      "source": [
        "List can has **mix values**, nested list\n",
        "\n",
        "list operations:\n"
      ],
      "metadata": {
        "id": "eyu99RdvPjAj"
      }
    },
    {
      "cell_type": "code",
      "source": [
        "lst = [1,2,3] + [2.2,1.8] #concatenation\n",
        "len(lst) #length\n",
        "lst.append('Zijing') # append ->[1, 2, 3, 2.2, 1.8, 'Zijing']\n",
        "print(lst)\n",
        "del lst[-1] #delete 'Ziing'\n",
        "print(lst)"
      ],
      "metadata": {
        "colab": {
          "base_uri": "https://localhost:8080/"
        },
        "id": "b_twY_CCPVrj",
        "outputId": "1dc63851-2899-483d-9609-7a4349130c76"
      },
      "execution_count": null,
      "outputs": [
        {
          "output_type": "stream",
          "name": "stdout",
          "text": [
            "[1, 2, 3, 2.2, 1.8, 'Zijing']\n",
            "[1, 2, 3, 2.2, 1.8]\n"
          ]
        }
      ]
    },
    {
      "cell_type": "code",
      "source": [
        "lst.sort() #sort\n",
        "print(lst)"
      ],
      "metadata": {
        "colab": {
          "base_uri": "https://localhost:8080/"
        },
        "id": "xEi9RkaNQvX9",
        "outputId": "739720cd-67ca-4c64-ab1c-8898924ddb6e"
      },
      "execution_count": null,
      "outputs": [
        {
          "output_type": "stream",
          "name": "stdout",
          "text": [
            "[1, 2, 3, 4, 5]\n"
          ]
        }
      ]
    },
    {
      "cell_type": "code",
      "source": [
        "# get a new object. Not reference by assignmnet: old_wiggles = wiggles\n",
        "wiggles = ['greg', 'anthony', 'murray', 'jeff']\n",
        "old_wiggles = wiggles.copy()"
      ],
      "metadata": {
        "id": "4fHv27XKRH2s"
      },
      "execution_count": null,
      "outputs": []
    },
    {
      "cell_type": "code",
      "source": [],
      "metadata": {
        "id": "Wg-XtL3v-COz"
      },
      "execution_count": null,
      "outputs": []
    },
    {
      "cell_type": "markdown",
      "source": [
        "### Difference between list and tuple"
      ],
      "metadata": {
        "id": "-5HMavz8-Cjo"
      }
    },
    {
      "cell_type": "code",
      "source": [
        "# both list and tuple can include different types\n",
        "mylst = [1,2,'Hi']\n",
        "mytuple = (1,2,'Bye')"
      ],
      "metadata": {
        "id": "IUU76bW2-Cjo"
      },
      "execution_count": null,
      "outputs": []
    },
    {
      "cell_type": "code",
      "source": [
        "mylst[2] = 888 # list are mutable\n",
        "print(mylst)"
      ],
      "metadata": {
        "colab": {
          "base_uri": "https://localhost:8080/"
        },
        "outputId": "a8b3c202-1dfe-4292-ce04-21a2afc9c58b",
        "id": "nCArGyEj-Cjp"
      },
      "execution_count": null,
      "outputs": [
        {
          "output_type": "stream",
          "name": "stdout",
          "text": [
            "[1, 2, 888]\n"
          ]
        }
      ]
    },
    {
      "cell_type": "code",
      "source": [
        "mytuple[2] = 999 # tuple are NOT mutable\n",
        "print(mytuple)"
      ],
      "metadata": {
        "colab": {
          "base_uri": "https://localhost:8080/",
          "height": 158
        },
        "outputId": "29cd586c-aa28-44e1-8826-bf010437dc01",
        "id": "L7tn5rwJ-Cjq"
      },
      "execution_count": null,
      "outputs": [
        {
          "output_type": "error",
          "ename": "TypeError",
          "evalue": "'tuple' object does not support item assignment",
          "traceback": [
            "\u001b[0;31m---------------------------------------------------------------------------\u001b[0m",
            "\u001b[0;31mTypeError\u001b[0m                                 Traceback (most recent call last)",
            "\u001b[0;32m<ipython-input-4-7a187399e24a>\u001b[0m in \u001b[0;36m<cell line: 1>\u001b[0;34m()\u001b[0m\n\u001b[0;32m----> 1\u001b[0;31m \u001b[0mmytuple\u001b[0m\u001b[0;34m[\u001b[0m\u001b[0;36m2\u001b[0m\u001b[0;34m]\u001b[0m \u001b[0;34m=\u001b[0m \u001b[0;36m999\u001b[0m\u001b[0;34m\u001b[0m\u001b[0;34m\u001b[0m\u001b[0m\n\u001b[0m\u001b[1;32m      2\u001b[0m \u001b[0mprint\u001b[0m\u001b[0;34m(\u001b[0m\u001b[0mmytuple\u001b[0m\u001b[0;34m)\u001b[0m\u001b[0;34m\u001b[0m\u001b[0;34m\u001b[0m\u001b[0m\n",
            "\u001b[0;31mTypeError\u001b[0m: 'tuple' object does not support item assignment"
          ]
        }
      ]
    },
    {
      "cell_type": "markdown",
      "source": [
        "### Dict\n"
      ],
      "metadata": {
        "id": "XVOKH_FufMpm"
      }
    },
    {
      "cell_type": "code",
      "source": [
        "d1 = {} # empty dict. To create a set --> s1 = {2,3,4}, must has elements. Otherwise it is empty dict"
      ],
      "metadata": {
        "id": "WFj72-QbfO6G"
      },
      "execution_count": null,
      "outputs": []
    },
    {
      "cell_type": "code",
      "source": [
        "# add and revise element\n",
        "pet = {'name':'fido'}\n",
        "pet['colour'] = 'purple' # set a value with a new key will add a new item!\n",
        "print(pet)\n",
        "pet['name'] = 'kiki'\n",
        "print(pet)\n",
        "# del pet['name'] # remove item"
      ],
      "metadata": {
        "colab": {
          "base_uri": "https://localhost:8080/"
        },
        "id": "phr1gAzrfpPO",
        "outputId": "460f02ac-872c-43b8-8fa5-1241b0257e22"
      },
      "execution_count": null,
      "outputs": [
        {
          "output_type": "stream",
          "name": "stdout",
          "text": [
            "{'name': 'fido', 'colour': 'purple'}\n",
            "{'name': 'kiki', 'colour': 'purple'}\n"
          ]
        }
      ]
    },
    {
      "cell_type": "code",
      "source": [
        "print( pet.keys() )# all keys\n",
        "print( pet.values() )# all values"
      ],
      "metadata": {
        "colab": {
          "base_uri": "https://localhost:8080/"
        },
        "id": "tkCoIvp6gHir",
        "outputId": "a6e3996b-dc85-4fc8-9dc1-0d2244b10f63"
      },
      "execution_count": null,
      "outputs": [
        {
          "output_type": "stream",
          "name": "stdout",
          "text": [
            "dict_keys(['name', 'colour'])\n",
            "dict_values(['kiki', 'purple'])\n"
          ]
        }
      ]
    },
    {
      "cell_type": "code",
      "source": [
        "# iterate over items with items()\n",
        "for key, value in pet.items():\n",
        "  print(f'Key is {key}, value is {value}')"
      ],
      "metadata": {
        "colab": {
          "base_uri": "https://localhost:8080/"
        },
        "id": "QbRKsD64go9u",
        "outputId": "e700ace8-1a75-4147-c4f5-9ffacb1b6961"
      },
      "execution_count": null,
      "outputs": [
        {
          "output_type": "stream",
          "name": "stdout",
          "text": [
            "Key is name, value is kiki\n",
            "Key is colour, value is purple\n"
          ]
        }
      ]
    },
    {
      "cell_type": "markdown",
      "source": [
        "#### A tuple can be used as dict key"
      ],
      "metadata": {
        "id": "e6-3xJMqz9QR"
      }
    },
    {
      "cell_type": "code",
      "source": [
        "pets_loc = {(1,2):'fido',(3,4):'stella'} # pets sit at location (x, y)\n",
        "print(pets_loc)"
      ],
      "metadata": {
        "colab": {
          "base_uri": "https://localhost:8080/"
        },
        "id": "k3lAGFlg0CJk",
        "outputId": "b06ea3ec-82d2-446b-eb3f-d20ec61c3590"
      },
      "execution_count": null,
      "outputs": [
        {
          "output_type": "stream",
          "name": "stdout",
          "text": [
            "{(1, 2): 'fido', (3, 4): 'stella'}\n"
          ]
        }
      ]
    },
    {
      "cell_type": "markdown",
      "source": [
        "### Set\n",
        "\n",
        "\n",
        "An **unordered** collection of items with **unique** values.\n",
        "\n",
        "Can't *index* or *slice* a Set"
      ],
      "metadata": {
        "id": "1u-9gFqHSLrM"
      }
    },
    {
      "cell_type": "code",
      "source": [
        "# Two ways to create\n",
        "s1 = {2,3,4} # must has elements. Otherwise it becomes dict\n",
        "s2 = set() # empty set"
      ],
      "metadata": {
        "id": "cJCLR7QbSQt7"
      },
      "execution_count": null,
      "outputs": []
    },
    {
      "cell_type": "code",
      "source": [
        "# set operation: add()/remove()/in\n",
        "s1 = {2,3,4}\n",
        "s1.add(50) # add {2,3,4,50}\n",
        "s1.remove(2) # delelte {3,4,50}\n",
        "print(s1)\n",
        "print(50 in s1) # check membership with 'in' and 'not in'"
      ],
      "metadata": {
        "colab": {
          "base_uri": "https://localhost:8080/"
        },
        "id": "2CFg4N9nnIvD",
        "outputId": "a88dab90-3875-425d-dc8e-6d5c70fb60e9"
      },
      "execution_count": null,
      "outputs": [
        {
          "output_type": "stream",
          "name": "stdout",
          "text": [
            "{3, 4, 50}\n",
            "True\n"
          ]
        }
      ]
    },
    {
      "cell_type": "code",
      "source": [],
      "metadata": {
        "id": "U6nABsjcs0Oz"
      },
      "execution_count": null,
      "outputs": []
    },
    {
      "cell_type": "markdown",
      "source": [
        "### Slicing\n",
        "\n"
      ],
      "metadata": {
        "id": "Exp_AiNOtXGG"
      }
    },
    {
      "cell_type": "code",
      "source": [
        "mylist = [0,1,2,3,4,5,6,7]\n",
        "print(\"text[0,7]=\" , mylist[0:7]) # start = 0, end = (7-1)\n",
        "print(\"text[:7]=\" , mylist[:7]) # omit start, so start=0, end =(7-1)\n",
        "print(\"text[1:]=\" , mylist[1:]) # omit end, so start=1, end = 7\n",
        "# step = 3\n",
        "print(\"text[0,7,3]=\" , mylist[0:7:3]) # start = 0, end = (7-1), step = 3"
      ],
      "metadata": {
        "colab": {
          "base_uri": "https://localhost:8080/"
        },
        "id": "k9x5VCdatzmj",
        "outputId": "7af7ae90-6e82-4987-e2a2-38573276661b"
      },
      "execution_count": null,
      "outputs": [
        {
          "output_type": "stream",
          "name": "stdout",
          "text": [
            "text[0,7]= [0, 1, 2, 3, 4, 5, 6]\n",
            "text[:7]= [0, 1, 2, 3, 4, 5, 6]\n",
            "text[1:]= [1, 2, 3, 4, 5, 6, 7]\n",
            "text[0,7,3]= [0, 3, 6]\n"
          ]
        }
      ]
    },
    {
      "cell_type": "code",
      "source": [
        "text = \"0123456789\"\n",
        "num = len(text) # num is 10\n",
        "print(text[0:num:3]) # start = 0, end = last element 'n'\n",
        "print(text[::3]) # omit start, so start = 0; omit end, so end = last element 'n'"
      ],
      "metadata": {
        "colab": {
          "base_uri": "https://localhost:8080/"
        },
        "id": "XZSAd1M_vhVL",
        "outputId": "4c611549-7c87-4c9b-ce71-293d52d24792"
      },
      "execution_count": null,
      "outputs": [
        {
          "output_type": "stream",
          "name": "stdout",
          "text": [
            "0369\n",
            "0369\n"
          ]
        }
      ]
    },
    {
      "cell_type": "code",
      "source": [
        "s = 'abcdefg'\n",
        "s[0:5:2] # start = 0, end = 5-1, step = 2"
      ],
      "metadata": {
        "colab": {
          "base_uri": "https://localhost:8080/",
          "height": 36
        },
        "id": "keOVsgWgyNQ1",
        "outputId": "31a49087-08d7-47ab-d58e-bd7ebdfad443"
      },
      "execution_count": null,
      "outputs": [
        {
          "output_type": "execute_result",
          "data": {
            "text/plain": [
              "'ace'"
            ],
            "application/vnd.google.colaboratory.intrinsic+json": {
              "type": "string"
            }
          },
          "metadata": {},
          "execution_count": 18
        }
      ]
    },
    {
      "cell_type": "code",
      "source": [
        "# arguments can be omitted when using :\n",
        "text = [0,1,2,3,4,5,6,7]\n",
        "print(text[:])"
      ],
      "metadata": {
        "colab": {
          "base_uri": "https://localhost:8080/"
        },
        "id": "xj9dMdV8tc-q",
        "outputId": "e5e0c00a-5c85-42c7-cff0-2963fd4e7743"
      },
      "execution_count": null,
      "outputs": [
        {
          "output_type": "stream",
          "name": "stdout",
          "text": [
            "ZijingChenPython\n"
          ]
        }
      ]
    },
    {
      "cell_type": "markdown",
      "source": [
        "### Slicing with negative integer"
      ],
      "metadata": {
        "id": "n7DGw2aLNcwV"
      }
    },
    {
      "cell_type": "code",
      "source": [
        "text = \"ZijingChenPython\"\n",
        "\n",
        "# Slicing left part of string text\n",
        "left = text[:-6]\n",
        "\n",
        "# Slicing middle part of string text\n",
        "middle = text[-10:-6]\n",
        "\n",
        "# Slicing right part of string text\n",
        "right = text[-6:]\n",
        "\n",
        "print(left)\n",
        "print(middle)\n",
        "print(right)\n"
      ],
      "metadata": {
        "colab": {
          "base_uri": "https://localhost:8080/"
        },
        "id": "v2SO7M5lNE_r",
        "outputId": "0c2e929c-194f-4f89-d0e8-5f09c61bccde"
      },
      "execution_count": null,
      "outputs": [
        {
          "output_type": "stream",
          "name": "stdout",
          "text": [
            "ZijingChen\n",
            "Chen\n",
            "Python\n"
          ]
        }
      ]
    },
    {
      "cell_type": "markdown",
      "source": [
        "Zip()\n",
        "\n",
        "The zip() function returns a **zip object**, which is an iterator of tuples where the first item in each passed iterator is paired together, and then the second item in each passed iterator are paired together etc."
      ],
      "metadata": {
        "id": "RWGYTK7y1fzA"
      }
    },
    {
      "cell_type": "code",
      "source": [
        "a = [\"John\", \"Charles\", \"Mike\"]\n",
        "b = [\"Jenny\", \"Christy\", \"Monica\"]\n",
        "\n",
        "res = zip(a, b)\n",
        "print(res)"
      ],
      "metadata": {
        "colab": {
          "base_uri": "https://localhost:8080/"
        },
        "id": "7HVj3EyXOb3n",
        "outputId": "c8ac0d80-07d4-4101-e206-4a5b35193973"
      },
      "execution_count": null,
      "outputs": [
        {
          "output_type": "stream",
          "name": "stdout",
          "text": [
            "<zip object at 0x78e3a4909180>\n"
          ]
        }
      ]
    },
    {
      "cell_type": "code",
      "source": [
        "for x, y in res:\n",
        "  print('x = ', x, '; y = ', y)"
      ],
      "metadata": {
        "colab": {
          "base_uri": "https://localhost:8080/"
        },
        "id": "1jvNFbRK15R4",
        "outputId": "1536f497-5c2a-4240-985d-8ec690b7fd34"
      },
      "execution_count": null,
      "outputs": [
        {
          "output_type": "stream",
          "name": "stdout",
          "text": [
            "x =  John\n",
            "y =  Jenny\n",
            "x =  Charles\n",
            "y =  Christy\n",
            "x =  Mike\n",
            "y =  Monica\n"
          ]
        }
      ]
    },
    {
      "cell_type": "code",
      "source": [],
      "metadata": {
        "id": "xvvSjBMW_I8B"
      },
      "execution_count": null,
      "outputs": []
    },
    {
      "cell_type": "markdown",
      "source": [
        "## String\n"
      ],
      "metadata": {
        "id": "ykZfe3BQ0zkD"
      }
    },
    {
      "cell_type": "code",
      "source": [
        "# strings are IMMUTABLE!!\n",
        "greeting = \"Hello!\"\n",
        "greeting[2] = '8'"
      ],
      "metadata": {
        "colab": {
          "base_uri": "https://localhost:8080/",
          "height": 176
        },
        "id": "kVbmshFO8M5w",
        "outputId": "46ce684f-6930-4976-f6c2-e1439683f8ca"
      },
      "execution_count": null,
      "outputs": [
        {
          "output_type": "error",
          "ename": "TypeError",
          "evalue": "'str' object does not support item assignment",
          "traceback": [
            "\u001b[0;31m---------------------------------------------------------------------------\u001b[0m",
            "\u001b[0;31mTypeError\u001b[0m                                 Traceback (most recent call last)",
            "\u001b[0;32m<ipython-input-29-f1331a8193f9>\u001b[0m in \u001b[0;36m<cell line: 3>\u001b[0;34m()\u001b[0m\n\u001b[1;32m      1\u001b[0m \u001b[0;31m# strings are IMMUTABLE!!\u001b[0m\u001b[0;34m\u001b[0m\u001b[0;34m\u001b[0m\u001b[0m\n\u001b[1;32m      2\u001b[0m \u001b[0mgreeting\u001b[0m \u001b[0;34m=\u001b[0m \u001b[0;34m\"Hello!\"\u001b[0m\u001b[0;34m\u001b[0m\u001b[0;34m\u001b[0m\u001b[0m\n\u001b[0;32m----> 3\u001b[0;31m \u001b[0mgreeting\u001b[0m\u001b[0;34m[\u001b[0m\u001b[0;36m2\u001b[0m\u001b[0;34m]\u001b[0m \u001b[0;34m=\u001b[0m \u001b[0;34m'8'\u001b[0m\u001b[0;34m\u001b[0m\u001b[0;34m\u001b[0m\u001b[0m\n\u001b[0m",
            "\u001b[0;31mTypeError\u001b[0m: 'str' object does not support item assignment"
          ]
        }
      ]
    },
    {
      "cell_type": "markdown",
      "source": [
        "## String functions"
      ],
      "metadata": {
        "id": "GRXtHaWq8J8b"
      }
    },
    {
      "cell_type": "code",
      "source": [
        "# The strip() method removes any leading, and trailing whitespaces (spaces, tabs, and newlines) )\n",
        "mystr = \" Welcome to zijing's python class.    \\n\" # white space at the begininng and end. Won't remmove '.'\n",
        "res = mystr.strip()\n",
        "print('1'+res+'2') # anything between 1 and 2 belongs to res!"
      ],
      "metadata": {
        "colab": {
          "base_uri": "https://localhost:8080/"
        },
        "id": "S191YxbS0zDP",
        "outputId": "817118c8-d518-4fab-e217-e82d27584f85"
      },
      "execution_count": null,
      "outputs": [
        {
          "output_type": "stream",
          "name": "stdout",
          "text": [
            "1Welcome to zijing's python class.2\n"
          ]
        }
      ]
    },
    {
      "cell_type": "code",
      "source": [
        "# The split() method splits a string according to ...\n",
        "mystr = \" Welcome to zijing's python class.    \\n\" # white space at the begininng and end. Won't remmove '.'\n",
        "out = mystr.split() # split\n",
        "print(out)"
      ],
      "metadata": {
        "colab": {
          "base_uri": "https://localhost:8080/"
        },
        "id": "PgKS-qWy1is-",
        "outputId": "a462074b-d211-48c8-a6dc-db6ab9d6da81"
      },
      "execution_count": null,
      "outputs": [
        {
          "output_type": "stream",
          "name": "stdout",
          "text": [
            "['Welcome', 'to', \"zijing's\", 'python', 'class.']\n"
          ]
        }
      ]
    },
    {
      "cell_type": "code",
      "source": [
        "mystr = \" Welcome to zijing's python class.    \\n\"\n",
        "out = mystr.split('.') # split according to '.'\n",
        "print(out)"
      ],
      "metadata": {
        "colab": {
          "base_uri": "https://localhost:8080/"
        },
        "id": "6Hnwui3h2QXF",
        "outputId": "d7b4dbc8-198d-4d2c-9d2e-9a01c8f49bbc"
      },
      "execution_count": null,
      "outputs": [
        {
          "output_type": "stream",
          "name": "stdout",
          "text": [
            "[\" Welcome to zijing's python class\", '    \\n']\n"
          ]
        }
      ]
    },
    {
      "cell_type": "code",
      "source": [
        "# join()\n",
        "\n",
        "' '.join(['My', 'name', 'is', 'Zijing'])"
      ],
      "metadata": {
        "colab": {
          "base_uri": "https://localhost:8080/",
          "height": 36
        },
        "id": "imTQXYhv9Kn-",
        "outputId": "aa0c750f-7b1b-4c0f-ec54-09467f781317"
      },
      "execution_count": null,
      "outputs": [
        {
          "output_type": "execute_result",
          "data": {
            "text/plain": [
              "'My name is Zijing'"
            ],
            "application/vnd.google.colaboratory.intrinsic+json": {
              "type": "string"
            }
          },
          "metadata": {},
          "execution_count": 30
        }
      ]
    },
    {
      "cell_type": "code",
      "source": [
        "# replace()\n",
        "print('Zijing Chen'.lower().replace(\" \", \"_\"))"
      ],
      "metadata": {
        "colab": {
          "base_uri": "https://localhost:8080/"
        },
        "id": "XtfLSzDUIInu",
        "outputId": "d1da288b-732a-4d15-86a8-1371ea005885"
      },
      "execution_count": null,
      "outputs": [
        {
          "output_type": "stream",
          "name": "stdout",
          "text": [
            "zijing_chen\n"
          ]
        }
      ]
    },
    {
      "cell_type": "code",
      "source": [
        "# find a char\n",
        "\"John.Smith@bigpond.com.au\".find('@')"
      ],
      "metadata": {
        "colab": {
          "base_uri": "https://localhost:8080/"
        },
        "id": "DL7OqMdEJdfd",
        "outputId": "4ffc3290-b3a2-419c-bd92-2be4c0c7b40b"
      },
      "execution_count": null,
      "outputs": [
        {
          "output_type": "execute_result",
          "data": {
            "text/plain": [
              "10"
            ]
          },
          "metadata": {},
          "execution_count": 2
        }
      ]
    },
    {
      "cell_type": "markdown",
      "source": [
        "## Errors and Exceptions\n",
        "\n",
        "3 kinds of error:\n",
        "\n",
        "\n",
        "*   Syntax Error\n",
        "*   Runtime Error (cause crash. eg, fiels doesn't exist, divide 0, un-defined variable, non-exist index)\n",
        "*   Logic Error  \n",
        "\n",
        "An exception is a **runtime error** but can **recover** (no more crash).\n",
        "\n",
        "Put the code which may casue crash in *try*, and how to handle in *except*\n"
      ],
      "metadata": {
        "id": "4aCHM_BmoTJn"
      }
    },
    {
      "cell_type": "code",
      "source": [
        "# try...except.. to handle exceptions\n",
        "# the code won't crash as it gives another chance for user to input\n",
        "while True:\n",
        "  try:\n",
        "    denom = int(input('Enter a denom: '))\n",
        "    result = str(1/denom)\n",
        "    break\n",
        "  except ZeroDivisionError: # multiple except blocks handing different types of ecceptions\n",
        "    result = 'infinity'\n",
        "    break\n",
        "  except ValueError: # write except and error type in the same line\n",
        "    print('Invalid input, try again please.') # then it go to next loop and wait for user's input\n",
        "\n",
        "print(f'The reciprocal of {denom} is {result}')"
      ],
      "metadata": {
        "colab": {
          "base_uri": "https://localhost:8080/"
        },
        "id": "HMxLmCsDoqzg",
        "outputId": "2edb2bc6-9684-4f7c-9d46-117b1b113c8e"
      },
      "execution_count": null,
      "outputs": [
        {
          "output_type": "stream",
          "name": "stdout",
          "text": [
            "Enter a denom: 0\n",
            "The reciprocal of 0 is infinity\n"
          ]
        }
      ]
    },
    {
      "cell_type": "markdown",
      "source": [
        "Python raise exception for Python function.\n",
        "\n",
        "User defined function has to raise exception by yourself, raise ..."
      ],
      "metadata": {
        "id": "zrwc5knhqSVz"
      }
    },
    {
      "cell_type": "code",
      "source": [
        "def print_odd_only(n):\n",
        "  if n % 2 == 0:\n",
        "    raise ValueError(f'{n} is even!')\n",
        "  print(n)\n",
        "\n",
        "\n",
        "try:\n",
        "  print_odd_only(5)\n",
        "  print_odd_only(4) # raise a ValueError. Control flow jumps to except block\n",
        "except ValueError:\n",
        "  print('Oops')\n",
        "\n",
        "print('Done')"
      ],
      "metadata": {
        "colab": {
          "base_uri": "https://localhost:8080/"
        },
        "id": "2zzPJNqEqRA6",
        "outputId": "c30ab148-27cd-4d3a-c755-bfe44356c53d"
      },
      "execution_count": null,
      "outputs": [
        {
          "output_type": "stream",
          "name": "stdout",
          "text": [
            "5\n",
            "Oops\n",
            "Done\n"
          ]
        }
      ]
    },
    {
      "cell_type": "markdown",
      "source": [
        "## Module\n",
        "\n",
        "E.g. math.py"
      ],
      "metadata": {
        "id": "4JcynTUNxuCT"
      }
    },
    {
      "cell_type": "code",
      "source": [
        "import math\n",
        "print(  math.ceil(1.1) )"
      ],
      "metadata": {
        "colab": {
          "base_uri": "https://localhost:8080/"
        },
        "id": "kvga1sgWxxW1",
        "outputId": "2436b38b-af81-4dc7-8d41-03ef3b81df6e"
      },
      "execution_count": null,
      "outputs": [
        {
          "output_type": "stream",
          "name": "stdout",
          "text": [
            "2\n"
          ]
        }
      ]
    },
    {
      "cell_type": "code",
      "source": [
        "import random\n",
        "print('A random number: ', random.random()) # floating number between 0 and 1.\n",
        "print('Random int: ', random.randint(0,11))\n",
        "\n",
        "city_list = ['Melb', 'Syd', 'Perth', 'Bne']\n",
        "print('Random choice: ', random.choice(city_list))\n",
        "\n",
        "random.shuffle(city_list) # in-place shuffle\n",
        "print('Shuffle a list: ', city_list)"
      ],
      "metadata": {
        "colab": {
          "base_uri": "https://localhost:8080/"
        },
        "id": "xsN3QeGDx74v",
        "outputId": "6913927e-b5b8-4e53-c641-a8b21e171663"
      },
      "execution_count": null,
      "outputs": [
        {
          "output_type": "stream",
          "name": "stdout",
          "text": [
            "A random number:  0.8833284256039593\n",
            "Random int:  6\n",
            "Random choice:  Syd\n",
            "Shuffle a list:  ['Bne', 'Perth', 'Syd', 'Melb']\n"
          ]
        }
      ]
    },
    {
      "cell_type": "markdown",
      "source": [
        "## Pandas\n",
        "\n",
        "Data analysis"
      ],
      "metadata": {
        "id": "pPi4M9TQ3KXN"
      }
    },
    {
      "cell_type": "code",
      "source": [],
      "metadata": {
        "id": "lBx0Eftg3NwD"
      },
      "execution_count": null,
      "outputs": []
    },
    {
      "cell_type": "markdown",
      "source": [
        "## Matplotlib\n",
        "\n",
        "Plotting"
      ],
      "metadata": {
        "id": "p1e6v70q3OFv"
      }
    },
    {
      "cell_type": "code",
      "source": [],
      "metadata": {
        "id": "qsr3JnlZ3P6z"
      },
      "execution_count": null,
      "outputs": []
    }
  ]
}