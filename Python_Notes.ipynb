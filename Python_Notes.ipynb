{
  "nbformat": 4,
  "nbformat_minor": 0,
  "metadata": {
    "colab": {
      "provenance": [],
      "collapsed_sections": [
        "Yk-kmWWNaM7P",
        "txLCJxSm9G1Q",
        "k941tCgUJgj0",
        "_mDzckOszrPI"
      ],
      "toc_visible": true
    },
    "kernelspec": {
      "name": "python3",
      "display_name": "Python 3"
    },
    "language_info": {
      "name": "python"
    }
  },
  "cells": [
    {
      "cell_type": "markdown",
      "source": [
        "## Debugger\n",
        "\n",
        "### pdb the Python debugger\n",
        "\n",
        "https://docs.python.org/3/library/pdb.html\n",
        "\n",
        "### Debugging with Colab\n",
        "https://colab.research.google.com/github/QuantEcon/lecture-python-programming.notebooks/blob/master/debugging.ipynb\n",
        "\n",
        "**1. With breakpoint**"
      ],
      "metadata": {
        "id": "Yk-kmWWNaM7P"
      }
    },
    {
      "cell_type": "code",
      "source": [
        "a = 1\n",
        "print(a)\n",
        "breakpoint()\n",
        "b = 2\n",
        "print(b)\n",
        "breakpoint()\n",
        "c= 3\n",
        "print(c)"
      ],
      "metadata": {
        "colab": {
          "base_uri": "https://localhost:8080/"
        },
        "id": "VzB6j0dFTkBi",
        "outputId": "cafcebee-3cc3-4dcc-b2b2-b1f5135d3843"
      },
      "execution_count": null,
      "outputs": [
        {
          "name": "stdout",
          "output_type": "stream",
          "text": [
            "1\n",
            "--Return--\n",
            "None\n",
            "> \u001b[0;32m<ipython-input-2-4f65590db4af>\u001b[0m(3)\u001b[0;36m<cell line: 3>\u001b[0;34m()\u001b[0m\n",
            "\u001b[0;32m      1 \u001b[0;31m\u001b[0ma\u001b[0m \u001b[0;34m=\u001b[0m \u001b[0;36m1\u001b[0m\u001b[0;34m\u001b[0m\u001b[0;34m\u001b[0m\u001b[0m\n",
            "\u001b[0m\u001b[0;32m      2 \u001b[0;31m\u001b[0mprint\u001b[0m\u001b[0;34m(\u001b[0m\u001b[0ma\u001b[0m\u001b[0;34m)\u001b[0m\u001b[0;34m\u001b[0m\u001b[0;34m\u001b[0m\u001b[0m\n",
            "\u001b[0m\u001b[0;32m----> 3 \u001b[0;31m\u001b[0mbreakpoint\u001b[0m\u001b[0;34m(\u001b[0m\u001b[0;34m)\u001b[0m\u001b[0;34m\u001b[0m\u001b[0;34m\u001b[0m\u001b[0m\n",
            "\u001b[0m\u001b[0;32m      4 \u001b[0;31m\u001b[0mb\u001b[0m \u001b[0;34m=\u001b[0m \u001b[0;36m2\u001b[0m\u001b[0;34m\u001b[0m\u001b[0;34m\u001b[0m\u001b[0m\n",
            "\u001b[0m\u001b[0;32m      5 \u001b[0;31m\u001b[0mprint\u001b[0m\u001b[0;34m(\u001b[0m\u001b[0mb\u001b[0m\u001b[0;34m)\u001b[0m\u001b[0;34m\u001b[0m\u001b[0;34m\u001b[0m\u001b[0m\n",
            "\u001b[0m\n",
            "ipdb> p a\n",
            "1\n",
            "ipdb> c\n",
            "2\n",
            "--Return--\n",
            "None\n",
            "> \u001b[0;32m<ipython-input-2-4f65590db4af>\u001b[0m(6)\u001b[0;36m<cell line: 6>\u001b[0;34m()\u001b[0m\n",
            "\u001b[0;32m      4 \u001b[0;31m\u001b[0mb\u001b[0m \u001b[0;34m=\u001b[0m \u001b[0;36m2\u001b[0m\u001b[0;34m\u001b[0m\u001b[0;34m\u001b[0m\u001b[0m\n",
            "\u001b[0m\u001b[0;32m      5 \u001b[0;31m\u001b[0mprint\u001b[0m\u001b[0;34m(\u001b[0m\u001b[0mb\u001b[0m\u001b[0;34m)\u001b[0m\u001b[0;34m\u001b[0m\u001b[0;34m\u001b[0m\u001b[0m\n",
            "\u001b[0m\u001b[0;32m----> 6 \u001b[0;31m\u001b[0mbreakpoint\u001b[0m\u001b[0;34m(\u001b[0m\u001b[0;34m)\u001b[0m\u001b[0;34m\u001b[0m\u001b[0;34m\u001b[0m\u001b[0m\n",
            "\u001b[0m\u001b[0;32m      7 \u001b[0;31m\u001b[0mc\u001b[0m\u001b[0;34m=\u001b[0m \u001b[0;36m3\u001b[0m\u001b[0;34m\u001b[0m\u001b[0;34m\u001b[0m\u001b[0m\n",
            "\u001b[0m\u001b[0;32m      8 \u001b[0;31m\u001b[0mprint\u001b[0m\u001b[0;34m(\u001b[0m\u001b[0mc\u001b[0m\u001b[0;34m)\u001b[0m\u001b[0;34m\u001b[0m\u001b[0;34m\u001b[0m\u001b[0m\n",
            "\u001b[0m\n",
            "ipdb> q\n"
          ]
        },
        {
          "output_type": "stream",
          "name": "stderr",
          "text": [
            "\n",
            "PYDEV DEBUGGER WARNING:\n",
            "sys.settrace() should not be used when the debugger is being used.\n",
            "This may cause the debugger to stop working correctly.\n",
            "If this is needed, please check: \n",
            "http://pydev.blogspot.com/2007/06/why-cant-pydev-debugger-work-with.html\n",
            "to see how to restore the debug tracing back correctly.\n",
            "Call Location:\n",
            "  File \"/usr/lib/python3.10/bdb.py\", line 361, in set_quit\n",
            "    sys.settrace(None)\n",
            "\n"
          ]
        }
      ]
    },
    {
      "cell_type": "markdown",
      "source": [
        "**2. With ipdb**"
      ],
      "metadata": {
        "id": "H_trnL5_Hh63"
      }
    },
    {
      "cell_type": "code",
      "source": [
        "!pip install -Uqq ipdb\n",
        "import ipdb"
      ],
      "metadata": {
        "colab": {
          "base_uri": "https://localhost:8080/"
        },
        "id": "rHik0Ae5HsVA",
        "outputId": "c027660a-f4cf-4495-de4b-0a5a3517f9b4"
      },
      "execution_count": null,
      "outputs": [
        {
          "output_type": "stream",
          "name": "stdout",
          "text": [
            "\u001b[2K     \u001b[90m━━━━━━━━━━━━━━━━━━━━━━━━━━━━━━━━━━━━━━━━\u001b[0m \u001b[32m1.6/1.6 MB\u001b[0m \u001b[31m7.2 MB/s\u001b[0m eta \u001b[36m0:00:00\u001b[0m\n",
            "\u001b[?25h"
          ]
        }
      ]
    },
    {
      "cell_type": "code",
      "source": [
        "a = 1\n",
        "print(a)\n",
        "ipdb.set_trace()\n",
        "b = 2\n",
        "print(b)\n",
        "ipdb.set_trace()\n",
        "c= 3\n",
        "print(c)"
      ],
      "metadata": {
        "colab": {
          "base_uri": "https://localhost:8080/"
        },
        "id": "o62mUVUsKuXw",
        "outputId": "7b5de4c0-e06b-4373-90aa-b9802261cfe2"
      },
      "execution_count": null,
      "outputs": [
        {
          "output_type": "stream",
          "name": "stdout",
          "text": [
            "1\n",
            "--Return--\n",
            "None\n",
            "> \u001b[0;32m<ipython-input-9-c42e8409ca97>\u001b[0m(3)\u001b[0;36m<cell line: 3>\u001b[0;34m()\u001b[0m\n",
            "\u001b[0;32m      2 \u001b[0;31m\u001b[0mprint\u001b[0m\u001b[0;34m(\u001b[0m\u001b[0ma\u001b[0m\u001b[0;34m)\u001b[0m\u001b[0;34m\u001b[0m\u001b[0;34m\u001b[0m\u001b[0m\n",
            "\u001b[0m\u001b[0;32m----> 3 \u001b[0;31m\u001b[0mipdb\u001b[0m\u001b[0;34m.\u001b[0m\u001b[0mset_trace\u001b[0m\u001b[0;34m(\u001b[0m\u001b[0;34m)\u001b[0m\u001b[0;34m\u001b[0m\u001b[0;34m\u001b[0m\u001b[0m\n",
            "\u001b[0m\u001b[0;32m      4 \u001b[0;31m\u001b[0mb\u001b[0m \u001b[0;34m=\u001b[0m \u001b[0;36m2\u001b[0m\u001b[0;34m\u001b[0m\u001b[0;34m\u001b[0m\u001b[0m\n",
            "\u001b[0m\n",
            "ipdb> c\n",
            "2\n",
            "--Return--\n",
            "None\n",
            "> \u001b[0;32m<ipython-input-9-c42e8409ca97>\u001b[0m(6)\u001b[0;36m<cell line: 6>\u001b[0;34m()\u001b[0m\n",
            "\u001b[0;32m      5 \u001b[0;31m\u001b[0mprint\u001b[0m\u001b[0;34m(\u001b[0m\u001b[0mb\u001b[0m\u001b[0;34m)\u001b[0m\u001b[0;34m\u001b[0m\u001b[0;34m\u001b[0m\u001b[0m\n",
            "\u001b[0m\u001b[0;32m----> 6 \u001b[0;31m\u001b[0mipdb\u001b[0m\u001b[0;34m.\u001b[0m\u001b[0mset_trace\u001b[0m\u001b[0;34m(\u001b[0m\u001b[0;34m)\u001b[0m\u001b[0;34m\u001b[0m\u001b[0;34m\u001b[0m\u001b[0m\n",
            "\u001b[0m\u001b[0;32m      7 \u001b[0;31m\u001b[0mc\u001b[0m\u001b[0;34m=\u001b[0m \u001b[0;36m3\u001b[0m\u001b[0;34m\u001b[0m\u001b[0;34m\u001b[0m\u001b[0m\n",
            "\u001b[0m\n",
            "ipdb> c\n",
            "3\n"
          ]
        }
      ]
    },
    {
      "cell_type": "markdown",
      "source": [
        "**3. With pdb**"
      ],
      "metadata": {
        "id": "ads0sfYrK8Jw"
      }
    },
    {
      "cell_type": "code",
      "source": [
        "import pdb\n",
        "\n",
        "a = 1\n",
        "print('the content of a is ', a)\n",
        "pdb.set_trace()\n",
        "b = 2\n",
        "print(b)\n",
        "pdb.set_trace()\n",
        "c= 3\n",
        "print(c)"
      ],
      "metadata": {
        "colab": {
          "base_uri": "https://localhost:8080/"
        },
        "id": "4LGfwI2tK6vr",
        "outputId": "28fb8356-0f84-40d8-c02c-701300fe30e4"
      },
      "execution_count": null,
      "outputs": [
        {
          "name": "stdout",
          "output_type": "stream",
          "text": [
            "the content of a is  1\n",
            "--Return--\n",
            "None\n",
            "> \u001b[0;32m<ipython-input-5-9b1e8af28d17>\u001b[0m(5)\u001b[0;36m<cell line: 5>\u001b[0;34m()\u001b[0m\n",
            "\u001b[0;32m      3 \u001b[0;31m\u001b[0ma\u001b[0m \u001b[0;34m=\u001b[0m \u001b[0;36m1\u001b[0m\u001b[0;34m\u001b[0m\u001b[0;34m\u001b[0m\u001b[0m\n",
            "\u001b[0m\u001b[0;32m      4 \u001b[0;31m\u001b[0mprint\u001b[0m\u001b[0;34m(\u001b[0m\u001b[0;34m'the content of a is '\u001b[0m\u001b[0;34m,\u001b[0m \u001b[0ma\u001b[0m\u001b[0;34m)\u001b[0m\u001b[0;34m\u001b[0m\u001b[0;34m\u001b[0m\u001b[0m\n",
            "\u001b[0m\u001b[0;32m----> 5 \u001b[0;31m\u001b[0mpdb\u001b[0m\u001b[0;34m.\u001b[0m\u001b[0mset_trace\u001b[0m\u001b[0;34m(\u001b[0m\u001b[0;34m)\u001b[0m\u001b[0;34m\u001b[0m\u001b[0;34m\u001b[0m\u001b[0m\n",
            "\u001b[0m\u001b[0;32m      6 \u001b[0;31m\u001b[0mb\u001b[0m \u001b[0;34m=\u001b[0m \u001b[0;36m2\u001b[0m\u001b[0;34m\u001b[0m\u001b[0;34m\u001b[0m\u001b[0m\n",
            "\u001b[0m\u001b[0;32m      7 \u001b[0;31m\u001b[0mprint\u001b[0m\u001b[0;34m(\u001b[0m\u001b[0mb\u001b[0m\u001b[0;34m)\u001b[0m\u001b[0;34m\u001b[0m\u001b[0;34m\u001b[0m\u001b[0m\n",
            "\u001b[0m\n",
            "ipdb> p a\n",
            "1\n",
            "ipdb> q\n"
          ]
        }
      ]
    },
    {
      "cell_type": "markdown",
      "source": [
        "## Function\n",
        "\n",
        "Function returns multiple values:"
      ],
      "metadata": {
        "id": "txLCJxSm9G1Q"
      }
    },
    {
      "cell_type": "code",
      "source": [
        "def add_two(a,b):\n",
        "  return a, b, a+b\n",
        "\n",
        "x,y,z = add_two(2,3)\n",
        "print('The value of two numbers and their sum is {}+{}={}!'.format(x,y,z))"
      ],
      "metadata": {
        "colab": {
          "base_uri": "https://localhost:8080/"
        },
        "id": "DTavTYak8plj",
        "outputId": "79241370-6cc1-425a-99eb-12419a663526"
      },
      "execution_count": null,
      "outputs": [
        {
          "output_type": "stream",
          "name": "stdout",
          "text": [
            "The value of two numbers and their sum is 2+3=5!\n"
          ]
        }
      ]
    },
    {
      "cell_type": "markdown",
      "source": [
        "## Class\n",
        "\n"
      ],
      "metadata": {
        "id": "WPhynUgpGrsZ"
      }
    },
    {
      "cell_type": "markdown",
      "source": [
        "### Define a class\n",
        "\n",
        "Including __init__, and other methods."
      ],
      "metadata": {
        "id": "k941tCgUJgj0"
      }
    },
    {
      "cell_type": "code",
      "source": [
        "class Ellipse:\n",
        "  def __init__(self, w, h): # don't forget 'self'!!\n",
        "    self.width = w\n",
        "    self.height = h\n",
        "  def calculate_area(self): # no parameter\n",
        "    return 3.14159 * self.width * self.height\n",
        "  def scale(self, s): # one parameter\n",
        "    self.width = self.width * s\n",
        "    self.height = self.height * s"
      ],
      "metadata": {
        "id": "eAQ0lL6_HAAc"
      },
      "execution_count": null,
      "outputs": []
    },
    {
      "cell_type": "markdown",
      "source": [
        "### Create an object\n",
        "\n",
        "Call methods."
      ],
      "metadata": {
        "id": "rNLkI_vTJYET"
      }
    },
    {
      "cell_type": "code",
      "source": [
        "ell = Ellipse(3, 4) # two argument, width = 3\n",
        "print('Area:'+ str(ell.calculate_area()) ) # str(): number to string\n",
        "ell.scale(2)\n",
        "print('Scale it, width='+str(ell.width))"
      ],
      "metadata": {
        "colab": {
          "base_uri": "https://localhost:8080/"
        },
        "id": "qhjhHhofJqgh",
        "outputId": "52a5a890-88cf-4a8a-c989-4d22f0dc0aeb"
      },
      "execution_count": null,
      "outputs": [
        {
          "output_type": "stream",
          "name": "stdout",
          "text": [
            "Area:37.699079999999995\n",
            "Scale it, width=6\n"
          ]
        }
      ]
    },
    {
      "cell_type": "markdown",
      "source": [
        "Class variable and instance variable:\n",
        "![image.png](data:image/png;base64,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)"
      ],
      "metadata": {
        "id": "2fpEGVE6Mz10"
      }
    },
    {
      "cell_type": "markdown",
      "source": [
        "* kind is a class variable. It is shared among all objects of the\n",
        "class\n",
        "\n",
        "> To create a class variable, you put it at the top level in the class definition\n",
        "\n",
        "\n",
        "\n",
        "\n",
        "\n",
        "* name is an instance variable. It is unique to a single object\n",
        "\n",
        "> To create an instance variable, you define it inside the class's __init__(self,…) method\n"
      ],
      "metadata": {
        "id": "r2qmgUNnNUcS"
      }
    },
    {
      "cell_type": "markdown",
      "source": [
        "### Examples of Class"
      ],
      "metadata": {
        "id": "-bnIy8RhNmC7"
      }
    },
    {
      "cell_type": "markdown",
      "source": [
        "#### Sort an object based on its attribute\n",
        "Sort based on width\n",
        "\n"
      ],
      "metadata": {
        "id": "TyBA9r1ahZFr"
      }
    },
    {
      "cell_type": "code",
      "source": [
        "class Ellipse:\n",
        "  def __init__(self, w, h):\n",
        "    self.width = w\n",
        "    self.height = h\n",
        "\n",
        "# a helper funciton\n",
        "def get_width(obj):\n",
        "  return obj.width"
      ],
      "metadata": {
        "id": "AqE0FkCkiFrk"
      },
      "execution_count": null,
      "outputs": []
    },
    {
      "cell_type": "code",
      "source": [
        "ell3 = Ellipse(3, 4)\n",
        "ell9 = Ellipse(9, 4)\n",
        "ell5 = Ellipse(5, 4)\n",
        "ell_all = [ell3, ell9, ell5]\n",
        "\n",
        "ell_all.sort(key = get_width) # key is the name of the helper func\n",
        "for tmp in ell_all: # visit each sorted obj, show width\n",
        "  print('Width=',tmp.width)"
      ],
      "metadata": {
        "colab": {
          "base_uri": "https://localhost:8080/"
        },
        "id": "GWGX5Z59hmVC",
        "outputId": "8d9ef3d7-29b9-4b30-ae3c-e061e6e4127d"
      },
      "execution_count": null,
      "outputs": [
        {
          "output_type": "stream",
          "name": "stdout",
          "text": [
            "Width= 3\n",
            "Width= 5\n",
            "Width= 9\n"
          ]
        }
      ]
    },
    {
      "cell_type": "code",
      "source": [
        "ell_all.sort(key = get_width, reverse=True) # descend order\n",
        "for tmp in ell_all:\n",
        "  print('Width=',tmp.width)"
      ],
      "metadata": {
        "colab": {
          "base_uri": "https://localhost:8080/"
        },
        "id": "5qMmJ7w_SjtJ",
        "outputId": "6802b2bd-a25b-4c92-da8d-6dd3d71d84e3"
      },
      "execution_count": null,
      "outputs": [
        {
          "output_type": "stream",
          "name": "stdout",
          "text": [
            "Width= 9\n",
            "Width= 5\n",
            "Width= 3\n"
          ]
        }
      ]
    },
    {
      "cell_type": "markdown",
      "source": [
        "#### Class B's method creates Class A's object within it\n",
        "\n",
        "In this code:\n",
        "\n",
        "* ClassA has an __init__ method that initializes a message attribute and a display_message method that returns the message.\n",
        "* ClassB has a method create_class_a_object that creates and returns a new instance of ClassA.\n",
        "* An instance of ClassB is created, and its create_class_a_object method is called to create an instance of ClassA.\n",
        "* The display_message method of the ClassA instance is called to demonstrate that the object has been successfully created and is functioning as expected.\n"
      ],
      "metadata": {
        "id": "_bu7s0ZfL2bc"
      }
    },
    {
      "cell_type": "code",
      "source": [
        "class ClassA:\n",
        "    def __init__(self):\n",
        "        self.message = \"Object of Class A\"\n",
        "\n",
        "    def display_message(self):\n",
        "        return self.message\n",
        "\n",
        "\n",
        "class ClassB:\n",
        "    def create_class_a_object(self):\n",
        "        # Creating an object of ClassA inside a ClassB method\n",
        "        class_a_object = ClassA()\n",
        "        return class_a_object\n",
        "\n",
        "\n",
        "# Using ClassB to create an object of ClassA\n",
        "b = ClassB()\n",
        "a = b.create_class_a_object()  # a is now an object of ClassA\n",
        "\n",
        "# Demonstrating that 'a' is indeed an instance of ClassA\n",
        "print(a.display_message())  # Outputs: \"Object of Class A\"\n"
      ],
      "metadata": {
        "colab": {
          "base_uri": "https://localhost:8080/"
        },
        "id": "isGvjiacMAgP",
        "outputId": "987b8e88-4627-49c8-8eea-52ad9f495015"
      },
      "execution_count": null,
      "outputs": [
        {
          "output_type": "stream",
          "name": "stdout",
          "text": [
            "Object of Class A\n"
          ]
        }
      ]
    },
    {
      "cell_type": "markdown",
      "source": [
        "## Object Oritented Programming\n",
        "\n",
        "\n",
        "\n",
        "\n",
        "*   Abstraction\n",
        "*   Inheritance\n",
        "*   polymorphism\n",
        "\n",
        "\n",
        "\n"
      ],
      "metadata": {
        "id": "qT5bE80Q_SoE"
      }
    },
    {
      "cell_type": "markdown",
      "source": [
        "### Abstraction\n",
        "Abstraction is the process of capturing “necessary” details and hiding “unnecessary” details.\n",
        "\n",
        "When driving a car, the information on dashboard is abstraction. Only necessary details are provided on dashboard."
      ],
      "metadata": {
        "id": "pwekQTXh_sXx"
      }
    },
    {
      "cell_type": "markdown",
      "source": [
        "### Inheritance\n",
        "\n",
        "Parent-child relationships among objects. This is **is-a** relationship between two classes.\n",
        "\n",
        "For exammple, a dog **is an** Animal.\n",
        "\n",
        "\n",
        "*   Dog is the **derived** class (child class)\n",
        "*   Animal is the **base** class (father class)\n",
        "\n"
      ],
      "metadata": {
        "id": "1z1kxvuIAFb7"
      }
    },
    {
      "cell_type": "code",
      "source": [
        "# Base class\n",
        "class Animal:\n",
        "    def __init__(self, species):\n",
        "        self.species = species\n",
        "\n",
        "    def sound(self):\n",
        "        return \"Some generic sound\"\n",
        "\n",
        "# Derived class\n",
        "class Dog(Animal):\n",
        "    def __init__(self, name, breed):\n",
        "        # Initialize the base class with the species 'Dog'\n",
        "        super().__init__('Dog')\n",
        "        self.name = name\n",
        "        self.breed = breed\n",
        "\n",
        "    def sound(self):\n",
        "        return \"Woof!\"\n",
        "\n",
        "    def dog_info(self):\n",
        "        return f\"Name: {self.name}, Breed: {self.breed}, Species: {self.species}\"\n",
        "\n",
        "# Creating an instance of Dog\n",
        "my_dog = Dog(\"Jack\", \"Labrador\")\n",
        "print(my_dog.dog_info())  # Display information about the dog\n",
        "print(my_dog.sound())  # The sound the dog makes\n"
      ],
      "metadata": {
        "colab": {
          "base_uri": "https://localhost:8080/"
        },
        "id": "6hOwK3kpAolY",
        "outputId": "492275da-afc6-4c80-ba74-15cd6ddaa2d6"
      },
      "execution_count": null,
      "outputs": [
        {
          "output_type": "stream",
          "name": "stdout",
          "text": [
            "Name: Jack, Breed: Golden Retriever, Species: Dog\n",
            "Woof!\n"
          ]
        }
      ]
    },
    {
      "cell_type": "markdown",
      "source": [
        "In this example:\n",
        "\n",
        "Animal is the base class with an attribute species and a method sound() that returns a generic sound string. This class can represent any animal in a generic way.\n",
        "\n",
        "Dog is the derived class that inherits from Animal. It adds two more attributes specific to dogs: name and breed. The Dog class also overrides the sound() method from the Animal class to return a sound specific to dogs (\"Woof!\").\n",
        "\n",
        "The super().__init__('Dog') call within the Dog class constructor is used to call the constructor of the Animal class, passing 'Dog' as the species. This ensures that the species attribute is set in the Dog instance.\n",
        "\n",
        "The dog_info method in the Dog class combines information from both the Dog and Animal classes to provide a detailed description of the dog."
      ],
      "metadata": {
        "id": "MaKHa3FVA5zf"
      }
    },
    {
      "cell_type": "markdown",
      "source": [
        "#### Multiple Inheritance\n",
        "\n",
        "It is also possible for one thing to have an inheritance relationship with more than one other thing\n",
        "\n",
        "We defined a class Father and a class Engineer. Alan Jones, should be a member of BOTH classes. He is both a Father and an Engineer.\n",
        "\n",
        "The ServiceDog, Jack, is both a Pet and a WorkingDog."
      ],
      "metadata": {
        "id": "GSTgbNHnBG0T"
      }
    },
    {
      "cell_type": "code",
      "source": [
        "# Base class 1\n",
        "class Pet:\n",
        "    def __init__(self, name):\n",
        "        self.name = name\n",
        "\n",
        "    def show_affection(self):\n",
        "        return f\"{self.name} loves to cuddle.\"\n",
        "\n",
        "# Base class 2\n",
        "class WorkingDog:\n",
        "    def __init__(self, breed):\n",
        "        self.breed = breed\n",
        "\n",
        "    def work(self):\n",
        "        return f\"A {self.breed} works very hard.\"\n",
        "\n",
        "# Derived class inheriting from both Pet and WorkingDog\n",
        "class ServiceDog(Pet, WorkingDog):\n",
        "    def __init__(self, name, breed, service):\n",
        "        Pet.__init__(self, name)\n",
        "        WorkingDog.__init__(self, breed)\n",
        "        self.service = service\n",
        "\n",
        "    def service_info(self):\n",
        "        return f\"{self.name} is a {self.breed} trained for {self.service}. {self.show_affection()} Also, {self.work()}\"\n",
        "\n",
        "# Creating an instance of ServiceDog\n",
        "my_service_dog = ServiceDog(\"Jack\", \"Labrador\", \"guidance\")\n",
        "print(my_service_dog.service_info())\n"
      ],
      "metadata": {
        "id": "Knc7eCYbBMpK"
      },
      "execution_count": null,
      "outputs": []
    },
    {
      "cell_type": "markdown",
      "source": [
        "In this example:\n",
        "\n",
        "* **Pet is a base class** with an attribute name and a method show_affection() that describes how the pet shows affection towards its owners.\n",
        "\n",
        "* **WorkingDog is another base class**, with an attribute breed and a method work() that highlights the hard-working nature of working dog breeds.\n",
        "\n",
        "* **ServiceDog is the derived class** that inherits from both Pet and WorkingDog. It adds an additional attribute service to specify the type of service the dog is trained for. The ServiceDog class also defines its own method service_info() that provides comprehensive information about the service dog, combining elements from both parent classes as well as its own unique attributes.\n",
        "\n",
        "* **The ServiceDog class constructor calls the constructors of both parent classes** (Pet and WorkingDog) to ensure proper initialization of the inherited attributes."
      ],
      "metadata": {
        "id": "ZmPHKn49CR49"
      }
    },
    {
      "cell_type": "markdown",
      "source": [
        "### Polymorphism\n",
        "Use the same **interface** for objects of different types.\n",
        "\n",
        "Example: the + operator\n",
        "\n",
        "* add two numbers together: a = 2+3\n",
        "* concatenate two strings: \"hi\"+\"python\""
      ],
      "metadata": {
        "id": "1EnNycnlCd1k"
      }
    },
    {
      "cell_type": "code",
      "source": [
        "# Base class\n",
        "class Dog:\n",
        "    def __init__(self, name):\n",
        "        self.name = name\n",
        "\n",
        "    def speak(self):\n",
        "        return \"Woof!\"\n",
        "\n",
        "# Derived class 1\n",
        "class Labrador(Dog):\n",
        "    def speak(self):\n",
        "        return \"Woof! I'm a Labrador named \" + self.name\n",
        "\n",
        "# Derived class 2\n",
        "class Dachshund(Dog):\n",
        "    def speak(self):\n",
        "        return \"Woof! I'm a Dachshund named \" + self.name\n",
        "\n",
        "# Polymorphism in action\n",
        "def dog_speak(dog):\n",
        "    print(dog.speak())\n",
        "\n",
        "# Instances of the dogs\n",
        "generic_dog = Dog(\"Buddy\")\n",
        "labrador_dog = Labrador(\"Jack\")\n",
        "dachshund_dog = Dachshund(\"Fido\")\n",
        "\n",
        "# Demonstrating polymorphism\n",
        "dog_speak(generic_dog)  # Expected: Woof!\n",
        "dog_speak(labrador_dog)  # Expected: Woof! I'm a Labrador named Jack\n",
        "dog_speak(dachshund_dog)  # Expected: Woof! I'm a Dachshund named Fido\n"
      ],
      "metadata": {
        "colab": {
          "base_uri": "https://localhost:8080/"
        },
        "id": "2Menm0XeDxye",
        "outputId": "e47645b8-8a13-4bc0-cffc-a5328788e273"
      },
      "execution_count": null,
      "outputs": [
        {
          "output_type": "stream",
          "name": "stdout",
          "text": [
            "Woof!\n",
            "Woof! I'm a Labrador named Jack\n",
            "Woof! I'm a Dachshund named Fido\n"
          ]
        }
      ]
    },
    {
      "cell_type": "markdown",
      "source": [
        "In this example:\n",
        "\n",
        "* The **Dog base class** has a speak method that returns a generic bark sound.\n",
        "\n",
        "* The **Labrador and Dachshund classes** inherit from Dog but override the speak method to return a breed-specific message that includes their name.\n",
        "\n",
        "* The **dog_speak function demonstrates polymorphism**. It takes any object that is an instance of Dog (or its subclasses) and calls the speak method. Despite not knowing the exact class of the object it's called with, dog_speak works correctly with all Dog types due to polymorphism."
      ],
      "metadata": {
        "id": "tVBVPZeJEOdW"
      }
    },
    {
      "cell_type": "markdown",
      "source": [
        "### Duck Test\n",
        "\n",
        "If it looks like a duck, and quacks like a duck, then it’s a duck.\n",
        "\n",
        "Python uses “duck typing” to determine whether a given object can be used for a particular purpose"
      ],
      "metadata": {
        "id": "ddHw_uKEGLvy"
      }
    },
    {
      "cell_type": "code",
      "source": [
        "class Duck:\n",
        "    def quack(self):\n",
        "        print(\"Quack, quack!\")\n",
        "\n",
        "class Person:\n",
        "    def quack(self):\n",
        "        print(\"I'm pretending to be a duck!\")\n",
        "\n",
        "def make_it_quack(ducky):\n",
        "    ducky.quack()\n",
        "\n",
        "duck = Duck()\n",
        "john = Person()\n",
        "\n",
        "make_it_quack(duck)  # Outputs: Quack, quack!\n",
        "make_it_quack(john)  # Outputs: I'm pretending to be a duck!"
      ],
      "metadata": {
        "id": "yGo1tSTFE734"
      },
      "execution_count": null,
      "outputs": []
    },
    {
      "cell_type": "markdown",
      "source": [
        "In the example, both Duck and Person have a quack method, so the make_it_quack function can call quack on an instance of either class.\n",
        "\n",
        "It relies on the \"duck test\" - if it quacks, it's good enough to be used as a duck, without worrying about the actual class or type hierarchy."
      ],
      "metadata": {
        "id": "GBqczOrNGaCq"
      }
    },
    {
      "cell_type": "markdown",
      "source": [
        "## Format output\n",
        "\n",
        "(reference:\n",
        "* https://docs.python.org/3/library/string.html#formatspec\n",
        "* https://realpython.com/python-modulo-string-formatting/\n",
        "* https://realpython.com/python-format-mini-language/)\n",
        "\n",
        "**Format mini-language** defines the syntax of a format specifier.\n",
        "\n",
        "**String interpolation**: embed/insert values and objects into your string to dynamically build a new string.\n",
        "\n",
        "Three tools for string interpolation\n",
        "\n",
        "\n",
        "1.   modulo operator (%)\n",
        "2.   f-string literals\n",
        "3.   str.format() method\n",
        "\n",
        "\n",
        "\n"
      ],
      "metadata": {
        "id": "9oMbZlrqERCr"
      }
    },
    {
      "cell_type": "markdown",
      "source": [
        "### 1. modulo operator\n",
        "\n",
        "The first string interpolation tool in Python. Unfortunately, it doesn’t provide many string formatting features.\n",
        "\n",
        "Syntax: *format_string % values*"
      ],
      "metadata": {
        "id": "hCxV9JgRoEjg"
      }
    },
    {
      "cell_type": "code",
      "source": [
        "print(\"%d %s cost me %.2f dollars!\" % (3, \"books\", 66.1234))"
      ],
      "metadata": {
        "colab": {
          "base_uri": "https://localhost:8080/"
        },
        "id": "0jCV9hlGp_YL",
        "outputId": "6e2bf8f8-cf5f-4987-d0df-ef0eb9e39b90"
      },
      "execution_count": null,
      "outputs": [
        {
          "output_type": "stream",
          "name": "stdout",
          "text": [
            "3 books cost me 66.12 dollars!\n"
          ]
        }
      ]
    },
    {
      "cell_type": "markdown",
      "source": [
        "* The first item in the tuple is 3, a numeric value that replaces %d in the format string.\n",
        "* The next item is the string value \"books\", which replaces %s.\n",
        "* The last item is the float value 66.1234, which replaces %.2f. As .2 specify the precision of floating-point is 2, so output shows 66.12 rather than 66.1234"
      ],
      "metadata": {
        "id": "VmisDvnB3JwE"
      }
    },
    {
      "cell_type": "markdown",
      "source": [
        "### 2. f-string\n",
        "An f-string is a **string literal** prefixed with an f."
      ],
      "metadata": {
        "id": "ZW8ybux7nUYr"
      }
    },
    {
      "cell_type": "markdown",
      "source": [
        "Formatted string literal, or f-string, is quite a popular tool for string interpolation and formatting.\n",
        "\n",
        "F-string literals start with f or F.\n",
        "\n",
        "To interpolate a value into an f-string, you need replacement fields. The **replacement fields** are delimited by a pair of curly brackets ({})."
      ],
      "metadata": {
        "id": "CmsdoudftZJ3"
      }
    },
    {
      "cell_type": "code",
      "execution_count": null,
      "metadata": {
        "colab": {
          "base_uri": "https://localhost:8080/"
        },
        "id": "U3z5HfnyEOmC",
        "outputId": "5a81f798-ef3f-4f1c-995c-dba6fd600066"
      },
      "outputs": [
        {
          "output_type": "stream",
          "name": "stdout",
          "text": [
            "Account 1 balance is $23.00\n"
          ]
        }
      ],
      "source": [
        "acc = 1\n",
        "bal = 23.0\n",
        "print(f'Account {acc} balance is ${bal:.2f}')"
      ]
    },
    {
      "cell_type": "markdown",
      "source": [
        "You may wonder what this \":.2f\" means. That's **format specifiers**.\n",
        "\n",
        "You can **use format specifiers within replacement fields** to format the object that you want to interpolate into your strings.\n",
        "\n",
        "The syntax is considered a whole mini-language."
      ],
      "metadata": {
        "id": "RbjPf1hlrDuo"
      }
    },
    {
      "cell_type": "markdown",
      "source": [
        "\n",
        "\n",
        "![image.png](data:image/png;base64,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)"
      ],
      "metadata": {
        "id": "-hOlPhUur6em"
      }
    },
    {
      "cell_type": "markdown",
      "source": [
        "### format specifier\n",
        "\n",
        "#### format specifier: **[width][precision][Type]**\n",
        "\n",
        "Type: b for Binary, converts the number to based 2"
      ],
      "metadata": {
        "id": "heCuF3gAFBb1"
      }
    },
    {
      "cell_type": "code",
      "source": [
        "num1 = 3\n",
        "f'Transfer decimal value {num1} into Binary is {num1:b}'"
      ],
      "metadata": {
        "colab": {
          "base_uri": "https://localhost:8080/",
          "height": 35
        },
        "id": "blQv3J0Y0YoZ",
        "outputId": "800651c8-f2c4-4a74-c21e-d4e0d3dc3581"
      },
      "execution_count": null,
      "outputs": [
        {
          "output_type": "execute_result",
          "data": {
            "text/plain": [
              "'Transfer decimal value 3 into Binary is 11'"
            ],
            "application/vnd.google.colaboratory.intrinsic+json": {
              "type": "string"
            }
          },
          "metadata": {},
          "execution_count": 16
        }
      ]
    },
    {
      "cell_type": "code",
      "source": [
        "res = 1/3 # 0.333333333333\n",
        "f'Number:{res:7.2f}'\n",
        "#:7.2f-->Type f for float, width = 7, precision = 2, right aligned (default for number)"
      ],
      "metadata": {
        "colab": {
          "base_uri": "https://localhost:8080/",
          "height": 35
        },
        "id": "VBImMhXZFPLs",
        "outputId": "ee7e92a3-1e94-4b84-c250-5c90a45aad8c"
      },
      "execution_count": null,
      "outputs": [
        {
          "output_type": "execute_result",
          "data": {
            "text/plain": [
              "'Number:   0.33'"
            ],
            "application/vnd.google.colaboratory.intrinsic+json": {
              "type": "string"
            }
          },
          "metadata": {},
          "execution_count": 3
        }
      ]
    },
    {
      "cell_type": "code",
      "source": [
        "num = 123\n",
        "f'Number:{num:7d}'\n",
        "#:7d--> Type d for decimal integer, width = 7, right aligned (default for number)"
      ],
      "metadata": {
        "colab": {
          "base_uri": "https://localhost:8080/",
          "height": 35
        },
        "id": "op1u_zy8vG1J",
        "outputId": "9e618e73-acc8-44ee-9969-fecd88223a7e"
      },
      "execution_count": null,
      "outputs": [
        {
          "output_type": "execute_result",
          "data": {
            "text/plain": [
              "'Number:    123'"
            ],
            "application/vnd.google.colaboratory.intrinsic+json": {
              "type": "string"
            }
          },
          "metadata": {},
          "execution_count": 4
        }
      ]
    },
    {
      "cell_type": "code",
      "source": [
        "f'{\"Hello\":8s}'\n",
        "#:8s--> Type s for string, width = 8, left aligned (default for string)"
      ],
      "metadata": {
        "colab": {
          "base_uri": "https://localhost:8080/",
          "height": 35
        },
        "id": "-_y3D1aEGavu",
        "outputId": "077fdb8c-8359-4bae-906e-17910f94888e"
      },
      "execution_count": null,
      "outputs": [
        {
          "output_type": "execute_result",
          "data": {
            "text/plain": [
              "'Hello   '"
            ],
            "application/vnd.google.colaboratory.intrinsic+json": {
              "type": "string"
            }
          },
          "metadata": {},
          "execution_count": 11
        }
      ]
    },
    {
      "cell_type": "markdown",
      "source": [
        "#### format specifier: **[align]**\n",
        "\n",
        "< for left, > for right, if not using default:"
      ],
      "metadata": {
        "id": "PDuVwgN0wwhM"
      }
    },
    {
      "cell_type": "code",
      "source": [
        "num = 123\n",
        "f'Number:{num:<7d}'\n",
        "#:7d--> d for integer, width = 7, force to LEFT aligned (default right for number)"
      ],
      "metadata": {
        "colab": {
          "base_uri": "https://localhost:8080/",
          "height": 35
        },
        "outputId": "dc2b67ff-1470-4124-b094-6b8acd6c50d2",
        "id": "n1CzpsHsxAMQ"
      },
      "execution_count": null,
      "outputs": [
        {
          "output_type": "execute_result",
          "data": {
            "text/plain": [
              "'Number:123    '"
            ],
            "application/vnd.google.colaboratory.intrinsic+json": {
              "type": "string"
            }
          },
          "metadata": {},
          "execution_count": 6
        }
      ]
    },
    {
      "cell_type": "code",
      "source": [
        "f'{\"Hello\":>8s}'\n",
        "#:8s--> s for string, width = 8, force to RIGHT aligned (default left for string)"
      ],
      "metadata": {
        "colab": {
          "base_uri": "https://localhost:8080/",
          "height": 36
        },
        "outputId": "d9442ce2-9623-466d-8c64-6fb90ee4eb25",
        "id": "KlEx5Os3xAMR"
      },
      "execution_count": null,
      "outputs": [
        {
          "output_type": "execute_result",
          "data": {
            "text/plain": [
              "'Hello   '"
            ],
            "application/vnd.google.colaboratory.intrinsic+json": {
              "type": "string"
            }
          },
          "metadata": {},
          "execution_count": 7
        }
      ]
    },
    {
      "cell_type": "markdown",
      "source": [
        "Please pay attention to the order! [align] before [width]"
      ],
      "metadata": {
        "id": "646L9mILxR0J"
      }
    },
    {
      "cell_type": "markdown",
      "source": [
        "#### format specifier: **[grouping_option]**\n",
        "\n",
        "group numeric values conveniently and improve readability."
      ],
      "metadata": {
        "id": "quTlC00SwJGA"
      }
    },
    {
      "cell_type": "code",
      "source": [
        "looooong_num = 123456789\n",
        "f'Long number:{looooong_num:,}'"
      ],
      "metadata": {
        "colab": {
          "base_uri": "https://localhost:8080/",
          "height": 36
        },
        "id": "otX-A4RewTZr",
        "outputId": "2a626ac4-a392-4e1d-f291-e17b1538379b"
      },
      "execution_count": null,
      "outputs": [
        {
          "output_type": "execute_result",
          "data": {
            "text/plain": [
              "'Long number:123,456,789'"
            ],
            "application/vnd.google.colaboratory.intrinsic+json": {
              "type": "string"
            }
          },
          "metadata": {},
          "execution_count": 3
        }
      ]
    },
    {
      "cell_type": "markdown",
      "source": [
        "#### format specifier: **[sign]**\n",
        "\n",
        "+:  a sign should be used for both positive and negative numbers\n",
        "\n",
        "-: a sign should be used only for negative numbers (default behaviour)\n",
        "\n",
        "space: a leading space should be used on positive numbers and a minus sign on negative numbers"
      ],
      "metadata": {
        "id": "u48DZny0trKN"
      }
    },
    {
      "cell_type": "code",
      "source": [
        "pos_num = 88\n",
        "neg_num = -10\n",
        "f'first:{pos_num:+}, second:{neg_num:+}' # + --> a sign should be used!"
      ],
      "metadata": {
        "colab": {
          "base_uri": "https://localhost:8080/",
          "height": 35
        },
        "id": "C4F7RPyJxiLA",
        "outputId": "eca86d63-d071-4d4f-f2c1-c22cb57875fe"
      },
      "execution_count": null,
      "outputs": [
        {
          "output_type": "execute_result",
          "data": {
            "text/plain": [
              "'first:+88, second:-10'"
            ],
            "application/vnd.google.colaboratory.intrinsic+json": {
              "type": "string"
            }
          },
          "metadata": {},
          "execution_count": 9
        }
      ]
    },
    {
      "cell_type": "code",
      "source": [
        "f'first:{pos_num:-}, second:{neg_num:-}'# - --> a sign only for negative!"
      ],
      "metadata": {
        "colab": {
          "base_uri": "https://localhost:8080/",
          "height": 35
        },
        "id": "DNTLiNFQxyWu",
        "outputId": "32429d24-5f93-47a7-b179-21ea95eb17e3"
      },
      "execution_count": null,
      "outputs": [
        {
          "output_type": "execute_result",
          "data": {
            "text/plain": [
              "'first:88, second:-10'"
            ],
            "application/vnd.google.colaboratory.intrinsic+json": {
              "type": "string"
            }
          },
          "metadata": {},
          "execution_count": 10
        }
      ]
    },
    {
      "cell_type": "code",
      "source": [
        "f'first:{pos_num: }, second:{neg_num: }'# space --> leading space for pos, minus sign for neg"
      ],
      "metadata": {
        "colab": {
          "base_uri": "https://localhost:8080/",
          "height": 35
        },
        "id": "1pKg3P2XyQVx",
        "outputId": "1aa3abd5-79e5-4265-a2fd-c110a87a8e5b"
      },
      "execution_count": null,
      "outputs": [
        {
          "output_type": "execute_result",
          "data": {
            "text/plain": [
              "'first: 88, second:-10'"
            ],
            "application/vnd.google.colaboratory.intrinsic+json": {
              "type": "string"
            }
          },
          "metadata": {},
          "execution_count": 17
        }
      ]
    },
    {
      "cell_type": "markdown",
      "source": [
        "**Grammer of f-string**\n",
        "\n",
        "start with f, followed by a single pair of quotes.\n",
        "\n",
        "* The string without formatted?\n",
        "\n",
        "> Just leave it within this pair of quotes.\n",
        "\n",
        "* With formatted?\n",
        "\n",
        "\n",
        "\n",
        "> Insert content into {:}, put format specifier on right of : . Then, for the left of :\n",
        "\n",
        "\n",
        "> - a string, enclosed with a pair of double quotes\n",
        "> - a number, put its name\n",
        "\n",
        "\n",
        "Example: Format output for both string and number within a f-string:\n",
        "\n",
        "* string: \"Total price\", width is 20.\n",
        "* number: stored in variable total_value, 2 decimal places\n"
      ],
      "metadata": {
        "id": "Uh4mmNJJOtST"
      }
    },
    {
      "cell_type": "code",
      "source": [
        "total_value = 39.1811\n",
        "print( f'{\"Total price\":20s}: ${total_value:.2f}' )"
      ],
      "metadata": {
        "colab": {
          "base_uri": "https://localhost:8080/"
        },
        "id": "6XBQM4UYOst2",
        "outputId": "93fea131-16a6-4e23-c4dc-111e2643f17d"
      },
      "execution_count": null,
      "outputs": [
        {
          "output_type": "stream",
          "name": "stdout",
          "text": [
            "Total price         : $39.18\n"
          ]
        }
      ]
    },
    {
      "cell_type": "markdown",
      "source": [
        "Test your knowledge: a comprehensive example"
      ],
      "metadata": {
        "id": "Dkn0_3C7sYTH"
      }
    },
    {
      "cell_type": "code",
      "source": [
        "# Advanced example\n",
        "num_c = -123456789.5432\n",
        "# standard, num is placed between 'First part\"' and 'after'\n",
        "print(f'First part:{num_c}after')\n",
        "\n",
        "#[fill]:0; [align]:default(number is right align);\n",
        "#[sign]:default\n",
        "#[width]:20 -> (-000,000,123,456,790) takes 20\n",
        "#[grouping_option]: ,\n",
        "#[.precision]:0 ->0 digit for fractional part, aka, whole number. rounding on 789.54 will be 790\n",
        "#[type]:f\n",
        "print(f'First part:{num_c:=020,.0f}after') # use :=\n",
        "print(f'First part:{num_c:020,.0f}after') # use :"
      ],
      "metadata": {
        "colab": {
          "base_uri": "https://localhost:8080/"
        },
        "id": "5xR6dRO_J_gd",
        "outputId": "59b7c7b6-d2eb-41ad-fb81-bdac9de0708b"
      },
      "execution_count": null,
      "outputs": [
        {
          "output_type": "stream",
          "name": "stdout",
          "text": [
            "First part:-123456789.5432after\n",
            "First part:-000,000,123,456,790after\n",
            "First part:-000,000,123,456,790after\n"
          ]
        }
      ]
    },
    {
      "cell_type": "code",
      "source": [
        "#[fill]:no fill; [align]:default(number is right align);\n",
        "#[sign]:+\n",
        "#[width]:20\n",
        "#[grouping_option]: ,\n",
        "#[.precision]:0\n",
        "#[type]:f\n",
        "print(f'First part:{num_c*-1:=+20,.0f}after')\n",
        "# the value has been changed to a positive number by the expression num*(-1)"
      ],
      "metadata": {
        "id": "yzRFpM19JCkI",
        "colab": {
          "base_uri": "https://localhost:8080/"
        },
        "outputId": "610dea4c-20f6-499a-8d1e-b3a0eedb8040"
      },
      "execution_count": null,
      "outputs": [
        {
          "output_type": "stream",
          "name": "stdout",
          "text": [
            "First part:+        123,456,790after\n"
          ]
        }
      ]
    },
    {
      "cell_type": "markdown",
      "source": [
        "### 3. Str.format()\n",
        "\n",
        "It is a string method to interpolate values into your strings.\n",
        "\n",
        "Formats the specified value(s) and insert them inside the string's placeholder.\n",
        "\n",
        "format() inserts its arguments into the *replacement fields* and builds a final string."
      ],
      "metadata": {
        "id": "6T92fj8JOFJ7"
      }
    },
    {
      "cell_type": "code",
      "source": [
        "# A quick example: using different placeholder values\n",
        "txt1 = \"My name is {fname}, I'm {age}\".format(fname = \"Zijing\", age = 18)\n",
        "txt2 = \"My name is {0}, I'm {1}\".format(\"Zijing\",18)\n",
        "txt3 = \"My name is {}, I'm {}\".format(\"Zijing\",18)\n",
        "print(txt1)\n",
        "print(txt2)\n",
        "print(txt3)"
      ],
      "metadata": {
        "colab": {
          "base_uri": "https://localhost:8080/"
        },
        "id": "lFudjBf_OZsS",
        "outputId": "50013b8c-8620-41bb-f833-35fb91e84bda"
      },
      "execution_count": null,
      "outputs": [
        {
          "output_type": "stream",
          "name": "stdout",
          "text": [
            "My name is Zijing, I'm 18\n",
            "My name is Zijing, I'm 18\n",
            "My name is Zijing, I'm 18\n"
          ]
        }
      ]
    },
    {
      "cell_type": "markdown",
      "source": [
        "Combine **format specifiers** with str.format()"
      ],
      "metadata": {
        "id": "qIAII9HjORfz"
      }
    },
    {
      "cell_type": "code",
      "source": [
        "print(\"For only {price:.2f} dollars!\".format(price = 99.9))"
      ],
      "metadata": {
        "colab": {
          "base_uri": "https://localhost:8080/"
        },
        "id": "4arkeYJEPYpx",
        "outputId": "e1154c2d-ae3c-423b-841b-595260227744"
      },
      "execution_count": null,
      "outputs": [
        {
          "output_type": "stream",
          "name": "stdout",
          "text": [
            "For only 99.90 dollars!\n"
          ]
        }
      ]
    },
    {
      "cell_type": "markdown",
      "source": [
        "#### replacement fields\n",
        "\n",
        "The str.format() function can be used to accomplish similar things as F-strings. In particular, the format specification mini-language can still be used to control how data are printed to the screen.\n",
        "\n",
        "The difference lies in the optional **replacement fields**.\n",
        "\n",
        "Strings on which str.format() is called can contain replacement fields, **data contained in curly braces {}** that are operated on before being printed to the screen\n",
        "\n",
        "Similar to the format specification mini-language, there is also a grammar for replacement fields, which syntax is:\n",
        "\n",
        "**replacement_field ::= \"{\" [field_name] [\"!\" conversion] [\":\" format_spec] \"}\"**\n",
        "\n",
        "* field_name: thing to print\n",
        "* conversion and format_spec: how to print\n"
      ],
      "metadata": {
        "id": "K1Hsgju5KuUP"
      }
    },
    {
      "cell_type": "markdown",
      "source": [
        "In less formal terms, the replacement field can start with\n",
        "* a **field_name** that specifies the object whose value is to be formatted and inserted into the output instead of the replacement field.\n",
        "* The field_name is optionally followed by a **conversion**, which is preceded by an exclamation point '!',\n",
        "* and a **format_spec**, which is preceded by a colon ':'. These specify a non-default format for the replacement value.”\n",
        "\n",
        "Note that the basis of a replacement field is an object, not an expression (as it was in the F-strings). Putting an arbitrary expression into a replacement field will result in an error.\n"
      ],
      "metadata": {
        "id": "UeehyBSZ8y5S"
      }
    },
    {
      "cell_type": "markdown",
      "source": [
        "Also in less formal terms, the **field_name** can be one of three things:\n",
        "\n",
        "1. A keyword, in which case it refers to a named argument passed\n",
        "into the .format() function\n",
        "2. An integer, in which case it refers to a positional argument passed into the .format() function (as in, 0 refers to the first argument, 1 to the second, etc.)\n",
        "3. Blank, in which case it gets the next positional argument from the arguments to the .format() function in ascending numerical order\n",
        "\n",
        "That is, “{first} {second} {third}”.format(first=a, second=b, third=c) does the same thing as “{0} {1} {2}”.format(a, b, c)which in turn does the same thing as “{} {} {}”.format(a, b, c)\n"
      ],
      "metadata": {
        "id": "QRzf5ZR-9K-d"
      }
    },
    {
      "cell_type": "code",
      "source": [
        "# field_name\n",
        "a, b, c = 3, 1, 4\n",
        "print(\"{first}{second}{third}\".format(first = a, second=b, third = c)) # case 1\n",
        "print(\"{0}{1}{2}\".format(a, b, c)) # case 2\n",
        "print(\"{}{}{}\".format(a, b, c)) # case 3"
      ],
      "metadata": {
        "colab": {
          "base_uri": "https://localhost:8080/"
        },
        "id": "UbkzRYUn9fD1",
        "outputId": "c3a73768-572f-4b87-dd94-b0eb1846e7b9"
      },
      "execution_count": null,
      "outputs": [
        {
          "output_type": "stream",
          "name": "stdout",
          "text": [
            "314\n",
            "314\n",
            "314\n"
          ]
        }
      ]
    },
    {
      "cell_type": "markdown",
      "source": [
        "**conversion** is rarely used\n",
        "\n",
        "It can be one of three things:\n",
        "1. !s, the object is passed to the str()\n",
        "2. !r, the object is passed to the repr()\n",
        "3. !a, the object is passed to the ascii()\n",
        "\n",
        "The “default behaviour” is the same is what happens when you normally try to print a non-string value, which is to say the __format__ method of that object is called.\n",
        "\n",
        "repr() : returns a printable string describing the object that is passed in. A class can control what this function returns for its instances when called by defining a __repr__() dunder method.\n",
        "\n",
        "ascii(): returns a readable version of any objects. Replace any non-ascii characters with escape characters.\n"
      ],
      "metadata": {
        "id": "84EEcWfr-2VO"
      }
    },
    {
      "cell_type": "code",
      "source": [
        "x = ascii(\"My name is Stellå\")\n",
        "print(x)"
      ],
      "metadata": {
        "colab": {
          "base_uri": "https://localhost:8080/"
        },
        "id": "OyBUI84pEM-X",
        "outputId": "96acd668-c331-4f25-f44e-7bad2045b9e5"
      },
      "execution_count": null,
      "outputs": [
        {
          "output_type": "stream",
          "name": "stdout",
          "text": [
            "'My name is Stell\\xe5'\n"
          ]
        }
      ]
    },
    {
      "cell_type": "code",
      "source": [
        "print(\"Case 1--{!s}\".format(99.99)) # case 1\n",
        "print(\"Case 2--{!r}\".format('Stellå')) # case 2\n",
        "print(\"Case 3--{!a}\".format('Stellå')) # case 2"
      ],
      "metadata": {
        "colab": {
          "base_uri": "https://localhost:8080/"
        },
        "id": "o6myUAB5Cz9A",
        "outputId": "e01149e9-5d1e-40ba-d424-b19c1d637474"
      },
      "execution_count": null,
      "outputs": [
        {
          "output_type": "stream",
          "name": "stdout",
          "text": [
            "Case 1--99.99\n",
            "Case 2--'Stellå'\n",
            "Case 3--'Stell\\xe5'\n"
          ]
        }
      ]
    },
    {
      "cell_type": "markdown",
      "source": [
        "The **format_spec** argument is same as what we used in f-string.\n",
        "\n",
        "However, str.format() lets you do something pretty cool: format_spec field can have nested replacement fields in it!\n",
        "For example, print('{0:{width}{base}}'.format(num, base=base, width=width), end=‘ ‘)\n",
        "\n",
        "This makes the format string itself programmable, as in the example we saw a bit earlier\n"
      ],
      "metadata": {
        "id": "b_cGEsnS_nlQ"
      }
    },
    {
      "cell_type": "code",
      "source": [
        "width = 5\n",
        "for num in range(16):\n",
        "  for base in 'dxob':\n",
        "    print('{0:{width}{base}}'.format(num, base=base, width=width), end=' ')\n",
        "  print() # change to next line after inner for-loop\n"
      ],
      "metadata": {
        "colab": {
          "base_uri": "https://localhost:8080/"
        },
        "id": "WVg4GAjDLey_",
        "outputId": "dd90cf15-a6bd-4a1e-ee4c-1a12a790abc6"
      },
      "execution_count": null,
      "outputs": [
        {
          "output_type": "stream",
          "name": "stdout",
          "text": [
            "    0+    0+    0+    0+\n",
            "    1+    1+    1+    1+\n",
            "    2+    2+    2+   10+\n",
            "    3+    3+    3+   11+\n",
            "    4+    4+    4+  100+\n",
            "    5+    5+    5+  101+\n",
            "    6+    6+    6+  110+\n",
            "    7+    7+    7+  111+\n",
            "    8+    8+   10+ 1000+\n",
            "    9+    9+   11+ 1001+\n",
            "   10+    a+   12+ 1010+\n",
            "   11+    b+   13+ 1011+\n",
            "   12+    c+   14+ 1100+\n",
            "   13+    d+   15+ 1101+\n",
            "   14+    e+   16+ 1110+\n",
            "   15+    f+   17+ 1111+\n"
          ]
        }
      ]
    },
    {
      "cell_type": "markdown",
      "source": [
        "### Format output for file\n",
        "\n",
        "Write a beautiful and elegant txt file."
      ],
      "metadata": {
        "id": "4Ih7mRCdrIQZ"
      }
    },
    {
      "cell_type": "code",
      "source": [
        "txt1 = \"My name is {fname}, I'm {age}\".format(fname = \"Zijing\", age = 18)\n",
        "# txt2 = \"My name is {0}, I'm {1}\".format(\"Zijing\",18)\n",
        "\n",
        "with open(\"format_file.txt\", \"w\") as my_file:\n",
        "    my_file.write(txt1+'\\n') # one way to add the new line character\n",
        "    my_file.write(\"My name is {0}, I'm {1}, \\n\".format(\"Zijing\",18)) # another way\n",
        "    my_file.write(\"This is an elegant text file \\n\")\n"
      ],
      "metadata": {
        "id": "IzsTTS0xrL34"
      },
      "execution_count": null,
      "outputs": []
    },
    {
      "cell_type": "code",
      "source": [
        "# write a 'table' to file with nested for-loop\n",
        "width = 5\n",
        "with open('format_table.txt','w') as myfile:\n",
        "  for num in range(16):\n",
        "    for base in 'dxob':\n",
        "      myfile.write('{0:{width}{base}}'.format(num, base=base, width=width)+' ')\n",
        "    myfile.write('\\n') # add a newline character at the end of each row\n"
      ],
      "metadata": {
        "id": "79YnBZdFvvg-"
      },
      "execution_count": null,
      "outputs": []
    },
    {
      "cell_type": "markdown",
      "source": [
        "## Files"
      ],
      "metadata": {
        "id": "FATUKUK1Kx76"
      }
    },
    {
      "cell_type": "markdown",
      "source": [
        "### open()"
      ],
      "metadata": {
        "id": "pm1bHSmrK3NZ"
      }
    },
    {
      "cell_type": "code",
      "source": [
        "## Don't use this\n",
        "# file = open(\"filename.txt\", 'r')\n",
        "# string = file.read() # read entire content as a string\n",
        "\n",
        "## read line with for loop\n",
        "# for line in file:\n",
        "#    print(line[:-1])\n",
        "\n",
        "# file.close()"
      ],
      "metadata": {
        "id": "cOjifVocKzSj"
      },
      "execution_count": null,
      "outputs": []
    },
    {
      "cell_type": "markdown",
      "source": [
        "### 'With as' to open\n",
        "\n",
        "No need to manually close the file.\n",
        "\n",
        "First create a new file and write to it.\n",
        "\n",
        "Then read it."
      ],
      "metadata": {
        "id": "f9zxngBWK502"
      }
    },
    {
      "cell_type": "code",
      "source": [
        "with open(\"hello.txt\", \"w\") as my_file:\n",
        "    my_file.write(\"Hello world \\n\")\n",
        "    my_file.write(\"I hope you're doing well today \\n\")\n",
        "    my_file.write(\"This is a text file \\n\")\n",
        "    my_file.write(\"Have a nice time \\n\")\n",
        "\n",
        "# for-loop, read line by line. Why empty lines?\n",
        "with open(\"hello.txt\") as my_file:\n",
        "    for line in my_file:\n",
        "        print(line)"
      ],
      "metadata": {
        "colab": {
          "base_uri": "https://localhost:8080/"
        },
        "id": "8nbYwe0LK74H",
        "outputId": "df9a7e50-ad8b-4e3b-9d1f-ce0d6f6bd4c1"
      },
      "execution_count": null,
      "outputs": [
        {
          "output_type": "stream",
          "name": "stdout",
          "text": [
            "Hello world \n",
            "\n",
            "I hope you're doing well today \n",
            "\n",
            "This is a text file \n",
            "\n",
            "Have a nice time \n",
            "\n"
          ]
        }
      ]
    },
    {
      "cell_type": "markdown",
      "source": [
        "Remove empty lines"
      ],
      "metadata": {
        "id": "ozZOFWoE9u9O"
      }
    },
    {
      "cell_type": "code",
      "source": [
        "file = open(\"hello.txt\", 'r')\n",
        "\n",
        "for line in file:\n",
        "  print(line[:-1]) # try print(line) rather than line[:-1]\n",
        "file.close()"
      ],
      "metadata": {
        "colab": {
          "base_uri": "https://localhost:8080/"
        },
        "id": "APqRE1J5-Wye",
        "outputId": "c691473c-6258-48f2-8ec8-4366a13a3207"
      },
      "execution_count": null,
      "outputs": [
        {
          "output_type": "stream",
          "name": "stdout",
          "text": [
            "Hello world \n",
            "I hope you're doing well today \n",
            "This is a text file \n",
            "Have a nice time \n"
          ]
        }
      ]
    },
    {
      "cell_type": "code",
      "source": [
        "file = open(\"hello.txt\", 'r')\n",
        "string = file.read() # read entire content as a string\n",
        "print(string)\n",
        "file.close()"
      ],
      "metadata": {
        "colab": {
          "base_uri": "https://localhost:8080/"
        },
        "id": "DUmBiUzF9ufy",
        "outputId": "706f5ac2-dcb4-4206-acbb-8d6abd432dbd"
      },
      "execution_count": null,
      "outputs": [
        {
          "output_type": "stream",
          "name": "stdout",
          "text": [
            "Hello world \n",
            "I hope you're doing well today \n",
            "This is a text file \n",
            "Have a nice time \n",
            "\n"
          ]
        }
      ]
    },
    {
      "cell_type": "markdown",
      "source": [
        "**File Modes**: default is 'r'. Read from but not written to.\n",
        "\n",
        "![image.png](data:image/png;base64,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)"
      ],
      "metadata": {
        "id": "BJJnlxQv-lQ3"
      }
    },
    {
      "cell_type": "markdown",
      "source": [
        "### Process content of a line (Challenge)"
      ],
      "metadata": {
        "id": "YwFDKwGo9UAZ"
      }
    },
    {
      "cell_type": "code",
      "source": [
        "with open(\"test_file.txt\", \"w\") as my_file:\n",
        "    my_file.write(\"1,2,3\\n\")\n",
        "    my_file.write(\"4,5,6\\n\")\n",
        "    my_file.write(\"7,8,9\\n\")"
      ],
      "metadata": {
        "id": "PJ37_i-bFzTh"
      },
      "execution_count": null,
      "outputs": []
    },
    {
      "cell_type": "markdown",
      "source": [
        "Attention: there is a blank line in line4 if you open text_file.txt"
      ],
      "metadata": {
        "id": "d_ve_dxYGJgl"
      }
    },
    {
      "cell_type": "code",
      "source": [
        "with open('test_file.txt') as f:\n",
        "  for line in f:\n",
        "    print(line)"
      ],
      "metadata": {
        "colab": {
          "base_uri": "https://localhost:8080/"
        },
        "id": "ZKmAc8GNGPjC",
        "outputId": "f7fbdd31-fcb0-4ed4-9735-31b10e18c055"
      },
      "execution_count": null,
      "outputs": [
        {
          "output_type": "stream",
          "name": "stdout",
          "text": [
            "1,2,3\n",
            "\n",
            "4,5,6\n",
            "\n",
            "7,8,9\n",
            "\n"
          ]
        }
      ]
    },
    {
      "cell_type": "code",
      "source": [
        "with open('test_file.txt') as f:\n",
        "  for line in f:\n",
        "    nums = line.split(',')\n",
        "    sum = 0\n",
        "    for n in nums:\n",
        "      print(n, end = ' ')\n",
        "      sum = sum + int(n)\n",
        "\n",
        "    print(\"=\", sum)"
      ],
      "metadata": {
        "colab": {
          "base_uri": "https://localhost:8080/"
        },
        "id": "VMgSk24HGYHA",
        "outputId": "f152b92d-326e-439d-cede-179822f9f281"
      },
      "execution_count": null,
      "outputs": [
        {
          "output_type": "stream",
          "name": "stdout",
          "text": [
            "1 2 3\n",
            " = 6\n",
            "4 5 6\n",
            " = 15\n",
            "7 8 9\n",
            " = 24\n"
          ]
        }
      ]
    },
    {
      "cell_type": "code",
      "source": [
        "# strip()\n",
        "with open('test_file.txt') as f:\n",
        "  for line in f:\n",
        "    nums = line.strip().split(',') # popular way!!\n",
        "    sum = 0\n",
        "    for n in nums:\n",
        "      print(n, end = ' ')\n",
        "      sum = sum + int(n)\n",
        "\n",
        "    print(\"=\", sum)"
      ],
      "metadata": {
        "colab": {
          "base_uri": "https://localhost:8080/"
        },
        "id": "ytOlLbDzGxol",
        "outputId": "87402aa2-cd51-4bbf-cd9b-445f0393eef9"
      },
      "execution_count": null,
      "outputs": [
        {
          "output_type": "stream",
          "name": "stdout",
          "text": [
            "1 2 3 = 6\n",
            "4 5 6 = 15\n",
            "7 8 9 = 24\n"
          ]
        }
      ]
    },
    {
      "cell_type": "markdown",
      "source": [
        "### Write table-like content:"
      ],
      "metadata": {
        "id": "DkIHPjWLG9sv"
      }
    },
    {
      "cell_type": "code",
      "source": [
        "# check the value generated by nested loop\n",
        "for i in range(3):\n",
        "  for j in range(3):\n",
        "    print(\"i = {}, j={}, i*j={}\".format(i,j,i*j))"
      ],
      "metadata": {
        "colab": {
          "base_uri": "https://localhost:8080/"
        },
        "id": "ZX33yx0QHmx7",
        "outputId": "67ddb86b-d4af-4b87-a85c-f7d9e1770316"
      },
      "execution_count": null,
      "outputs": [
        {
          "output_type": "stream",
          "name": "stdout",
          "text": [
            "i = 0, j=0, i*j=0\n",
            "i = 0, j=1, i*j=0\n",
            "i = 0, j=2, i*j=0\n",
            "i = 1, j=0, i*j=0\n",
            "i = 1, j=1, i*j=1\n",
            "i = 1, j=2, i*j=2\n",
            "i = 2, j=0, i*j=0\n",
            "i = 2, j=1, i*j=2\n",
            "i = 2, j=2, i*j=4\n"
          ]
        }
      ]
    },
    {
      "cell_type": "code",
      "source": [
        "# write the above content in file\n",
        "with open('write_test_new.txt', mode = 'wt') as f:\n",
        "  for i in range(10):\n",
        "    for j in range(10):\n",
        "      f.write(\"{:>5}\".format(i*j))\n",
        "    f.write('\\n')"
      ],
      "metadata": {
        "id": "ynTdhrsEHVUt"
      },
      "execution_count": null,
      "outputs": []
    },
    {
      "cell_type": "markdown",
      "source": [
        "Homework: explore the below example."
      ],
      "metadata": {
        "id": "_EKuhJkB_Mps"
      }
    },
    {
      "cell_type": "code",
      "source": [
        "with open('write_test_new.txt') as f:\n",
        "    for line in f:\n",
        "        line = line.strip()\n",
        "        nums = line.split() # split by the white spaces\n",
        "        total = 0\n",
        "        for num in nums:\n",
        "            total += int(num)\n",
        "        print(line, 'sum =', total)"
      ],
      "metadata": {
        "colab": {
          "base_uri": "https://localhost:8080/"
        },
        "id": "ra56wdlUcaRC",
        "outputId": "1eda6ccc-b327-44fc-8b1d-80ea5ac11afc"
      },
      "execution_count": null,
      "outputs": [
        {
          "output_type": "stream",
          "name": "stdout",
          "text": [
            "0    0    0    0    0    0    0    0    0    0 sum = 0\n",
            "0    1    2    3    4    5    6    7    8    9 sum = 45\n",
            "0    2    4    6    8   10   12   14   16   18 sum = 90\n",
            "0    3    6    9   12   15   18   21   24   27 sum = 135\n",
            "0    4    8   12   16   20   24   28   32   36 sum = 180\n",
            "0    5   10   15   20   25   30   35   40   45 sum = 225\n",
            "0    6   12   18   24   30   36   42   48   54 sum = 270\n",
            "0    7   14   21   28   35   42   49   56   63 sum = 315\n",
            "0    8   16   24   32   40   48   56   64   72 sum = 360\n",
            "0    9   18   27   36   45   54   63   72   81 sum = 405\n"
          ]
        }
      ]
    },
    {
      "cell_type": "markdown",
      "source": [
        "Check if a file exist, if yes, open it; otherwise print error message"
      ],
      "metadata": {
        "id": "yGyabuylNRp-"
      }
    },
    {
      "cell_type": "code",
      "source": [
        "\n"
      ],
      "metadata": {
        "id": "otcZ8E8mNKUw"
      },
      "execution_count": null,
      "outputs": []
    },
    {
      "cell_type": "markdown",
      "source": [
        "### Json File\n",
        "https://www.w3schools.com/python/python_json.asp\n",
        "\n",
        "**json.load()** read json into Python\n",
        "\n",
        "**json.dump()** save Python as json"
      ],
      "metadata": {
        "id": "_mDzckOszrPI"
      }
    },
    {
      "cell_type": "code",
      "source": [
        "# writing to a Jason File.   json.dump()\n",
        "import json\n",
        "people = [\n",
        "    {'name': 'John Doe', 'age': 43, 'is_employee': True},\n",
        "     {'name': 'Jane Doe', 'age': 44, 'is_employee': False}\n",
        "    ] # True/False will be in lower case in people.json\n",
        "\n",
        "out_file = open('people.json', 'w')\n",
        "json.dump(people, out_file)\n",
        "out_file.close()"
      ],
      "metadata": {
        "id": "N1b-eq6eztox"
      },
      "execution_count": null,
      "outputs": []
    },
    {
      "cell_type": "code",
      "source": [
        "# Read json file as a Python object with json.load()\n",
        "import json\n",
        "in_file = open('people.json', 'r')\n",
        "\n",
        "people = json.load(in_file) # a list of dict\n",
        "in_file.close()\n",
        "\n",
        "for person in people: # for each element in list\n",
        "    print(person)\n"
      ],
      "metadata": {
        "id": "vtuiyFX51-jE"
      },
      "execution_count": null,
      "outputs": []
    },
    {
      "cell_type": "markdown",
      "source": [
        "### Path\n",
        "\n"
      ],
      "metadata": {
        "id": "W9awWFhyFiV0"
      }
    },
    {
      "cell_type": "code",
      "source": [
        "# Identify file\n",
        "import os\n",
        "os.path.isfile(path)"
      ],
      "metadata": {
        "id": "HRG_jKytFndE"
      },
      "execution_count": null,
      "outputs": []
    },
    {
      "cell_type": "code",
      "source": [
        "# Idenfity dir, create path if not exists\n",
        "if not os.path.isdir(path):\n",
        "  os.mkdir(path)"
      ],
      "metadata": {
        "id": "aUcSzdRUFx_7"
      },
      "execution_count": null,
      "outputs": []
    },
    {
      "cell_type": "code",
      "source": [
        "# List all files and folders\n",
        "os.listdir(path)"
      ],
      "metadata": {
        "id": "dtemNtjdGBtH"
      },
      "execution_count": null,
      "outputs": []
    },
    {
      "cell_type": "markdown",
      "source": [
        "## Tuple List Set Dict"
      ],
      "metadata": {
        "id": "W5-dUcf7O3LQ"
      }
    },
    {
      "cell_type": "markdown",
      "source": [
        "### Tuple\n",
        "\n",
        "Tuples are used to store multiple items in a single variable.\n",
        "\n",
        "Tuple is one of 4 built-in data types in Python used to store collections of data, the other 3 are List, Set, and Dictionary, all with different qualities and usage.\n",
        "\n",
        "A tuple is a collection which is **ordered and unchangeable**.\n",
        "\n",
        "Tuples are written with round brackets."
      ],
      "metadata": {
        "id": "_LxQunHNryaG"
      }
    },
    {
      "cell_type": "code",
      "source": [
        "# Tuple can have duplicated value\n",
        "thistuple = (\"apple\", \"banana\", \"cherry\", \"apple\", \"cherry\")\n",
        "print(thistuple)"
      ],
      "metadata": {
        "colab": {
          "base_uri": "https://localhost:8080/"
        },
        "id": "shqFgc6DsFVj",
        "outputId": "35e416ba-7521-48a6-a80a-ebe7e111929b"
      },
      "execution_count": null,
      "outputs": [
        {
          "output_type": "stream",
          "name": "stdout",
          "text": [
            "('apple', 'banana', 'cherry', 'apple', 'cherry')\n"
          ]
        }
      ]
    },
    {
      "cell_type": "code",
      "source": [
        "# Tuple is ordered\n",
        "for element in thistuple:\n",
        "  print(element)"
      ],
      "metadata": {
        "colab": {
          "base_uri": "https://localhost:8080/"
        },
        "id": "ccd2VEk9sODn",
        "outputId": "be2ab99b-b592-4453-dbff-c1f98bfe698c"
      },
      "execution_count": null,
      "outputs": [
        {
          "output_type": "stream",
          "name": "stdout",
          "text": [
            "apple\n",
            "banana\n",
            "cherry\n",
            "apple\n",
            "cherry\n"
          ]
        }
      ]
    },
    {
      "cell_type": "markdown",
      "source": [
        "#### Tuple unpacking"
      ],
      "metadata": {
        "id": "OI4aXH5QM1DC"
      }
    },
    {
      "cell_type": "code",
      "execution_count": null,
      "metadata": {
        "colab": {
          "base_uri": "https://localhost:8080/"
        },
        "id": "Ffimbu2fMyBf",
        "outputId": "c1f796ed-3c02-44da-db80-e3b7a1292b9a"
      },
      "outputs": [
        {
          "output_type": "stream",
          "name": "stdout",
          "text": [
            "apple\n",
            "banana\n",
            "cherry\n"
          ]
        }
      ],
      "source": [
        "fruits = (\"apple\", \"banana\", \"cherry\")\n",
        "\n",
        "(green, yellow, red) = fruits\n",
        "\n",
        "print(green)\n",
        "print(yellow)\n",
        "print(red)"
      ]
    },
    {
      "cell_type": "markdown",
      "source": [
        "### List\n",
        "\n"
      ],
      "metadata": {
        "id": "fYLFyiS6O6L3"
      }
    },
    {
      "cell_type": "markdown",
      "source": [
        "List can has **mix values**, nested list\n",
        "\n",
        "list operations:\n"
      ],
      "metadata": {
        "id": "eyu99RdvPjAj"
      }
    },
    {
      "cell_type": "code",
      "source": [
        "lst = [1,2,3] + [2.2,1.8] #concatenation\n",
        "len(lst) #length\n",
        "lst.append('Zijing') # append ->[1, 2, 3, 2.2, 1.8, 'Zijing']\n",
        "print(lst)\n",
        "del lst[-1] #delete 'Ziing'\n",
        "print(lst)"
      ],
      "metadata": {
        "colab": {
          "base_uri": "https://localhost:8080/"
        },
        "id": "b_twY_CCPVrj",
        "outputId": "d4e119e5-25a7-47a6-ef36-ad2dcf97a6cf"
      },
      "execution_count": null,
      "outputs": [
        {
          "output_type": "stream",
          "name": "stdout",
          "text": [
            "[1, 2, 3, 2.2, 1.8, 'Zijing']\n",
            "[1, 2, 3, 2.2, 1.8]\n"
          ]
        }
      ]
    },
    {
      "cell_type": "code",
      "source": [
        "lst = [1, 2, 3, 2.2, 1.8]\n",
        "get_pop = lst.pop(2) # retrieves AND removes the ith element\n",
        "print('get_pop=', get_pop)\n",
        "print('list content:', lst)"
      ],
      "metadata": {
        "colab": {
          "base_uri": "https://localhost:8080/"
        },
        "id": "lrd-cg7_FINS",
        "outputId": "da4380dd-bc8c-415c-d338-fe460c9e49d9"
      },
      "execution_count": null,
      "outputs": [
        {
          "output_type": "stream",
          "name": "stdout",
          "text": [
            "get_pop= 3\n",
            "list content: [1, 2, 2.2, 1.8]\n"
          ]
        }
      ]
    },
    {
      "cell_type": "code",
      "source": [
        "lst.sort() #sort\n",
        "print(lst)"
      ],
      "metadata": {
        "colab": {
          "base_uri": "https://localhost:8080/"
        },
        "id": "xEi9RkaNQvX9",
        "outputId": "739720cd-67ca-4c64-ab1c-8898924ddb6e"
      },
      "execution_count": null,
      "outputs": [
        {
          "output_type": "stream",
          "name": "stdout",
          "text": [
            "[1, 2, 3, 4, 5]\n"
          ]
        }
      ]
    },
    {
      "cell_type": "code",
      "source": [
        "# get a new object. Not reference by assignmnet: old_wiggles = wiggles\n",
        "wiggles = ['greg', 'anthony', 'murray', 'jeff']\n",
        "old_wiggles = wiggles.copy()"
      ],
      "metadata": {
        "id": "4fHv27XKRH2s"
      },
      "execution_count": null,
      "outputs": []
    },
    {
      "cell_type": "code",
      "source": [],
      "metadata": {
        "id": "Wg-XtL3v-COz"
      },
      "execution_count": null,
      "outputs": []
    },
    {
      "cell_type": "markdown",
      "source": [
        "### Difference between list and tuple"
      ],
      "metadata": {
        "id": "-5HMavz8-Cjo"
      }
    },
    {
      "cell_type": "code",
      "source": [
        "# both list and tuple can include different types\n",
        "mylst = [1,2,'Hi']\n",
        "mytuple = (1,2,'Bye')"
      ],
      "metadata": {
        "id": "IUU76bW2-Cjo"
      },
      "execution_count": null,
      "outputs": []
    },
    {
      "cell_type": "code",
      "source": [
        "mylst[2] = 888 # list are mutable\n",
        "print(mylst)"
      ],
      "metadata": {
        "colab": {
          "base_uri": "https://localhost:8080/"
        },
        "outputId": "a8b3c202-1dfe-4292-ce04-21a2afc9c58b",
        "id": "nCArGyEj-Cjp"
      },
      "execution_count": null,
      "outputs": [
        {
          "output_type": "stream",
          "name": "stdout",
          "text": [
            "[1, 2, 888]\n"
          ]
        }
      ]
    },
    {
      "cell_type": "code",
      "source": [
        "mytuple[2] = 999 # tuple are NOT mutable\n",
        "print(mytuple)"
      ],
      "metadata": {
        "colab": {
          "base_uri": "https://localhost:8080/",
          "height": 158
        },
        "outputId": "29cd586c-aa28-44e1-8826-bf010437dc01",
        "id": "L7tn5rwJ-Cjq"
      },
      "execution_count": null,
      "outputs": [
        {
          "output_type": "error",
          "ename": "TypeError",
          "evalue": "'tuple' object does not support item assignment",
          "traceback": [
            "\u001b[0;31m---------------------------------------------------------------------------\u001b[0m",
            "\u001b[0;31mTypeError\u001b[0m                                 Traceback (most recent call last)",
            "\u001b[0;32m<ipython-input-4-7a187399e24a>\u001b[0m in \u001b[0;36m<cell line: 1>\u001b[0;34m()\u001b[0m\n\u001b[0;32m----> 1\u001b[0;31m \u001b[0mmytuple\u001b[0m\u001b[0;34m[\u001b[0m\u001b[0;36m2\u001b[0m\u001b[0;34m]\u001b[0m \u001b[0;34m=\u001b[0m \u001b[0;36m999\u001b[0m\u001b[0;34m\u001b[0m\u001b[0;34m\u001b[0m\u001b[0m\n\u001b[0m\u001b[1;32m      2\u001b[0m \u001b[0mprint\u001b[0m\u001b[0;34m(\u001b[0m\u001b[0mmytuple\u001b[0m\u001b[0;34m)\u001b[0m\u001b[0;34m\u001b[0m\u001b[0;34m\u001b[0m\u001b[0m\n",
            "\u001b[0;31mTypeError\u001b[0m: 'tuple' object does not support item assignment"
          ]
        }
      ]
    },
    {
      "cell_type": "markdown",
      "source": [
        "### Dict\n"
      ],
      "metadata": {
        "id": "XVOKH_FufMpm"
      }
    },
    {
      "cell_type": "code",
      "source": [
        "d1 = {} # empty dict. To create a set --> s1 = {2,3,4}, must has elements. Otherwise it is empty dict"
      ],
      "metadata": {
        "id": "WFj72-QbfO6G"
      },
      "execution_count": null,
      "outputs": []
    },
    {
      "cell_type": "code",
      "source": [
        "# add and revise element\n",
        "pet = {'name':'fido'}\n",
        "pet['colour'] = 'purple' # set a value with a new key will add a new item!\n",
        "print(pet)\n",
        "pet['name'] = 'kiki'\n",
        "print(pet)\n",
        "# del pet['name'] # remove item"
      ],
      "metadata": {
        "colab": {
          "base_uri": "https://localhost:8080/"
        },
        "id": "phr1gAzrfpPO",
        "outputId": "460f02ac-872c-43b8-8fa5-1241b0257e22"
      },
      "execution_count": null,
      "outputs": [
        {
          "output_type": "stream",
          "name": "stdout",
          "text": [
            "{'name': 'fido', 'colour': 'purple'}\n",
            "{'name': 'kiki', 'colour': 'purple'}\n"
          ]
        }
      ]
    },
    {
      "cell_type": "code",
      "source": [
        "print( pet.keys() )# all keys\n",
        "print( pet.values() )# all values"
      ],
      "metadata": {
        "colab": {
          "base_uri": "https://localhost:8080/"
        },
        "id": "tkCoIvp6gHir",
        "outputId": "a6e3996b-dc85-4fc8-9dc1-0d2244b10f63"
      },
      "execution_count": null,
      "outputs": [
        {
          "output_type": "stream",
          "name": "stdout",
          "text": [
            "dict_keys(['name', 'colour'])\n",
            "dict_values(['kiki', 'purple'])\n"
          ]
        }
      ]
    },
    {
      "cell_type": "code",
      "source": [
        "# iterate over items with items()\n",
        "for key, value in pet.items():\n",
        "  print(f'Key is {key}, value is {value}')"
      ],
      "metadata": {
        "colab": {
          "base_uri": "https://localhost:8080/"
        },
        "id": "QbRKsD64go9u",
        "outputId": "e700ace8-1a75-4147-c4f5-9ffacb1b6961"
      },
      "execution_count": null,
      "outputs": [
        {
          "output_type": "stream",
          "name": "stdout",
          "text": [
            "Key is name, value is kiki\n",
            "Key is colour, value is purple\n"
          ]
        }
      ]
    },
    {
      "cell_type": "markdown",
      "source": [
        "#### A tuple can be used as dict key"
      ],
      "metadata": {
        "id": "e6-3xJMqz9QR"
      }
    },
    {
      "cell_type": "code",
      "source": [
        "pets_loc = {(1,2):'fido',(3,4):'stella'} # pets sit at location (x, y)\n",
        "print(pets_loc)"
      ],
      "metadata": {
        "colab": {
          "base_uri": "https://localhost:8080/"
        },
        "id": "k3lAGFlg0CJk",
        "outputId": "b06ea3ec-82d2-446b-eb3f-d20ec61c3590"
      },
      "execution_count": null,
      "outputs": [
        {
          "output_type": "stream",
          "name": "stdout",
          "text": [
            "{(1, 2): 'fido', (3, 4): 'stella'}\n"
          ]
        }
      ]
    },
    {
      "cell_type": "markdown",
      "source": [
        "### Set\n",
        "\n",
        "\n",
        "An **unordered** collection of items with **unique** values.\n",
        "\n",
        "Can't *index* or *slice* a Set"
      ],
      "metadata": {
        "id": "1u-9gFqHSLrM"
      }
    },
    {
      "cell_type": "code",
      "source": [
        "# Two ways to create\n",
        "s1 = {2,3,4} # must has elements. Otherwise it becomes dict\n",
        "s2 = set() # empty set"
      ],
      "metadata": {
        "id": "cJCLR7QbSQt7"
      },
      "execution_count": null,
      "outputs": []
    },
    {
      "cell_type": "code",
      "source": [
        "# set operation: add()/remove()/in\n",
        "s1 = {2,3,4}\n",
        "s1.add(50) # add {2,3,4,50}\n",
        "s1.remove(2) # delelte {3,4,50}\n",
        "print(s1)\n",
        "print(50 in s1) # check membership with 'in' and 'not in'"
      ],
      "metadata": {
        "colab": {
          "base_uri": "https://localhost:8080/"
        },
        "id": "2CFg4N9nnIvD",
        "outputId": "a88dab90-3875-425d-dc8e-6d5c70fb60e9"
      },
      "execution_count": null,
      "outputs": [
        {
          "output_type": "stream",
          "name": "stdout",
          "text": [
            "{3, 4, 50}\n",
            "True\n"
          ]
        }
      ]
    },
    {
      "cell_type": "code",
      "source": [],
      "metadata": {
        "id": "U6nABsjcs0Oz"
      },
      "execution_count": null,
      "outputs": []
    },
    {
      "cell_type": "markdown",
      "source": [
        "### Slicing\n",
        "\n",
        "The slice operator **[n:m]** returns the part of the string staring witht he characcter at index n, and **go up to but not including** the character at index m.\n",
        "\n",
        "* n: the index of starting point\n",
        "* m: go up to but not including\n",
        "\n",
        "(index starting from 0)\n"
      ],
      "metadata": {
        "id": "Exp_AiNOtXGG"
      }
    },
    {
      "cell_type": "markdown",
      "source": [
        "#### String slicing"
      ],
      "metadata": {
        "id": "85dKa0YGtpEb"
      }
    },
    {
      "cell_type": "code",
      "source": [
        "people = \"Tom,Jerry,and Tex\"\n",
        "print(\"people[0:3]=\"+people[0:3])# n =0, m = 3\n",
        "print(\"people[4:9]=\"+people[4:9])# n = 4, m = 9"
      ],
      "metadata": {
        "colab": {
          "base_uri": "https://localhost:8080/"
        },
        "id": "aQ7d4LVxuKfB",
        "outputId": "fd988bf8-40eb-4454-9386-034fc902b670"
      },
      "execution_count": null,
      "outputs": [
        {
          "output_type": "stream",
          "name": "stdout",
          "text": [
            "people[0:3]=Tom\n",
            "people[4:9]=Jerry\n"
          ]
        }
      ]
    },
    {
      "cell_type": "markdown",
      "source": [
        "if n is missing, we use its default value, 0.\n",
        "\n",
        "If m is missing, we use its default value,len(mystring)+1. This will include the last element of mystring when slicing."
      ],
      "metadata": {
        "id": "HNdX6EtUvPSG"
      }
    },
    {
      "cell_type": "code",
      "source": [
        "people = \"Tom,Jerry,and Tex\"\n",
        "print(\"people[:3]=\"+people[:3]) # n is missing\n",
        "print(\"people[4:]=\"+people[4:]) # m is missing"
      ],
      "metadata": {
        "colab": {
          "base_uri": "https://localhost:8080/"
        },
        "id": "pjga8BQBvqJo",
        "outputId": "ecd8e3e0-5c73-4ed6-c65c-48791cb336c8"
      },
      "execution_count": null,
      "outputs": [
        {
          "output_type": "stream",
          "name": "stdout",
          "text": [
            "people[:3]=Tom\n",
            "people[4:]=Jerry,and Tex\n"
          ]
        }
      ]
    },
    {
      "cell_type": "markdown",
      "source": [
        "#### List slicing\n",
        "\n",
        "The slice operation also work on lists."
      ],
      "metadata": {
        "id": "XcctBr5Qv_mm"
      }
    },
    {
      "cell_type": "code",
      "source": [
        "mylist = [0,1,2,3,4,5,6,7]\n",
        "print(\"text[0,7]=\" , mylist[0:7]) # start = 0, end = (7-1)\n",
        "print(\"text[:7]=\" , mylist[:7]) # omit start, so start=0, end =(7-1)\n",
        "print(\"text[1:]=\" , mylist[1:]) # omit end, so start=1, end = 7\n",
        "# step = 3\n",
        "print(\"text[0,7,3]=\" , mylist[0:7:3]) # start = 0, end = (7-1), step = 3"
      ],
      "metadata": {
        "colab": {
          "base_uri": "https://localhost:8080/"
        },
        "id": "k9x5VCdatzmj",
        "outputId": "7af7ae90-6e82-4987-e2a2-38573276661b"
      },
      "execution_count": null,
      "outputs": [
        {
          "output_type": "stream",
          "name": "stdout",
          "text": [
            "text[0,7]= [0, 1, 2, 3, 4, 5, 6]\n",
            "text[:7]= [0, 1, 2, 3, 4, 5, 6]\n",
            "text[1:]= [1, 2, 3, 4, 5, 6, 7]\n",
            "text[0,7,3]= [0, 3, 6]\n"
          ]
        }
      ]
    },
    {
      "cell_type": "markdown",
      "source": [
        "#### Tuple slices\n",
        "\n",
        "Tuple is immutable, thus we cannot modify the elements of a tuple. But we can do slicing on Tuple."
      ],
      "metadata": {
        "id": "nLQnc-9lwqSl"
      }
    },
    {
      "cell_type": "code",
      "source": [
        "mytuple = (\"Python\", \"Hi~\", \" how \", \" are \", \" you \")\n",
        "print(\"mytuple[1:4]：\")\n",
        "print(mytuple[1:5])\n",
        "print(\"mytuple[1:]:\")\n",
        "print(mytuple[1:])"
      ],
      "metadata": {
        "colab": {
          "base_uri": "https://localhost:8080/"
        },
        "id": "JwBiy165w3L0",
        "outputId": "5934a477-aa35-4137-ded0-220b646f5c11"
      },
      "execution_count": null,
      "outputs": [
        {
          "output_type": "stream",
          "name": "stdout",
          "text": [
            "mytuple[1:4]：\n",
            "('Hi~', ' how ', ' are ', ' you ')\n",
            "mytuple[1:]:\n",
            "('Hi~', ' how ', ' are ', ' you ')\n"
          ]
        }
      ]
    },
    {
      "cell_type": "markdown",
      "source": [
        "#### step\n",
        "\n",
        "The default value of step is 1.\n",
        "\n",
        "If we set step as 2/3/4/5..., we will jump, jump, jump!"
      ],
      "metadata": {
        "id": "NKU6R-T1wOmL"
      }
    },
    {
      "cell_type": "code",
      "source": [
        "text = \"0123456789\"\n",
        "num = len(text) # num is 10\n",
        "print(text[0:num:3]) # start = 0, end = last element 'n', step = 3\n",
        "print(text[::3]) # omit start, so start = 0; omit end, so end = last element 'n'"
      ],
      "metadata": {
        "colab": {
          "base_uri": "https://localhost:8080/"
        },
        "id": "XZSAd1M_vhVL",
        "outputId": "4c611549-7c87-4c9b-ce71-293d52d24792"
      },
      "execution_count": null,
      "outputs": [
        {
          "output_type": "stream",
          "name": "stdout",
          "text": [
            "0369\n",
            "0369\n"
          ]
        }
      ]
    },
    {
      "cell_type": "code",
      "source": [
        "s = 'abcdefg'\n",
        "s[0:5:2] # start = 0, end = 5-1, step = 2"
      ],
      "metadata": {
        "colab": {
          "base_uri": "https://localhost:8080/",
          "height": 36
        },
        "id": "keOVsgWgyNQ1",
        "outputId": "31a49087-08d7-47ab-d58e-bd7ebdfad443"
      },
      "execution_count": null,
      "outputs": [
        {
          "output_type": "execute_result",
          "data": {
            "text/plain": [
              "'ace'"
            ],
            "application/vnd.google.colaboratory.intrinsic+json": {
              "type": "string"
            }
          },
          "metadata": {},
          "execution_count": 18
        }
      ]
    },
    {
      "cell_type": "code",
      "source": [
        "# arguments can be omitted when using :\n",
        "text = [0,1,2,3,4,5,6,7]\n",
        "print(text[:])"
      ],
      "metadata": {
        "colab": {
          "base_uri": "https://localhost:8080/"
        },
        "id": "xj9dMdV8tc-q",
        "outputId": "e5e0c00a-5c85-42c7-cff0-2963fd4e7743"
      },
      "execution_count": null,
      "outputs": [
        {
          "output_type": "stream",
          "name": "stdout",
          "text": [
            "ZijingChenPython\n"
          ]
        }
      ]
    },
    {
      "cell_type": "markdown",
      "source": [
        "### Slicing with negative integer"
      ],
      "metadata": {
        "id": "n7DGw2aLNcwV"
      }
    },
    {
      "cell_type": "code",
      "source": [
        "text = \"ZijingChenPython\"\n",
        "\n",
        "# Slicing left part of string text\n",
        "left = text[:-6]\n",
        "\n",
        "# Slicing middle part of string text\n",
        "middle = text[-10:-6]\n",
        "\n",
        "# Slicing right part of string text\n",
        "right = text[-6:]\n",
        "\n",
        "print(left)\n",
        "print(middle)\n",
        "print(right)\n"
      ],
      "metadata": {
        "colab": {
          "base_uri": "https://localhost:8080/"
        },
        "id": "v2SO7M5lNE_r",
        "outputId": "0c2e929c-194f-4f89-d0e8-5f09c61bccde"
      },
      "execution_count": null,
      "outputs": [
        {
          "output_type": "stream",
          "name": "stdout",
          "text": [
            "ZijingChen\n",
            "Chen\n",
            "Python\n"
          ]
        }
      ]
    },
    {
      "cell_type": "markdown",
      "source": [
        "Zip()\n",
        "\n",
        "The zip() function returns a **zip object**, which is an iterator of tuples where the first item in each passed iterator is paired together, and then the second item in each passed iterator are paired together etc."
      ],
      "metadata": {
        "id": "RWGYTK7y1fzA"
      }
    },
    {
      "cell_type": "code",
      "source": [
        "a = [\"John\", \"Charles\", \"Mike\"]\n",
        "b = [\"Jenny\", \"Christy\", \"Monica\"]\n",
        "\n",
        "res = zip(a, b)\n",
        "print(res)"
      ],
      "metadata": {
        "colab": {
          "base_uri": "https://localhost:8080/"
        },
        "id": "7HVj3EyXOb3n",
        "outputId": "b052ede1-e5e0-4682-965b-cf116e1d3a23"
      },
      "execution_count": null,
      "outputs": [
        {
          "output_type": "stream",
          "name": "stdout",
          "text": [
            "<zip object at 0x7b98b464d080>\n"
          ]
        }
      ]
    },
    {
      "cell_type": "code",
      "source": [
        "for x, y in res:\n",
        "  print('x = ', x, '; y = ', y)"
      ],
      "metadata": {
        "colab": {
          "base_uri": "https://localhost:8080/"
        },
        "id": "1jvNFbRK15R4",
        "outputId": "b333f548-7044-4eb5-bdee-5e59506a4b69"
      },
      "execution_count": null,
      "outputs": [
        {
          "output_type": "stream",
          "name": "stdout",
          "text": [
            "x =  John ; y =  Jenny\n",
            "x =  Charles ; y =  Christy\n",
            "x =  Mike ; y =  Monica\n"
          ]
        }
      ]
    },
    {
      "cell_type": "code",
      "source": [],
      "metadata": {
        "id": "xvvSjBMW_I8B"
      },
      "execution_count": null,
      "outputs": []
    },
    {
      "cell_type": "markdown",
      "source": [
        "## String\n"
      ],
      "metadata": {
        "id": "ykZfe3BQ0zkD"
      }
    },
    {
      "cell_type": "code",
      "source": [
        "# strings are IMMUTABLE!!\n",
        "greeting = \"Hello!\"\n",
        "greeting[2] = '8'"
      ],
      "metadata": {
        "colab": {
          "base_uri": "https://localhost:8080/",
          "height": 176
        },
        "id": "kVbmshFO8M5w",
        "outputId": "46ce684f-6930-4976-f6c2-e1439683f8ca"
      },
      "execution_count": null,
      "outputs": [
        {
          "output_type": "error",
          "ename": "TypeError",
          "evalue": "'str' object does not support item assignment",
          "traceback": [
            "\u001b[0;31m---------------------------------------------------------------------------\u001b[0m",
            "\u001b[0;31mTypeError\u001b[0m                                 Traceback (most recent call last)",
            "\u001b[0;32m<ipython-input-29-f1331a8193f9>\u001b[0m in \u001b[0;36m<cell line: 3>\u001b[0;34m()\u001b[0m\n\u001b[1;32m      1\u001b[0m \u001b[0;31m# strings are IMMUTABLE!!\u001b[0m\u001b[0;34m\u001b[0m\u001b[0;34m\u001b[0m\u001b[0m\n\u001b[1;32m      2\u001b[0m \u001b[0mgreeting\u001b[0m \u001b[0;34m=\u001b[0m \u001b[0;34m\"Hello!\"\u001b[0m\u001b[0;34m\u001b[0m\u001b[0;34m\u001b[0m\u001b[0m\n\u001b[0;32m----> 3\u001b[0;31m \u001b[0mgreeting\u001b[0m\u001b[0;34m[\u001b[0m\u001b[0;36m2\u001b[0m\u001b[0;34m]\u001b[0m \u001b[0;34m=\u001b[0m \u001b[0;34m'8'\u001b[0m\u001b[0;34m\u001b[0m\u001b[0;34m\u001b[0m\u001b[0m\n\u001b[0m",
            "\u001b[0;31mTypeError\u001b[0m: 'str' object does not support item assignment"
          ]
        }
      ]
    },
    {
      "cell_type": "markdown",
      "source": [
        "## String functions"
      ],
      "metadata": {
        "id": "GRXtHaWq8J8b"
      }
    },
    {
      "cell_type": "code",
      "source": [
        "# The strip() method removes any leading, and trailing whitespaces (spaces, tabs, and newlines) )\n",
        "mystr = \" Welcome to zijing's python class.    \\n\" # white space at the begininng and end. Won't remmove '.'\n",
        "res = mystr.strip()\n",
        "print('1'+res+'2') # anything between 1 and 2 belongs to res!"
      ],
      "metadata": {
        "colab": {
          "base_uri": "https://localhost:8080/"
        },
        "id": "S191YxbS0zDP",
        "outputId": "817118c8-d518-4fab-e217-e82d27584f85"
      },
      "execution_count": null,
      "outputs": [
        {
          "output_type": "stream",
          "name": "stdout",
          "text": [
            "1Welcome to zijing's python class.2\n"
          ]
        }
      ]
    },
    {
      "cell_type": "code",
      "source": [
        "# The split() method splits a string according to ...\n",
        "mystr = \" Welcome to zijing's python class.    \\n\" # white space at the begininng and end. Won't remmove '.'\n",
        "out = mystr.split() # split\n",
        "print(out)"
      ],
      "metadata": {
        "colab": {
          "base_uri": "https://localhost:8080/"
        },
        "id": "PgKS-qWy1is-",
        "outputId": "a462074b-d211-48c8-a6dc-db6ab9d6da81"
      },
      "execution_count": null,
      "outputs": [
        {
          "output_type": "stream",
          "name": "stdout",
          "text": [
            "['Welcome', 'to', \"zijing's\", 'python', 'class.']\n"
          ]
        }
      ]
    },
    {
      "cell_type": "code",
      "source": [
        "mystr = \" Welcome to zijing's python class.    \\n\"\n",
        "out = mystr.split('.') # split according to '.'\n",
        "print(out)"
      ],
      "metadata": {
        "colab": {
          "base_uri": "https://localhost:8080/"
        },
        "id": "6Hnwui3h2QXF",
        "outputId": "d7b4dbc8-198d-4d2c-9d2e-9a01c8f49bbc"
      },
      "execution_count": null,
      "outputs": [
        {
          "output_type": "stream",
          "name": "stdout",
          "text": [
            "[\" Welcome to zijing's python class\", '    \\n']\n"
          ]
        }
      ]
    },
    {
      "cell_type": "code",
      "source": [
        "# join()\n",
        "\n",
        "' '.join(['My', 'name', 'is', 'Zijing'])"
      ],
      "metadata": {
        "colab": {
          "base_uri": "https://localhost:8080/",
          "height": 36
        },
        "id": "imTQXYhv9Kn-",
        "outputId": "aa0c750f-7b1b-4c0f-ec54-09467f781317"
      },
      "execution_count": null,
      "outputs": [
        {
          "output_type": "execute_result",
          "data": {
            "text/plain": [
              "'My name is Zijing'"
            ],
            "application/vnd.google.colaboratory.intrinsic+json": {
              "type": "string"
            }
          },
          "metadata": {},
          "execution_count": 30
        }
      ]
    },
    {
      "cell_type": "code",
      "source": [
        "# replace()\n",
        "print('Zijing Chen'.lower().replace(\" \", \"_\"))"
      ],
      "metadata": {
        "colab": {
          "base_uri": "https://localhost:8080/"
        },
        "id": "XtfLSzDUIInu",
        "outputId": "d1da288b-732a-4d15-86a8-1371ea005885"
      },
      "execution_count": null,
      "outputs": [
        {
          "output_type": "stream",
          "name": "stdout",
          "text": [
            "zijing_chen\n"
          ]
        }
      ]
    },
    {
      "cell_type": "code",
      "source": [
        "# find a char\n",
        "\"John.Smith@bigpond.com.au\".find('@')"
      ],
      "metadata": {
        "colab": {
          "base_uri": "https://localhost:8080/"
        },
        "id": "DL7OqMdEJdfd",
        "outputId": "4ffc3290-b3a2-419c-bd92-2be4c0c7b40b"
      },
      "execution_count": null,
      "outputs": [
        {
          "output_type": "execute_result",
          "data": {
            "text/plain": [
              "10"
            ]
          },
          "metadata": {},
          "execution_count": 2
        }
      ]
    },
    {
      "cell_type": "markdown",
      "source": [
        "## Errors and Exceptions\n",
        "\n",
        "3 kinds of error:\n",
        "\n",
        "\n",
        "*   Syntax Error\n",
        "*   Runtime Error (cause crash. eg, fiels doesn't exist, divide 0, un-defined variable, non-exist index)\n",
        "*   Logic Error  \n",
        "\n",
        "An exception is a **runtime error** but can **recover** (no more crash).\n",
        "\n",
        "Put the code which may casue crash in *try*, and how to handle in *except*\n"
      ],
      "metadata": {
        "id": "4aCHM_BmoTJn"
      }
    },
    {
      "cell_type": "code",
      "source": [
        "# try...except.. to handle exceptions\n",
        "# the code won't crash as it gives another chance for user to input\n",
        "while True:\n",
        "  try:\n",
        "    denom = int(input('Enter a denom: '))\n",
        "    result = str(1/denom)\n",
        "    break\n",
        "  except ZeroDivisionError: # multiple except blocks handing different types of ecceptions\n",
        "    result = 'infinity'\n",
        "    break\n",
        "  except ValueError: # write except and error type in the same line\n",
        "    print('Invalid input, try again please.') # then it go to next loop and wait for user's input\n",
        "\n",
        "print(f'The reciprocal of {denom} is {result}')"
      ],
      "metadata": {
        "colab": {
          "base_uri": "https://localhost:8080/"
        },
        "id": "HMxLmCsDoqzg",
        "outputId": "2edb2bc6-9684-4f7c-9d46-117b1b113c8e"
      },
      "execution_count": null,
      "outputs": [
        {
          "output_type": "stream",
          "name": "stdout",
          "text": [
            "Enter a denom: 0\n",
            "The reciprocal of 0 is infinity\n"
          ]
        }
      ]
    },
    {
      "cell_type": "markdown",
      "source": [
        "Python raise exception for Python function.\n",
        "\n",
        "User defined function has to raise exception by yourself, raise ..."
      ],
      "metadata": {
        "id": "zrwc5knhqSVz"
      }
    },
    {
      "cell_type": "code",
      "source": [
        "def print_odd_only(n):\n",
        "  if n % 2 == 0:\n",
        "    raise ValueError(f'{n} is even!')\n",
        "  print(n)\n",
        "\n",
        "\n",
        "try:\n",
        "  print_odd_only(5)\n",
        "  print_odd_only(4) # raise a ValueError. Control flow jumps to except block\n",
        "except ValueError:\n",
        "  print('Oops')\n",
        "\n",
        "print('Done')"
      ],
      "metadata": {
        "colab": {
          "base_uri": "https://localhost:8080/"
        },
        "id": "2zzPJNqEqRA6",
        "outputId": "c30ab148-27cd-4d3a-c755-bfe44356c53d"
      },
      "execution_count": null,
      "outputs": [
        {
          "output_type": "stream",
          "name": "stdout",
          "text": [
            "5\n",
            "Oops\n",
            "Done\n"
          ]
        }
      ]
    },
    {
      "cell_type": "markdown",
      "source": [
        "### Try, Except, else and Finally Syntax\n",
        "\n",
        "![image.png](data:image/png;base64,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)\n",
        "\n",
        "Ref: https://www.geeksforgeeks.org/try-except-else-and-finally-in-python/"
      ],
      "metadata": {
        "id": "gT65zGVP_pyB"
      }
    },
    {
      "cell_type": "markdown",
      "source": [
        "Deal with exception in corresponding except block.\n",
        "\n",
        "The corresponding except block of the first try is \"Something went wrong when opening the file\""
      ],
      "metadata": {
        "id": "GTzXvH2Q_ZLO"
      }
    },
    {
      "cell_type": "code",
      "source": [
        "try:\n",
        "  f = open(\"demofile.txt\")# suppose this file doesn't exist\n",
        "  try:\n",
        "    f.write(\"I love Python\")\n",
        "  except:\n",
        "    print(\"Something went wrong when writing to the file\")\n",
        "  finally:\n",
        "    f.close()\n",
        "except:\n",
        "  print(\"Something went wrong when opening the file\")"
      ],
      "metadata": {
        "colab": {
          "base_uri": "https://localhost:8080/"
        },
        "id": "AWfRrV8U-gON",
        "outputId": "d53194c6-2719-488e-b3de-eb11681edda0"
      },
      "execution_count": null,
      "outputs": [
        {
          "output_type": "stream",
          "name": "stdout",
          "text": [
            "Something went wrong when opening the file\n"
          ]
        }
      ]
    },
    {
      "cell_type": "markdown",
      "source": [
        "### Raise exceptions\n",
        "\n",
        "In Python, exceptions can be raised using the raise keyword.\n",
        "\n",
        "This gives us access to Python's exception system **for our own sources of errors**.\n"
      ],
      "metadata": {
        "id": "L0hUK61Im8_k"
      }
    },
    {
      "cell_type": "code",
      "source": [
        "def print_odd_only(n):\n",
        "  if n%2 == 0:\n",
        "    raise ValueError(f'{n} should be even!')\n",
        "  print(\"In print_odd_only(), n = \",n)\n",
        "\n",
        "try:\n",
        "  print_odd_only(5)\n",
        "  print_odd_only(4)\n",
        "  print_odd_only(3)\n",
        "except ValueError:\n",
        "  print('Oops..jumped to except block')\n",
        "\n",
        "print('Last line of my code')"
      ],
      "metadata": {
        "colab": {
          "base_uri": "https://localhost:8080/"
        },
        "id": "iP6nnb3knONp",
        "outputId": "6f23b2e7-d7e1-4107-9431-fb8dfe562971"
      },
      "execution_count": 2,
      "outputs": [
        {
          "output_type": "stream",
          "name": "stdout",
          "text": [
            "In print_odd_only(), n =  5\n",
            "Oops..jumped to except block\n",
            "Last line of my code\n"
          ]
        }
      ]
    },
    {
      "cell_type": "markdown",
      "source": [
        "Why raise Error with string if not print it out?\n",
        "\n",
        "These arguments of ValueError can be accessed by the args attribute on the Exception object."
      ],
      "metadata": {
        "id": "SpG3UQdeoPfK"
      }
    },
    {
      "cell_type": "code",
      "source": [
        "def print_odd_only(n):\n",
        "  if n%2 == 0:\n",
        "    raise ValueError(f'{n} should be even!','Aha~')\n",
        "  print(\"In print_odd_only(), n = \",n)\n",
        "\n",
        "try:\n",
        "  print_odd_only(5)\n",
        "  print_odd_only(4)\n",
        "  print_odd_only(3)\n",
        "except ValueError as verr:\n",
        "  print('Oops..jumped to except block')\n",
        "  print('ValueError message:', verr.args)\n",
        "\n",
        "print('Last line of my code')"
      ],
      "metadata": {
        "colab": {
          "base_uri": "https://localhost:8080/"
        },
        "id": "2LgGwVdAoIZE",
        "outputId": "dd80fd23-7373-4175-8d71-888f84c5fd76"
      },
      "execution_count": 11,
      "outputs": [
        {
          "output_type": "stream",
          "name": "stdout",
          "text": [
            "In print_odd_only(), n =  5\n",
            "Oops..jumped to except block\n",
            "ValueError message: ('4 should be even!', 'Aha~')\n",
            "Last line of my code\n"
          ]
        }
      ]
    },
    {
      "cell_type": "markdown",
      "source": [
        "## Module\n",
        "\n",
        "E.g. math.py"
      ],
      "metadata": {
        "id": "4JcynTUNxuCT"
      }
    },
    {
      "cell_type": "code",
      "source": [
        "import math\n",
        "print(  math.ceil(1.1) )"
      ],
      "metadata": {
        "colab": {
          "base_uri": "https://localhost:8080/"
        },
        "id": "kvga1sgWxxW1",
        "outputId": "2436b38b-af81-4dc7-8d41-03ef3b81df6e"
      },
      "execution_count": null,
      "outputs": [
        {
          "output_type": "stream",
          "name": "stdout",
          "text": [
            "2\n"
          ]
        }
      ]
    },
    {
      "cell_type": "code",
      "source": [
        "import random\n",
        "print('A random number: ', random.random()) # floating number between 0 and 1.\n",
        "print('Random int: ', random.randint(0,11))\n",
        "\n",
        "city_list = ['Melb', 'Syd', 'Perth', 'Bne']\n",
        "print('Random choice: ', random.choice(city_list))\n",
        "\n",
        "random.shuffle(city_list) # in-place shuffle\n",
        "print('Shuffle a list: ', city_list)"
      ],
      "metadata": {
        "colab": {
          "base_uri": "https://localhost:8080/"
        },
        "id": "xsN3QeGDx74v",
        "outputId": "6913927e-b5b8-4e53-c641-a8b21e171663"
      },
      "execution_count": null,
      "outputs": [
        {
          "output_type": "stream",
          "name": "stdout",
          "text": [
            "A random number:  0.8833284256039593\n",
            "Random int:  6\n",
            "Random choice:  Syd\n",
            "Shuffle a list:  ['Bne', 'Perth', 'Syd', 'Melb']\n"
          ]
        }
      ]
    },
    {
      "cell_type": "markdown",
      "source": [
        "## Pandas\n",
        "\n",
        "Data analysis"
      ],
      "metadata": {
        "id": "pPi4M9TQ3KXN"
      }
    },
    {
      "cell_type": "code",
      "source": [],
      "metadata": {
        "id": "lBx0Eftg3NwD"
      },
      "execution_count": null,
      "outputs": []
    },
    {
      "cell_type": "markdown",
      "source": [
        "## Matplotlib\n",
        "\n",
        "Plotting"
      ],
      "metadata": {
        "id": "p1e6v70q3OFv"
      }
    },
    {
      "cell_type": "code",
      "source": [],
      "metadata": {
        "id": "qsr3JnlZ3P6z"
      },
      "execution_count": null,
      "outputs": []
    }
  ]
}