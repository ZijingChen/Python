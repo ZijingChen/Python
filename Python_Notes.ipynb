{
  "nbformat": 4,
  "nbformat_minor": 0,
  "metadata": {
    "colab": {
      "provenance": [],
      "collapsed_sections": [
        "_mDzckOszrPI",
        "4aCHM_BmoTJn"
      ],
      "toc_visible": true
    },
    "kernelspec": {
      "name": "python3",
      "display_name": "Python 3"
    },
    "language_info": {
      "name": "python"
    }
  },
  "cells": [
    {
      "cell_type": "markdown",
      "source": [
        "## Class\n",
        "\n"
      ],
      "metadata": {
        "id": "WPhynUgpGrsZ"
      }
    },
    {
      "cell_type": "markdown",
      "source": [
        "### Define a class\n",
        "\n",
        "Including __init__, and other methods."
      ],
      "metadata": {
        "id": "k941tCgUJgj0"
      }
    },
    {
      "cell_type": "code",
      "source": [
        "class Ellipse:\n",
        "  def __init__(self, w, h): # don't forget 'self'!!\n",
        "    self.width = w\n",
        "    self.height = h\n",
        "  def calculate_area(self): # no parameter\n",
        "    return 3.14159 * self.width * self.height\n",
        "  def scale(self, s): # one parameter\n",
        "    self.width = self.width * s\n",
        "    self.height = self.height * s"
      ],
      "metadata": {
        "id": "eAQ0lL6_HAAc"
      },
      "execution_count": null,
      "outputs": []
    },
    {
      "cell_type": "markdown",
      "source": [
        "### Create an object\n",
        "\n",
        "Call methods."
      ],
      "metadata": {
        "id": "rNLkI_vTJYET"
      }
    },
    {
      "cell_type": "code",
      "source": [
        "ell = Ellipse(3, 4) # two argument, width = 3\n",
        "print('Area:'+ str(ell.calculate_area()) ) # str(): number to string\n",
        "ell.scale(2)\n",
        "print('Scale it, width='+str(ell.width))"
      ],
      "metadata": {
        "colab": {
          "base_uri": "https://localhost:8080/"
        },
        "id": "qhjhHhofJqgh",
        "outputId": "52a5a890-88cf-4a8a-c989-4d22f0dc0aeb"
      },
      "execution_count": null,
      "outputs": [
        {
          "output_type": "stream",
          "name": "stdout",
          "text": [
            "Area:37.699079999999995\n",
            "Scale it, width=6\n"
          ]
        }
      ]
    },
    {
      "cell_type": "markdown",
      "source": [
        "## Format output\n",
        "\n",
        "(reference:\n",
        "* https://docs.python.org/3/library/string.html#formatspec\n",
        "* https://realpython.com/python-modulo-string-formatting/\n",
        "* https://realpython.com/python-format-mini-language/)\n",
        "\n",
        "**Format mini-language** defines the syntax of a format specifier.\n",
        "\n",
        "**String interpolation**: embed/insert values and objects into your string to dynamically build a new string.\n",
        "\n",
        "Three tools for string interpolation\n",
        "\n",
        "\n",
        "1.   modulo operator (%)\n",
        "2.   f-string literals\n",
        "3.   str.format() method\n",
        "\n",
        "\n",
        "\n"
      ],
      "metadata": {
        "id": "9oMbZlrqERCr"
      }
    },
    {
      "cell_type": "markdown",
      "source": [
        "### 1. modulo operator\n",
        "\n",
        "The first string interpolation tool in Python. Unfortunately, it doesn’t provide many string formatting features.\n",
        "\n",
        "Syntax: *format_string % values*"
      ],
      "metadata": {
        "id": "hCxV9JgRoEjg"
      }
    },
    {
      "cell_type": "code",
      "source": [
        "print(\"%d %s cost me %.2f dollars!\" % (3, \"books\", 66.1234))"
      ],
      "metadata": {
        "colab": {
          "base_uri": "https://localhost:8080/"
        },
        "id": "0jCV9hlGp_YL",
        "outputId": "6e2bf8f8-cf5f-4987-d0df-ef0eb9e39b90"
      },
      "execution_count": null,
      "outputs": [
        {
          "output_type": "stream",
          "name": "stdout",
          "text": [
            "3 books cost me 66.12 dollars!\n"
          ]
        }
      ]
    },
    {
      "cell_type": "markdown",
      "source": [
        "* The first item in the tuple is 3, a numeric value that replaces %d in the format string.\n",
        "* The next item is the string value \"books\", which replaces %s.\n",
        "* The last item is the float value 66.1234, which replaces %.2f. As .2 specify the precision of floating-point is 2, so output shows 66.12 rather than 66.1234"
      ],
      "metadata": {
        "id": "VmisDvnB3JwE"
      }
    },
    {
      "cell_type": "markdown",
      "source": [
        "### 2. f-string\n",
        "An f-string is a **string literal** prefixed with an f."
      ],
      "metadata": {
        "id": "ZW8ybux7nUYr"
      }
    },
    {
      "cell_type": "markdown",
      "source": [
        "Formatted string literal, or f-string, is quite a popular tool for string interpolation and formatting.\n",
        "\n",
        "F-string literals start with f or F.\n",
        "\n",
        "To interpolate a value into an f-string, you need replacement fields. The **replacement fields** are delimited by a pair of curly brackets ({})."
      ],
      "metadata": {
        "id": "CmsdoudftZJ3"
      }
    },
    {
      "cell_type": "code",
      "execution_count": null,
      "metadata": {
        "colab": {
          "base_uri": "https://localhost:8080/"
        },
        "id": "U3z5HfnyEOmC",
        "outputId": "5a81f798-ef3f-4f1c-995c-dba6fd600066"
      },
      "outputs": [
        {
          "output_type": "stream",
          "name": "stdout",
          "text": [
            "Account 1 balance is $23.00\n"
          ]
        }
      ],
      "source": [
        "acc = 1\n",
        "bal = 23.0\n",
        "print(f'Account {acc} balance is ${bal:.2f}')"
      ]
    },
    {
      "cell_type": "markdown",
      "source": [
        "You may wonder what this \":.2f\" means. That's **format specifiers**.\n",
        "\n",
        "You can **use format specifiers within replacement fields** to format the object that you want to interpolate into your strings.\n",
        "\n",
        "The syntax is considered a whole mini-language."
      ],
      "metadata": {
        "id": "RbjPf1hlrDuo"
      }
    },
    {
      "cell_type": "markdown",
      "source": [
        "\n",
        "\n",
        "![image.png](data:image/png;base64,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)"
      ],
      "metadata": {
        "id": "-hOlPhUur6em"
      }
    },
    {
      "cell_type": "markdown",
      "source": [
        "### format specifier\n",
        "\n",
        "#### format specifier: **[width][precision][Type]**\n",
        "\n",
        "Type: b for Binary, converts the number to based 2"
      ],
      "metadata": {
        "id": "heCuF3gAFBb1"
      }
    },
    {
      "cell_type": "code",
      "source": [
        "num1 = 3\n",
        "f'Transfer decimal value {num1} into Binary is {num1:b}'"
      ],
      "metadata": {
        "colab": {
          "base_uri": "https://localhost:8080/",
          "height": 35
        },
        "id": "blQv3J0Y0YoZ",
        "outputId": "800651c8-f2c4-4a74-c21e-d4e0d3dc3581"
      },
      "execution_count": null,
      "outputs": [
        {
          "output_type": "execute_result",
          "data": {
            "text/plain": [
              "'Transfer decimal value 3 into Binary is 11'"
            ],
            "application/vnd.google.colaboratory.intrinsic+json": {
              "type": "string"
            }
          },
          "metadata": {},
          "execution_count": 16
        }
      ]
    },
    {
      "cell_type": "code",
      "source": [
        "res = 1/3 # 0.333333333333\n",
        "f'Number:{res:7.2f}'\n",
        "#:7.2f-->Type f for float, width = 7, precision = 2, right aligned (default for number)"
      ],
      "metadata": {
        "colab": {
          "base_uri": "https://localhost:8080/",
          "height": 35
        },
        "id": "VBImMhXZFPLs",
        "outputId": "ee7e92a3-1e94-4b84-c250-5c90a45aad8c"
      },
      "execution_count": null,
      "outputs": [
        {
          "output_type": "execute_result",
          "data": {
            "text/plain": [
              "'Number:   0.33'"
            ],
            "application/vnd.google.colaboratory.intrinsic+json": {
              "type": "string"
            }
          },
          "metadata": {},
          "execution_count": 3
        }
      ]
    },
    {
      "cell_type": "code",
      "source": [
        "num = 123\n",
        "f'Number:{num:7d}'\n",
        "#:7d--> Type d for decimal integer, width = 7, right aligned (default for number)"
      ],
      "metadata": {
        "colab": {
          "base_uri": "https://localhost:8080/",
          "height": 35
        },
        "id": "op1u_zy8vG1J",
        "outputId": "9e618e73-acc8-44ee-9969-fecd88223a7e"
      },
      "execution_count": null,
      "outputs": [
        {
          "output_type": "execute_result",
          "data": {
            "text/plain": [
              "'Number:    123'"
            ],
            "application/vnd.google.colaboratory.intrinsic+json": {
              "type": "string"
            }
          },
          "metadata": {},
          "execution_count": 4
        }
      ]
    },
    {
      "cell_type": "code",
      "source": [
        "f'{\"Hello\":8s}'\n",
        "#:8s--> Type s for string, width = 8, left aligned (default for string)"
      ],
      "metadata": {
        "colab": {
          "base_uri": "https://localhost:8080/",
          "height": 35
        },
        "id": "-_y3D1aEGavu",
        "outputId": "077fdb8c-8359-4bae-906e-17910f94888e"
      },
      "execution_count": null,
      "outputs": [
        {
          "output_type": "execute_result",
          "data": {
            "text/plain": [
              "'Hello   '"
            ],
            "application/vnd.google.colaboratory.intrinsic+json": {
              "type": "string"
            }
          },
          "metadata": {},
          "execution_count": 11
        }
      ]
    },
    {
      "cell_type": "markdown",
      "source": [
        "#### format specifier: **[align]**\n",
        "\n",
        "< for left, > for right, if not using default:"
      ],
      "metadata": {
        "id": "PDuVwgN0wwhM"
      }
    },
    {
      "cell_type": "code",
      "source": [
        "num = 123\n",
        "f'Number:{num:<7d}'\n",
        "#:7d--> d for integer, width = 7, force to LEFT aligned (default right for number)"
      ],
      "metadata": {
        "colab": {
          "base_uri": "https://localhost:8080/",
          "height": 35
        },
        "outputId": "dc2b67ff-1470-4124-b094-6b8acd6c50d2",
        "id": "n1CzpsHsxAMQ"
      },
      "execution_count": null,
      "outputs": [
        {
          "output_type": "execute_result",
          "data": {
            "text/plain": [
              "'Number:123    '"
            ],
            "application/vnd.google.colaboratory.intrinsic+json": {
              "type": "string"
            }
          },
          "metadata": {},
          "execution_count": 6
        }
      ]
    },
    {
      "cell_type": "code",
      "source": [
        "f'{\"Hello\":>8s}'\n",
        "#:8s--> s for string, width = 8, force to RIGHT aligned (default left for string)"
      ],
      "metadata": {
        "colab": {
          "base_uri": "https://localhost:8080/",
          "height": 36
        },
        "outputId": "d9442ce2-9623-466d-8c64-6fb90ee4eb25",
        "id": "KlEx5Os3xAMR"
      },
      "execution_count": null,
      "outputs": [
        {
          "output_type": "execute_result",
          "data": {
            "text/plain": [
              "'Hello   '"
            ],
            "application/vnd.google.colaboratory.intrinsic+json": {
              "type": "string"
            }
          },
          "metadata": {},
          "execution_count": 7
        }
      ]
    },
    {
      "cell_type": "markdown",
      "source": [
        "Please pay attention to the order! [align] before [width]"
      ],
      "metadata": {
        "id": "646L9mILxR0J"
      }
    },
    {
      "cell_type": "markdown",
      "source": [
        "#### format specifier: **[grouping_option]**\n",
        "\n",
        "group numeric values conveniently and improve readability."
      ],
      "metadata": {
        "id": "quTlC00SwJGA"
      }
    },
    {
      "cell_type": "code",
      "source": [
        "looooong_num = 123456789\n",
        "f'Long number:{looooong_num:,}'"
      ],
      "metadata": {
        "colab": {
          "base_uri": "https://localhost:8080/",
          "height": 35
        },
        "id": "otX-A4RewTZr",
        "outputId": "2baf9c03-8fb8-4d1e-990b-70ece6a5c037"
      },
      "execution_count": null,
      "outputs": [
        {
          "output_type": "execute_result",
          "data": {
            "text/plain": [
              "'Long number:123,456,789'"
            ],
            "application/vnd.google.colaboratory.intrinsic+json": {
              "type": "string"
            }
          },
          "metadata": {},
          "execution_count": 5
        }
      ]
    },
    {
      "cell_type": "markdown",
      "source": [
        "#### format specifier: **[sign]**\n",
        "\n",
        "+:  a sign should be used for both positive and negative numbers\n",
        "\n",
        "-: a sign should be used only for negative numbers (default behaviour)\n",
        "\n",
        "space: a leading space should be used on positive numbers and a minus sign on negative numbers"
      ],
      "metadata": {
        "id": "u48DZny0trKN"
      }
    },
    {
      "cell_type": "code",
      "source": [
        "pos_num = 88\n",
        "neg_num = -10\n",
        "f'first:{pos_num:+}, second:{neg_num:+}' # + --> a sign should be used!"
      ],
      "metadata": {
        "colab": {
          "base_uri": "https://localhost:8080/",
          "height": 35
        },
        "id": "C4F7RPyJxiLA",
        "outputId": "eca86d63-d071-4d4f-f2c1-c22cb57875fe"
      },
      "execution_count": null,
      "outputs": [
        {
          "output_type": "execute_result",
          "data": {
            "text/plain": [
              "'first:+88, second:-10'"
            ],
            "application/vnd.google.colaboratory.intrinsic+json": {
              "type": "string"
            }
          },
          "metadata": {},
          "execution_count": 9
        }
      ]
    },
    {
      "cell_type": "code",
      "source": [
        "f'first:{pos_num:-}, second:{neg_num:-}'# - --> a sign only for negative!"
      ],
      "metadata": {
        "colab": {
          "base_uri": "https://localhost:8080/",
          "height": 35
        },
        "id": "DNTLiNFQxyWu",
        "outputId": "32429d24-5f93-47a7-b179-21ea95eb17e3"
      },
      "execution_count": null,
      "outputs": [
        {
          "output_type": "execute_result",
          "data": {
            "text/plain": [
              "'first:88, second:-10'"
            ],
            "application/vnd.google.colaboratory.intrinsic+json": {
              "type": "string"
            }
          },
          "metadata": {},
          "execution_count": 10
        }
      ]
    },
    {
      "cell_type": "code",
      "source": [
        "f'first:{pos_num: }, second:{neg_num: }'# space --> leading space for pos, minus sign for neg"
      ],
      "metadata": {
        "colab": {
          "base_uri": "https://localhost:8080/",
          "height": 35
        },
        "id": "1pKg3P2XyQVx",
        "outputId": "1aa3abd5-79e5-4265-a2fd-c110a87a8e5b"
      },
      "execution_count": null,
      "outputs": [
        {
          "output_type": "execute_result",
          "data": {
            "text/plain": [
              "'first: 88, second:-10'"
            ],
            "application/vnd.google.colaboratory.intrinsic+json": {
              "type": "string"
            }
          },
          "metadata": {},
          "execution_count": 17
        }
      ]
    },
    {
      "cell_type": "markdown",
      "source": [
        "Test your knowledge: a comprehensive example"
      ],
      "metadata": {
        "id": "Dkn0_3C7sYTH"
      }
    },
    {
      "cell_type": "code",
      "source": [
        "# Advanced example\n",
        "num_c = -123456789.5432\n",
        "# standard, num is placed between 'First part\"' and 'after'\n",
        "print(f'First part:{num_c}after')\n",
        "\n",
        "#[fill]:0; [align]:default(number is right align);\n",
        "#[sign]:default\n",
        "#[width]:20 -> (-000,000,123,456,790) takes 20\n",
        "#[grouping_option]: ,\n",
        "#[.precision]:0 ->0 digit for fractional part, aka, whole number. rounding on 789.54 will be 790\n",
        "#[type]:f\n",
        "print(f'First part:{num_c:=020,.0f}after') # use :=\n",
        "print(f'First part:{num_c:020,.0f}after') # use :"
      ],
      "metadata": {
        "colab": {
          "base_uri": "https://localhost:8080/"
        },
        "id": "5xR6dRO_J_gd",
        "outputId": "59b7c7b6-d2eb-41ad-fb81-bdac9de0708b"
      },
      "execution_count": null,
      "outputs": [
        {
          "output_type": "stream",
          "name": "stdout",
          "text": [
            "First part:-123456789.5432after\n",
            "First part:-000,000,123,456,790after\n",
            "First part:-000,000,123,456,790after\n"
          ]
        }
      ]
    },
    {
      "cell_type": "code",
      "source": [
        "#[fill]:no fill; [align]:default(number is right align);\n",
        "#[sign]:+\n",
        "#[width]:20\n",
        "#[grouping_option]: ,\n",
        "#[.precision]:0\n",
        "#[type]:f\n",
        "print(f'First part:{num_c*-1:=+20,.0f}after')\n",
        "# the value has been changed to a positive number by the expression num*(-1)"
      ],
      "metadata": {
        "id": "yzRFpM19JCkI",
        "colab": {
          "base_uri": "https://localhost:8080/"
        },
        "outputId": "610dea4c-20f6-499a-8d1e-b3a0eedb8040"
      },
      "execution_count": null,
      "outputs": [
        {
          "output_type": "stream",
          "name": "stdout",
          "text": [
            "First part:+        123,456,790after\n"
          ]
        }
      ]
    },
    {
      "cell_type": "markdown",
      "source": [
        "### 3. Str.format()\n",
        "\n",
        "It is a string method to interpolate values into your strings.\n",
        "\n",
        "Formats the specified value(s) and insert them inside the string's placeholder.\n",
        "\n",
        "format() inserts its arguments into the *replacement fields* and builds a final string."
      ],
      "metadata": {
        "id": "6T92fj8JOFJ7"
      }
    },
    {
      "cell_type": "code",
      "source": [
        "# A quick example: using different placeholder values\n",
        "txt1 = \"My name is {fname}, I'm {age}\".format(fname = \"Zijing\", age = 18)\n",
        "txt2 = \"My name is {0}, I'm {1}\".format(\"Zijing\",18)\n",
        "txt3 = \"My name is {}, I'm {}\".format(\"Zijing\",18)\n",
        "print(txt1)\n",
        "print(txt2)\n",
        "print(txt3)"
      ],
      "metadata": {
        "colab": {
          "base_uri": "https://localhost:8080/"
        },
        "id": "lFudjBf_OZsS",
        "outputId": "50013b8c-8620-41bb-f833-35fb91e84bda"
      },
      "execution_count": null,
      "outputs": [
        {
          "output_type": "stream",
          "name": "stdout",
          "text": [
            "My name is Zijing, I'm 18\n",
            "My name is Zijing, I'm 18\n",
            "My name is Zijing, I'm 18\n"
          ]
        }
      ]
    },
    {
      "cell_type": "markdown",
      "source": [
        "Combine **format specifiers** with str.format()"
      ],
      "metadata": {
        "id": "qIAII9HjORfz"
      }
    },
    {
      "cell_type": "code",
      "source": [
        "print(\"For only {price:.2f} dollars!\".format(price = 99.9))"
      ],
      "metadata": {
        "colab": {
          "base_uri": "https://localhost:8080/"
        },
        "id": "4arkeYJEPYpx",
        "outputId": "e1154c2d-ae3c-423b-841b-595260227744"
      },
      "execution_count": null,
      "outputs": [
        {
          "output_type": "stream",
          "name": "stdout",
          "text": [
            "For only 99.90 dollars!\n"
          ]
        }
      ]
    },
    {
      "cell_type": "markdown",
      "source": [
        "#### replacement fields\n",
        "\n",
        "The str.format() function can be used to accomplish similar things as F-strings. In particular, the format specification mini-language can still be used to control how data are printed to the screen.\n",
        "\n",
        "The difference lies in the optional **replacement fields**.\n",
        "\n",
        "Strings on which str.format() is called can contain replacement fields, **data contained in curly braces {}** that are operated on before being printed to the screen\n",
        "\n",
        "Similar to the format specification mini-language, there is also a grammar for replacement fields, which syntax is:\n",
        "\n",
        "**replacement_field ::= \"{\" [field_name] [\"!\" conversion] [\":\" format_spec] \"}\"**\n",
        "\n",
        "* field_name: thing to print\n",
        "* conversion and format_spec: how to print\n"
      ],
      "metadata": {
        "id": "K1Hsgju5KuUP"
      }
    },
    {
      "cell_type": "markdown",
      "source": [
        "In less formal terms, the replacement field can start with\n",
        "* a **field_name** that specifies the object whose value is to be formatted and inserted into the output instead of the replacement field.\n",
        "* The field_name is optionally followed by a **conversion**, which is preceded by an exclamation point '!',\n",
        "* and a **format_spec**, which is preceded by a colon ':'. These specify a non-default format for the replacement value.”\n",
        "\n",
        "Note that the basis of a replacement field is an object, not an expression (as it was in the F-strings). Putting an arbitrary expression into a replacement field will result in an error.\n"
      ],
      "metadata": {
        "id": "UeehyBSZ8y5S"
      }
    },
    {
      "cell_type": "markdown",
      "source": [
        "Also in less formal terms, the **field_name** can be one of three things:\n",
        "\n",
        "1. A keyword, in which case it refers to a named argument passed\n",
        "into the .format() function\n",
        "2. An integer, in which case it refers to a positional argument passed into the .format() function (as in, 0 refers to the first argument, 1 to the second, etc.)\n",
        "3. Blank, in which case it gets the next positional argument from the arguments to the .format() function in ascending numerical order\n",
        "\n",
        "That is, “{first} {second} {third}”.format(first=a, second=b, third=c) does the same thing as “{0} {1} {2}”.format(a, b, c)which in turn does the same thing as “{} {} {}”.format(a, b, c)\n"
      ],
      "metadata": {
        "id": "QRzf5ZR-9K-d"
      }
    },
    {
      "cell_type": "code",
      "source": [
        "# field_name\n",
        "a, b, c = 3, 1, 4\n",
        "print(\"{first}{second}{third}\".format(first = a, second=b, third = c)) # case 1\n",
        "print(\"{0}{1}{2}\".format(a, b, c)) # case 2\n",
        "print(\"{}{}{}\".format(a, b, c)) # case 3"
      ],
      "metadata": {
        "colab": {
          "base_uri": "https://localhost:8080/"
        },
        "id": "UbkzRYUn9fD1",
        "outputId": "c3a73768-572f-4b87-dd94-b0eb1846e7b9"
      },
      "execution_count": null,
      "outputs": [
        {
          "output_type": "stream",
          "name": "stdout",
          "text": [
            "314\n",
            "314\n",
            "314\n"
          ]
        }
      ]
    },
    {
      "cell_type": "markdown",
      "source": [
        "**conversion** is rarely used\n",
        "\n",
        "It can be one of three things:\n",
        "1. !s, the object is passed to the str()\n",
        "2. !r, the object is passed to the repr()\n",
        "3. !a, the object is passed to the ascii()\n",
        "\n",
        "The “default behaviour” is the same is what happens when you normally try to print a non-string value, which is to say the __format__ method of that object is called.\n",
        "\n",
        "repr() : returns a printable string describing the object that is passed in. A class can control what this function returns for its instances when called by defining a __repr__() dunder method.\n",
        "\n",
        "ascii(): returns a readable version of any objects. Replace any non-ascii characters with escape characters.\n"
      ],
      "metadata": {
        "id": "84EEcWfr-2VO"
      }
    },
    {
      "cell_type": "code",
      "source": [
        "x = ascii(\"My name is Stellå\")\n",
        "print(x)"
      ],
      "metadata": {
        "colab": {
          "base_uri": "https://localhost:8080/"
        },
        "id": "OyBUI84pEM-X",
        "outputId": "96acd668-c331-4f25-f44e-7bad2045b9e5"
      },
      "execution_count": null,
      "outputs": [
        {
          "output_type": "stream",
          "name": "stdout",
          "text": [
            "'My name is Stell\\xe5'\n"
          ]
        }
      ]
    },
    {
      "cell_type": "code",
      "source": [
        "print(\"Case 1--{!s}\".format(99.99)) # case 1\n",
        "print(\"Case 2--{!r}\".format('Stellå')) # case 2\n",
        "print(\"Case 3--{!a}\".format('Stellå')) # case 2"
      ],
      "metadata": {
        "colab": {
          "base_uri": "https://localhost:8080/"
        },
        "id": "o6myUAB5Cz9A",
        "outputId": "e01149e9-5d1e-40ba-d424-b19c1d637474"
      },
      "execution_count": null,
      "outputs": [
        {
          "output_type": "stream",
          "name": "stdout",
          "text": [
            "Case 1--99.99\n",
            "Case 2--'Stellå'\n",
            "Case 3--'Stell\\xe5'\n"
          ]
        }
      ]
    },
    {
      "cell_type": "markdown",
      "source": [
        "The **format_spec** argument is same as what we used in f-string.\n",
        "\n",
        "However, str.format() lets you do something pretty cool: format_spec field can have nested replacement fields in it!\n",
        "For example, print('{0:{width}{base}}'.format(num, base=base, width=width), end=‘ ‘)\n",
        "\n",
        "This makes the format string itself programmable, as in the example we saw a bit earlier\n"
      ],
      "metadata": {
        "id": "b_cGEsnS_nlQ"
      }
    },
    {
      "cell_type": "code",
      "source": [
        "width = 5\n",
        "for num in range(16):\n",
        "  for base in 'dxob':\n",
        "    print('{0:{width}{base}}'.format(num, base=base, width=width), end=' ')\n",
        "  print() # change to next line after inner for-loop\n"
      ],
      "metadata": {
        "colab": {
          "base_uri": "https://localhost:8080/"
        },
        "id": "WVg4GAjDLey_",
        "outputId": "dd90cf15-a6bd-4a1e-ee4c-1a12a790abc6"
      },
      "execution_count": null,
      "outputs": [
        {
          "output_type": "stream",
          "name": "stdout",
          "text": [
            "    0+    0+    0+    0+\n",
            "    1+    1+    1+    1+\n",
            "    2+    2+    2+   10+\n",
            "    3+    3+    3+   11+\n",
            "    4+    4+    4+  100+\n",
            "    5+    5+    5+  101+\n",
            "    6+    6+    6+  110+\n",
            "    7+    7+    7+  111+\n",
            "    8+    8+   10+ 1000+\n",
            "    9+    9+   11+ 1001+\n",
            "   10+    a+   12+ 1010+\n",
            "   11+    b+   13+ 1011+\n",
            "   12+    c+   14+ 1100+\n",
            "   13+    d+   15+ 1101+\n",
            "   14+    e+   16+ 1110+\n",
            "   15+    f+   17+ 1111+\n"
          ]
        }
      ]
    },
    {
      "cell_type": "markdown",
      "source": [
        "### Format output for file\n",
        "\n",
        "Write a beautiful and elegant txt file."
      ],
      "metadata": {
        "id": "4Ih7mRCdrIQZ"
      }
    },
    {
      "cell_type": "code",
      "source": [
        "txt1 = \"My name is {fname}, I'm {age}\".format(fname = \"Zijing\", age = 18)\n",
        "# txt2 = \"My name is {0}, I'm {1}\".format(\"Zijing\",18)\n",
        "\n",
        "with open(\"format_file.txt\", \"w\") as my_file:\n",
        "    my_file.write(txt1+'\\n') # one way to add the new line character\n",
        "    my_file.write(\"My name is {0}, I'm {1}, \\n\".format(\"Zijing\",18)) # another way\n",
        "    my_file.write(\"This is an elegant text file \\n\")\n"
      ],
      "metadata": {
        "id": "IzsTTS0xrL34"
      },
      "execution_count": null,
      "outputs": []
    },
    {
      "cell_type": "code",
      "source": [
        "# write a 'table' to file with nested for-loop\n",
        "width = 5\n",
        "with open('format_table.txt','w') as myfile:\n",
        "  for num in range(16):\n",
        "    for base in 'dxob':\n",
        "      myfile.write('{0:{width}{base}}'.format(num, base=base, width=width)+' ')\n",
        "    myfile.write('\\n') # add a newline character at the end of each row\n"
      ],
      "metadata": {
        "id": "79YnBZdFvvg-"
      },
      "execution_count": null,
      "outputs": []
    },
    {
      "cell_type": "markdown",
      "source": [
        "## Files"
      ],
      "metadata": {
        "id": "FATUKUK1Kx76"
      }
    },
    {
      "cell_type": "markdown",
      "source": [
        "### open"
      ],
      "metadata": {
        "id": "pm1bHSmrK3NZ"
      }
    },
    {
      "cell_type": "code",
      "source": [
        "## Don't use this\n",
        "# file = open(\"filename.txt\", 'r')\n",
        "# string = file.read() # read entire content as a string\n",
        "\n",
        "## read line with for loop\n",
        "# for line in file:\n",
        "#    print(line[:-1])\n",
        "\n",
        "# file.close()"
      ],
      "metadata": {
        "id": "cOjifVocKzSj"
      },
      "execution_count": null,
      "outputs": []
    },
    {
      "cell_type": "markdown",
      "source": [
        "### With open\n",
        "\n",
        "No need to manually close the file.\n",
        "\n",
        "First create a new file and write to it.\n",
        "\n",
        "Then read it."
      ],
      "metadata": {
        "id": "f9zxngBWK502"
      }
    },
    {
      "cell_type": "code",
      "source": [
        "with open(\"hello.txt\", \"w\") as my_file:\n",
        "    my_file.write(\"Hello world \\n\")\n",
        "    my_file.write(\"I hope you're doing well today \\n\")\n",
        "    my_file.write(\"This is a text file \\n\")\n",
        "    my_file.write(\"Have a nice time \\n\")\n",
        "\n",
        "with open(\"hello.txt\") as my_file:\n",
        "    for line in my_file:\n",
        "        print(line)"
      ],
      "metadata": {
        "colab": {
          "base_uri": "https://localhost:8080/"
        },
        "id": "8nbYwe0LK74H",
        "outputId": "8446405b-42a2-4fe4-93f3-69b5fbcaa13f"
      },
      "execution_count": null,
      "outputs": [
        {
          "output_type": "stream",
          "name": "stdout",
          "text": [
            "Hello world \n",
            "\n",
            "I hope you're doing well today \n",
            "\n",
            "This is a text file \n",
            "\n",
            "Have a nice time \n",
            "\n"
          ]
        }
      ]
    },
    {
      "cell_type": "markdown",
      "source": [
        "### Json File\n",
        "https://www.w3schools.com/python/python_json.asp\n",
        "\n",
        "**json.load()** read json into Python\n",
        "\n",
        "**json.dump()** save Python as json"
      ],
      "metadata": {
        "id": "_mDzckOszrPI"
      }
    },
    {
      "cell_type": "code",
      "source": [
        "# writing to a Jason File.   json.dump()\n",
        "import json\n",
        "people = [\n",
        "    {'name': 'John Doe', 'age': 43, 'is_employee': True},\n",
        "     {'name': 'Jane Doe', 'age': 44, 'is_employee': False}\n",
        "    ] # True/False will be in lower case in people.json\n",
        "\n",
        "out_file = open('people.json', 'w')\n",
        "json.dump(people, out_file)\n",
        "out_file.close()"
      ],
      "metadata": {
        "id": "N1b-eq6eztox"
      },
      "execution_count": null,
      "outputs": []
    },
    {
      "cell_type": "code",
      "source": [
        "# Read json file as a Python object with json.load()\n",
        "import json\n",
        "in_file = open('people.json', 'r')\n",
        "\n",
        "people = json.load(in_file) # a list of dict\n",
        "in_file.close()\n",
        "\n",
        "for person in people: # for each element in list\n",
        "    print(person)\n"
      ],
      "metadata": {
        "id": "vtuiyFX51-jE"
      },
      "execution_count": null,
      "outputs": []
    },
    {
      "cell_type": "markdown",
      "source": [
        "### Path\n",
        "\n"
      ],
      "metadata": {
        "id": "W9awWFhyFiV0"
      }
    },
    {
      "cell_type": "code",
      "source": [
        "# Identify file\n",
        "import os\n",
        "os.path.isfile(path)"
      ],
      "metadata": {
        "id": "HRG_jKytFndE"
      },
      "execution_count": null,
      "outputs": []
    },
    {
      "cell_type": "code",
      "source": [
        "# Idenfity dir, create path if not exists\n",
        "if not os.path.isdir(path):\n",
        "  os.mkdir(path)"
      ],
      "metadata": {
        "id": "aUcSzdRUFx_7"
      },
      "execution_count": null,
      "outputs": []
    },
    {
      "cell_type": "code",
      "source": [
        "# List all files and folders\n",
        "os.listdir(path)"
      ],
      "metadata": {
        "id": "dtemNtjdGBtH"
      },
      "execution_count": null,
      "outputs": []
    },
    {
      "cell_type": "markdown",
      "source": [
        "## Tuple List Set Dict"
      ],
      "metadata": {
        "id": "W5-dUcf7O3LQ"
      }
    },
    {
      "cell_type": "markdown",
      "source": [
        "### Tuple\n",
        "\n",
        "Tuples are used to store multiple items in a single variable.\n",
        "\n",
        "Tuple is one of 4 built-in data types in Python used to store collections of data, the other 3 are List, Set, and Dictionary, all with different qualities and usage.\n",
        "\n",
        "A tuple is a collection which is **ordered and unchangeable**.\n",
        "\n",
        "Tuples are written with round brackets."
      ],
      "metadata": {
        "id": "_LxQunHNryaG"
      }
    },
    {
      "cell_type": "code",
      "source": [
        "# Tuple can have duplicated value\n",
        "thistuple = (\"apple\", \"banana\", \"cherry\", \"apple\", \"cherry\")\n",
        "print(thistuple)"
      ],
      "metadata": {
        "colab": {
          "base_uri": "https://localhost:8080/"
        },
        "id": "shqFgc6DsFVj",
        "outputId": "35e416ba-7521-48a6-a80a-ebe7e111929b"
      },
      "execution_count": null,
      "outputs": [
        {
          "output_type": "stream",
          "name": "stdout",
          "text": [
            "('apple', 'banana', 'cherry', 'apple', 'cherry')\n"
          ]
        }
      ]
    },
    {
      "cell_type": "code",
      "source": [
        "# Tuple is ordered\n",
        "for element in thistuple:\n",
        "  print(element)"
      ],
      "metadata": {
        "colab": {
          "base_uri": "https://localhost:8080/"
        },
        "id": "ccd2VEk9sODn",
        "outputId": "be2ab99b-b592-4453-dbff-c1f98bfe698c"
      },
      "execution_count": null,
      "outputs": [
        {
          "output_type": "stream",
          "name": "stdout",
          "text": [
            "apple\n",
            "banana\n",
            "cherry\n",
            "apple\n",
            "cherry\n"
          ]
        }
      ]
    },
    {
      "cell_type": "markdown",
      "source": [
        "#### Tuple unpacking"
      ],
      "metadata": {
        "id": "OI4aXH5QM1DC"
      }
    },
    {
      "cell_type": "code",
      "execution_count": null,
      "metadata": {
        "colab": {
          "base_uri": "https://localhost:8080/"
        },
        "id": "Ffimbu2fMyBf",
        "outputId": "c1f796ed-3c02-44da-db80-e3b7a1292b9a"
      },
      "outputs": [
        {
          "output_type": "stream",
          "name": "stdout",
          "text": [
            "apple\n",
            "banana\n",
            "cherry\n"
          ]
        }
      ],
      "source": [
        "fruits = (\"apple\", \"banana\", \"cherry\")\n",
        "\n",
        "(green, yellow, red) = fruits\n",
        "\n",
        "print(green)\n",
        "print(yellow)\n",
        "print(red)"
      ]
    },
    {
      "cell_type": "markdown",
      "source": [
        "### List\n",
        "\n"
      ],
      "metadata": {
        "id": "fYLFyiS6O6L3"
      }
    },
    {
      "cell_type": "markdown",
      "source": [
        "List can has **mix values**, nested list\n",
        "\n",
        "list operations:\n"
      ],
      "metadata": {
        "id": "eyu99RdvPjAj"
      }
    },
    {
      "cell_type": "code",
      "source": [
        "lst = [1,2,3] + [2.2,1.8] #concatenation\n",
        "len(lst) #length\n",
        "lst.append('Zijing') # append ->[1, 2, 3, 2.2, 1.8, 'Zijing']\n",
        "print(lst)\n",
        "del lst[-1] #delete 'Ziing'\n",
        "print(lst)"
      ],
      "metadata": {
        "colab": {
          "base_uri": "https://localhost:8080/"
        },
        "id": "b_twY_CCPVrj",
        "outputId": "1dc63851-2899-483d-9609-7a4349130c76"
      },
      "execution_count": null,
      "outputs": [
        {
          "output_type": "stream",
          "name": "stdout",
          "text": [
            "[1, 2, 3, 2.2, 1.8, 'Zijing']\n",
            "[1, 2, 3, 2.2, 1.8]\n"
          ]
        }
      ]
    },
    {
      "cell_type": "code",
      "source": [
        "lst.sort() #sort\n",
        "print(lst)"
      ],
      "metadata": {
        "colab": {
          "base_uri": "https://localhost:8080/"
        },
        "id": "xEi9RkaNQvX9",
        "outputId": "739720cd-67ca-4c64-ab1c-8898924ddb6e"
      },
      "execution_count": null,
      "outputs": [
        {
          "output_type": "stream",
          "name": "stdout",
          "text": [
            "[1, 2, 3, 4, 5]\n"
          ]
        }
      ]
    },
    {
      "cell_type": "code",
      "source": [
        "# get a new object. Not reference by assignmnet: old_wiggles = wiggles\n",
        "wiggles = ['greg', 'anthony', 'murray', 'jeff']\n",
        "old_wiggles = wiggles.copy()"
      ],
      "metadata": {
        "id": "4fHv27XKRH2s"
      },
      "execution_count": null,
      "outputs": []
    },
    {
      "cell_type": "code",
      "source": [],
      "metadata": {
        "id": "Wg-XtL3v-COz"
      },
      "execution_count": null,
      "outputs": []
    },
    {
      "cell_type": "markdown",
      "source": [
        "### Difference between list and tuple"
      ],
      "metadata": {
        "id": "-5HMavz8-Cjo"
      }
    },
    {
      "cell_type": "code",
      "source": [
        "# both list and tuple can include different types\n",
        "mylst = [1,2,'Hi']\n",
        "mytuple = (1,2,'Bye')"
      ],
      "metadata": {
        "id": "IUU76bW2-Cjo"
      },
      "execution_count": null,
      "outputs": []
    },
    {
      "cell_type": "code",
      "source": [
        "mylst[2] = 888 # list are mutable\n",
        "print(mylst)"
      ],
      "metadata": {
        "colab": {
          "base_uri": "https://localhost:8080/"
        },
        "outputId": "a8b3c202-1dfe-4292-ce04-21a2afc9c58b",
        "id": "nCArGyEj-Cjp"
      },
      "execution_count": null,
      "outputs": [
        {
          "output_type": "stream",
          "name": "stdout",
          "text": [
            "[1, 2, 888]\n"
          ]
        }
      ]
    },
    {
      "cell_type": "code",
      "source": [
        "mytuple[2] = 999 # tuple are NOT mutable\n",
        "print(mytuple)"
      ],
      "metadata": {
        "colab": {
          "base_uri": "https://localhost:8080/",
          "height": 158
        },
        "outputId": "29cd586c-aa28-44e1-8826-bf010437dc01",
        "id": "L7tn5rwJ-Cjq"
      },
      "execution_count": null,
      "outputs": [
        {
          "output_type": "error",
          "ename": "TypeError",
          "evalue": "'tuple' object does not support item assignment",
          "traceback": [
            "\u001b[0;31m---------------------------------------------------------------------------\u001b[0m",
            "\u001b[0;31mTypeError\u001b[0m                                 Traceback (most recent call last)",
            "\u001b[0;32m<ipython-input-4-7a187399e24a>\u001b[0m in \u001b[0;36m<cell line: 1>\u001b[0;34m()\u001b[0m\n\u001b[0;32m----> 1\u001b[0;31m \u001b[0mmytuple\u001b[0m\u001b[0;34m[\u001b[0m\u001b[0;36m2\u001b[0m\u001b[0;34m]\u001b[0m \u001b[0;34m=\u001b[0m \u001b[0;36m999\u001b[0m\u001b[0;34m\u001b[0m\u001b[0;34m\u001b[0m\u001b[0m\n\u001b[0m\u001b[1;32m      2\u001b[0m \u001b[0mprint\u001b[0m\u001b[0;34m(\u001b[0m\u001b[0mmytuple\u001b[0m\u001b[0;34m)\u001b[0m\u001b[0;34m\u001b[0m\u001b[0;34m\u001b[0m\u001b[0m\n",
            "\u001b[0;31mTypeError\u001b[0m: 'tuple' object does not support item assignment"
          ]
        }
      ]
    },
    {
      "cell_type": "markdown",
      "source": [
        "### Dict\n"
      ],
      "metadata": {
        "id": "XVOKH_FufMpm"
      }
    },
    {
      "cell_type": "code",
      "source": [
        "d1 = {} # empty dict. To create a set --> s1 = {2,3,4}, must has elements. Otherwise it is empty dict"
      ],
      "metadata": {
        "id": "WFj72-QbfO6G"
      },
      "execution_count": null,
      "outputs": []
    },
    {
      "cell_type": "code",
      "source": [
        "# add and revise element\n",
        "pet = {'name':'fido'}\n",
        "pet['colour'] = 'purple' # set a value with a new key will add a new item!\n",
        "print(pet)\n",
        "pet['name'] = 'kiki'\n",
        "print(pet)\n",
        "# del pet['name'] # remove item"
      ],
      "metadata": {
        "colab": {
          "base_uri": "https://localhost:8080/"
        },
        "id": "phr1gAzrfpPO",
        "outputId": "460f02ac-872c-43b8-8fa5-1241b0257e22"
      },
      "execution_count": null,
      "outputs": [
        {
          "output_type": "stream",
          "name": "stdout",
          "text": [
            "{'name': 'fido', 'colour': 'purple'}\n",
            "{'name': 'kiki', 'colour': 'purple'}\n"
          ]
        }
      ]
    },
    {
      "cell_type": "code",
      "source": [
        "print( pet.keys() )# all keys\n",
        "print( pet.values() )# all values"
      ],
      "metadata": {
        "colab": {
          "base_uri": "https://localhost:8080/"
        },
        "id": "tkCoIvp6gHir",
        "outputId": "a6e3996b-dc85-4fc8-9dc1-0d2244b10f63"
      },
      "execution_count": null,
      "outputs": [
        {
          "output_type": "stream",
          "name": "stdout",
          "text": [
            "dict_keys(['name', 'colour'])\n",
            "dict_values(['kiki', 'purple'])\n"
          ]
        }
      ]
    },
    {
      "cell_type": "code",
      "source": [
        "# iterate over items with items()\n",
        "for key, value in pet.items():\n",
        "  print(f'Key is {key}, value is {value}')"
      ],
      "metadata": {
        "colab": {
          "base_uri": "https://localhost:8080/"
        },
        "id": "QbRKsD64go9u",
        "outputId": "e700ace8-1a75-4147-c4f5-9ffacb1b6961"
      },
      "execution_count": null,
      "outputs": [
        {
          "output_type": "stream",
          "name": "stdout",
          "text": [
            "Key is name, value is kiki\n",
            "Key is colour, value is purple\n"
          ]
        }
      ]
    },
    {
      "cell_type": "markdown",
      "source": [
        "#### A tuple can be used as dict key"
      ],
      "metadata": {
        "id": "e6-3xJMqz9QR"
      }
    },
    {
      "cell_type": "code",
      "source": [
        "pets_loc = {(1,2):'fido',(3,4):'stella'} # pets sit at location (x, y)\n",
        "print(pets_loc)"
      ],
      "metadata": {
        "colab": {
          "base_uri": "https://localhost:8080/"
        },
        "id": "k3lAGFlg0CJk",
        "outputId": "b06ea3ec-82d2-446b-eb3f-d20ec61c3590"
      },
      "execution_count": null,
      "outputs": [
        {
          "output_type": "stream",
          "name": "stdout",
          "text": [
            "{(1, 2): 'fido', (3, 4): 'stella'}\n"
          ]
        }
      ]
    },
    {
      "cell_type": "markdown",
      "source": [
        "### Set\n",
        "\n",
        "\n",
        "An **unordered** collection of items with **unique** values.\n",
        "\n",
        "Can't *index* or *slice* a Set"
      ],
      "metadata": {
        "id": "1u-9gFqHSLrM"
      }
    },
    {
      "cell_type": "code",
      "source": [
        "# Two ways to create\n",
        "s1 = {2,3,4} # must has elements. Otherwise it becomes dict\n",
        "s2 = set() # empty set"
      ],
      "metadata": {
        "id": "cJCLR7QbSQt7"
      },
      "execution_count": null,
      "outputs": []
    },
    {
      "cell_type": "code",
      "source": [
        "# set operation: add()/remove()/in\n",
        "s1 = {2,3,4}\n",
        "s1.add(50) # add {2,3,4,50}\n",
        "s1.remove(2) # delelte {3,4,50}\n",
        "print(s1)\n",
        "print(50 in s1) # check membership with 'in' and 'not in'"
      ],
      "metadata": {
        "colab": {
          "base_uri": "https://localhost:8080/"
        },
        "id": "2CFg4N9nnIvD",
        "outputId": "a88dab90-3875-425d-dc8e-6d5c70fb60e9"
      },
      "execution_count": null,
      "outputs": [
        {
          "output_type": "stream",
          "name": "stdout",
          "text": [
            "{3, 4, 50}\n",
            "True\n"
          ]
        }
      ]
    },
    {
      "cell_type": "code",
      "source": [],
      "metadata": {
        "id": "U6nABsjcs0Oz"
      },
      "execution_count": null,
      "outputs": []
    },
    {
      "cell_type": "markdown",
      "source": [
        "### Slicing\n",
        "\n"
      ],
      "metadata": {
        "id": "Exp_AiNOtXGG"
      }
    },
    {
      "cell_type": "code",
      "source": [
        "mylist = [0,1,2,3,4,5,6,7]\n",
        "print(\"text[0,7]=\" , mylist[0:7]) # start = 0, end = (7-1)\n",
        "print(\"text[:7]=\" , mylist[:7]) # omit start, so start=0, end =(7-1)\n",
        "print(\"text[1:]=\" , mylist[1:]) # omit end, so start=1, end = 7\n",
        "# step = 3\n",
        "print(\"text[0,7,3]=\" , mylist[0:7:3]) # start = 0, end = (7-1), step = 3"
      ],
      "metadata": {
        "colab": {
          "base_uri": "https://localhost:8080/"
        },
        "id": "k9x5VCdatzmj",
        "outputId": "7af7ae90-6e82-4987-e2a2-38573276661b"
      },
      "execution_count": null,
      "outputs": [
        {
          "output_type": "stream",
          "name": "stdout",
          "text": [
            "text[0,7]= [0, 1, 2, 3, 4, 5, 6]\n",
            "text[:7]= [0, 1, 2, 3, 4, 5, 6]\n",
            "text[1:]= [1, 2, 3, 4, 5, 6, 7]\n",
            "text[0,7,3]= [0, 3, 6]\n"
          ]
        }
      ]
    },
    {
      "cell_type": "code",
      "source": [
        "text = \"0123456789\"\n",
        "num = len(text) # num is 10\n",
        "print(text[0:num:3]) # start = 0, end = last element 'n'\n",
        "print(text[::3]) # omit start, so start = 0; omit end, so end = last element 'n'"
      ],
      "metadata": {
        "colab": {
          "base_uri": "https://localhost:8080/"
        },
        "id": "XZSAd1M_vhVL",
        "outputId": "4c611549-7c87-4c9b-ce71-293d52d24792"
      },
      "execution_count": null,
      "outputs": [
        {
          "output_type": "stream",
          "name": "stdout",
          "text": [
            "0369\n",
            "0369\n"
          ]
        }
      ]
    },
    {
      "cell_type": "code",
      "source": [
        "s = 'abcdefg'\n",
        "s[0:5:2] # start = 0, end = 5-1, step = 2"
      ],
      "metadata": {
        "colab": {
          "base_uri": "https://localhost:8080/",
          "height": 36
        },
        "id": "keOVsgWgyNQ1",
        "outputId": "31a49087-08d7-47ab-d58e-bd7ebdfad443"
      },
      "execution_count": null,
      "outputs": [
        {
          "output_type": "execute_result",
          "data": {
            "text/plain": [
              "'ace'"
            ],
            "application/vnd.google.colaboratory.intrinsic+json": {
              "type": "string"
            }
          },
          "metadata": {},
          "execution_count": 18
        }
      ]
    },
    {
      "cell_type": "code",
      "source": [
        "# arguments can be omitted when using :\n",
        "text = [0,1,2,3,4,5,6,7]\n",
        "print(text[:])"
      ],
      "metadata": {
        "colab": {
          "base_uri": "https://localhost:8080/"
        },
        "id": "xj9dMdV8tc-q",
        "outputId": "e5e0c00a-5c85-42c7-cff0-2963fd4e7743"
      },
      "execution_count": null,
      "outputs": [
        {
          "output_type": "stream",
          "name": "stdout",
          "text": [
            "ZijingChenPython\n"
          ]
        }
      ]
    },
    {
      "cell_type": "markdown",
      "source": [
        "### Slicing with negative integer"
      ],
      "metadata": {
        "id": "n7DGw2aLNcwV"
      }
    },
    {
      "cell_type": "code",
      "source": [
        "text = \"ZijingChenPython\"\n",
        "\n",
        "# Slicing left part of string text\n",
        "left = text[:-6]\n",
        "\n",
        "# Slicing middle part of string text\n",
        "middle = text[-10:-6]\n",
        "\n",
        "# Slicing right part of string text\n",
        "right = text[-6:]\n",
        "\n",
        "print(left)\n",
        "print(middle)\n",
        "print(right)\n"
      ],
      "metadata": {
        "colab": {
          "base_uri": "https://localhost:8080/"
        },
        "id": "v2SO7M5lNE_r",
        "outputId": "0c2e929c-194f-4f89-d0e8-5f09c61bccde"
      },
      "execution_count": null,
      "outputs": [
        {
          "output_type": "stream",
          "name": "stdout",
          "text": [
            "ZijingChen\n",
            "Chen\n",
            "Python\n"
          ]
        }
      ]
    },
    {
      "cell_type": "markdown",
      "source": [
        "Zip()\n",
        "\n",
        "The zip() function returns a **zip object**, which is an iterator of tuples where the first item in each passed iterator is paired together, and then the second item in each passed iterator are paired together etc."
      ],
      "metadata": {
        "id": "RWGYTK7y1fzA"
      }
    },
    {
      "cell_type": "code",
      "source": [
        "a = [\"John\", \"Charles\", \"Mike\"]\n",
        "b = [\"Jenny\", \"Christy\", \"Monica\"]\n",
        "\n",
        "res = zip(a, b)\n",
        "print(res)"
      ],
      "metadata": {
        "colab": {
          "base_uri": "https://localhost:8080/"
        },
        "id": "7HVj3EyXOb3n",
        "outputId": "c8ac0d80-07d4-4101-e206-4a5b35193973"
      },
      "execution_count": null,
      "outputs": [
        {
          "output_type": "stream",
          "name": "stdout",
          "text": [
            "<zip object at 0x78e3a4909180>\n"
          ]
        }
      ]
    },
    {
      "cell_type": "code",
      "source": [
        "for x, y in res:\n",
        "  print('x = ', x, '; y = ', y)"
      ],
      "metadata": {
        "colab": {
          "base_uri": "https://localhost:8080/"
        },
        "id": "1jvNFbRK15R4",
        "outputId": "1536f497-5c2a-4240-985d-8ec690b7fd34"
      },
      "execution_count": null,
      "outputs": [
        {
          "output_type": "stream",
          "name": "stdout",
          "text": [
            "x =  John\n",
            "y =  Jenny\n",
            "x =  Charles\n",
            "y =  Christy\n",
            "x =  Mike\n",
            "y =  Monica\n"
          ]
        }
      ]
    },
    {
      "cell_type": "code",
      "source": [],
      "metadata": {
        "id": "xvvSjBMW_I8B"
      },
      "execution_count": null,
      "outputs": []
    },
    {
      "cell_type": "markdown",
      "source": [
        "## String\n"
      ],
      "metadata": {
        "id": "ykZfe3BQ0zkD"
      }
    },
    {
      "cell_type": "code",
      "source": [
        "# strings are IMMUTABLE!!\n",
        "greeting = \"Hello!\"\n",
        "greeting[2] = '8'"
      ],
      "metadata": {
        "colab": {
          "base_uri": "https://localhost:8080/",
          "height": 176
        },
        "id": "kVbmshFO8M5w",
        "outputId": "46ce684f-6930-4976-f6c2-e1439683f8ca"
      },
      "execution_count": null,
      "outputs": [
        {
          "output_type": "error",
          "ename": "TypeError",
          "evalue": "'str' object does not support item assignment",
          "traceback": [
            "\u001b[0;31m---------------------------------------------------------------------------\u001b[0m",
            "\u001b[0;31mTypeError\u001b[0m                                 Traceback (most recent call last)",
            "\u001b[0;32m<ipython-input-29-f1331a8193f9>\u001b[0m in \u001b[0;36m<cell line: 3>\u001b[0;34m()\u001b[0m\n\u001b[1;32m      1\u001b[0m \u001b[0;31m# strings are IMMUTABLE!!\u001b[0m\u001b[0;34m\u001b[0m\u001b[0;34m\u001b[0m\u001b[0m\n\u001b[1;32m      2\u001b[0m \u001b[0mgreeting\u001b[0m \u001b[0;34m=\u001b[0m \u001b[0;34m\"Hello!\"\u001b[0m\u001b[0;34m\u001b[0m\u001b[0;34m\u001b[0m\u001b[0m\n\u001b[0;32m----> 3\u001b[0;31m \u001b[0mgreeting\u001b[0m\u001b[0;34m[\u001b[0m\u001b[0;36m2\u001b[0m\u001b[0;34m]\u001b[0m \u001b[0;34m=\u001b[0m \u001b[0;34m'8'\u001b[0m\u001b[0;34m\u001b[0m\u001b[0;34m\u001b[0m\u001b[0m\n\u001b[0m",
            "\u001b[0;31mTypeError\u001b[0m: 'str' object does not support item assignment"
          ]
        }
      ]
    },
    {
      "cell_type": "markdown",
      "source": [
        "## String functions"
      ],
      "metadata": {
        "id": "GRXtHaWq8J8b"
      }
    },
    {
      "cell_type": "code",
      "source": [
        "# The strip() method removes any leading, and trailing whitespaces (spaces, tabs, and newlines) )\n",
        "mystr = \" Welcome to zijing's python class.    \\n\" # white space at the begininng and end. Won't remmove '.'\n",
        "res = mystr.strip()\n",
        "print('1'+res+'2') # anything between 1 and 2 belongs to res!"
      ],
      "metadata": {
        "colab": {
          "base_uri": "https://localhost:8080/"
        },
        "id": "S191YxbS0zDP",
        "outputId": "817118c8-d518-4fab-e217-e82d27584f85"
      },
      "execution_count": null,
      "outputs": [
        {
          "output_type": "stream",
          "name": "stdout",
          "text": [
            "1Welcome to zijing's python class.2\n"
          ]
        }
      ]
    },
    {
      "cell_type": "code",
      "source": [
        "# The split() method splits a string according to ...\n",
        "mystr = \" Welcome to zijing's python class.    \\n\" # white space at the begininng and end. Won't remmove '.'\n",
        "out = mystr.split() # split\n",
        "print(out)"
      ],
      "metadata": {
        "colab": {
          "base_uri": "https://localhost:8080/"
        },
        "id": "PgKS-qWy1is-",
        "outputId": "a462074b-d211-48c8-a6dc-db6ab9d6da81"
      },
      "execution_count": null,
      "outputs": [
        {
          "output_type": "stream",
          "name": "stdout",
          "text": [
            "['Welcome', 'to', \"zijing's\", 'python', 'class.']\n"
          ]
        }
      ]
    },
    {
      "cell_type": "code",
      "source": [
        "mystr = \" Welcome to zijing's python class.    \\n\"\n",
        "out = mystr.split('.') # split according to '.'\n",
        "print(out)"
      ],
      "metadata": {
        "colab": {
          "base_uri": "https://localhost:8080/"
        },
        "id": "6Hnwui3h2QXF",
        "outputId": "d7b4dbc8-198d-4d2c-9d2e-9a01c8f49bbc"
      },
      "execution_count": null,
      "outputs": [
        {
          "output_type": "stream",
          "name": "stdout",
          "text": [
            "[\" Welcome to zijing's python class\", '    \\n']\n"
          ]
        }
      ]
    },
    {
      "cell_type": "code",
      "source": [
        "# join()\n",
        "\n",
        "' '.join(['My', 'name', 'is', 'Zijing'])"
      ],
      "metadata": {
        "colab": {
          "base_uri": "https://localhost:8080/",
          "height": 36
        },
        "id": "imTQXYhv9Kn-",
        "outputId": "aa0c750f-7b1b-4c0f-ec54-09467f781317"
      },
      "execution_count": null,
      "outputs": [
        {
          "output_type": "execute_result",
          "data": {
            "text/plain": [
              "'My name is Zijing'"
            ],
            "application/vnd.google.colaboratory.intrinsic+json": {
              "type": "string"
            }
          },
          "metadata": {},
          "execution_count": 30
        }
      ]
    },
    {
      "cell_type": "markdown",
      "source": [
        "## Errors and Exceptions\n",
        "\n",
        "3 kinds of error:\n",
        "\n",
        "\n",
        "*   Syntax Error\n",
        "*   Runtime Error (cause crash. eg, fiels doesn't exist, divide 0, un-defined variable, non-exist index)\n",
        "*   Logic Error  \n",
        "\n",
        "An exception is a **runtime error** but can **recover** (no more crash).\n",
        "\n",
        "Put the code which may casue crash in *try*, and how to handle in *except*\n"
      ],
      "metadata": {
        "id": "4aCHM_BmoTJn"
      }
    },
    {
      "cell_type": "code",
      "source": [
        "# try...except.. to handle exceptions\n",
        "# the code won't crash as it gives another chance for user to input\n",
        "while True:\n",
        "  try:\n",
        "    denom = int(input('Enter a denom: '))\n",
        "    result = str(1/denom)\n",
        "    break\n",
        "  except ZeroDivisionError: # multiple except blocks handing different types of ecceptions\n",
        "    result = 'infinity'\n",
        "    break\n",
        "  except ValueError: # write except and error type in the same line\n",
        "    print('Invalid input, try again please.') # then it go to next loop and wait for user's input\n",
        "\n",
        "print(f'The reciprocal of {denom} is {result}')"
      ],
      "metadata": {
        "colab": {
          "base_uri": "https://localhost:8080/"
        },
        "id": "HMxLmCsDoqzg",
        "outputId": "2edb2bc6-9684-4f7c-9d46-117b1b113c8e"
      },
      "execution_count": null,
      "outputs": [
        {
          "output_type": "stream",
          "name": "stdout",
          "text": [
            "Enter a denom: 0\n",
            "The reciprocal of 0 is infinity\n"
          ]
        }
      ]
    },
    {
      "cell_type": "markdown",
      "source": [
        "Python raise exception for Python function.\n",
        "\n",
        "User defined function has to raise exception by yourself, raise ..."
      ],
      "metadata": {
        "id": "zrwc5knhqSVz"
      }
    },
    {
      "cell_type": "code",
      "source": [
        "def print_odd_only(n):\n",
        "  if n % 2 == 0:\n",
        "    raise ValueError(f'{n} is even!')\n",
        "  print(n)\n",
        "\n",
        "\n",
        "try:\n",
        "  print_odd_only(5)\n",
        "  print_odd_only(4) # raise a ValueError. Control flow jumps to except block\n",
        "except ValueError:\n",
        "  print('Oops')\n",
        "\n",
        "print('Done')"
      ],
      "metadata": {
        "colab": {
          "base_uri": "https://localhost:8080/"
        },
        "id": "2zzPJNqEqRA6",
        "outputId": "c30ab148-27cd-4d3a-c755-bfe44356c53d"
      },
      "execution_count": null,
      "outputs": [
        {
          "output_type": "stream",
          "name": "stdout",
          "text": [
            "5\n",
            "Oops\n",
            "Done\n"
          ]
        }
      ]
    },
    {
      "cell_type": "markdown",
      "source": [
        "## Module\n",
        "\n",
        "E.g. math.py"
      ],
      "metadata": {
        "id": "4JcynTUNxuCT"
      }
    },
    {
      "cell_type": "code",
      "source": [
        "import math\n",
        "print(  math.ceil(1.1) )"
      ],
      "metadata": {
        "colab": {
          "base_uri": "https://localhost:8080/"
        },
        "id": "kvga1sgWxxW1",
        "outputId": "2436b38b-af81-4dc7-8d41-03ef3b81df6e"
      },
      "execution_count": null,
      "outputs": [
        {
          "output_type": "stream",
          "name": "stdout",
          "text": [
            "2\n"
          ]
        }
      ]
    },
    {
      "cell_type": "code",
      "source": [
        "import random\n",
        "print('A random number: ', random.random()) # floating number between 0 and 1.\n",
        "print('Random int: ', random.randint(0,11))\n",
        "\n",
        "city_list = ['Melb', 'Syd', 'Perth', 'Bne']\n",
        "print('Random choice: ', random.choice(city_list))\n",
        "\n",
        "random.shuffle(city_list) # in-place shuffle\n",
        "print('Shuffle a list: ', city_list)"
      ],
      "metadata": {
        "colab": {
          "base_uri": "https://localhost:8080/"
        },
        "id": "xsN3QeGDx74v",
        "outputId": "6913927e-b5b8-4e53-c641-a8b21e171663"
      },
      "execution_count": null,
      "outputs": [
        {
          "output_type": "stream",
          "name": "stdout",
          "text": [
            "A random number:  0.8833284256039593\n",
            "Random int:  6\n",
            "Random choice:  Syd\n",
            "Shuffle a list:  ['Bne', 'Perth', 'Syd', 'Melb']\n"
          ]
        }
      ]
    },
    {
      "cell_type": "markdown",
      "source": [
        "## Pandas\n",
        "\n",
        "Data analysis"
      ],
      "metadata": {
        "id": "pPi4M9TQ3KXN"
      }
    },
    {
      "cell_type": "code",
      "source": [],
      "metadata": {
        "id": "lBx0Eftg3NwD"
      },
      "execution_count": null,
      "outputs": []
    },
    {
      "cell_type": "markdown",
      "source": [
        "## Matplotlib\n",
        "\n",
        "Plotting"
      ],
      "metadata": {
        "id": "p1e6v70q3OFv"
      }
    },
    {
      "cell_type": "code",
      "source": [],
      "metadata": {
        "id": "qsr3JnlZ3P6z"
      },
      "execution_count": null,
      "outputs": []
    }
  ]
}