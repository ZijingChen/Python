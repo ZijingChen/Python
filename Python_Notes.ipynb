{
  "nbformat": 4,
  "nbformat_minor": 0,
  "metadata": {
    "colab": {
      "provenance": [],
      "collapsed_sections": [
        "WPhynUgpGrsZ"
      ]
    },
    "kernelspec": {
      "name": "python3",
      "display_name": "Python 3"
    },
    "language_info": {
      "name": "python"
    }
  },
  "cells": [
    {
      "cell_type": "markdown",
      "source": [
        "## Class\n",
        "\n"
      ],
      "metadata": {
        "id": "WPhynUgpGrsZ"
      }
    },
    {
      "cell_type": "markdown",
      "source": [
        "### Define a class\n",
        "\n",
        "Including __init__, and other methods."
      ],
      "metadata": {
        "id": "k941tCgUJgj0"
      }
    },
    {
      "cell_type": "code",
      "source": [
        "class Ellipse:\n",
        "  def __init__(self, w, h): # don't forget 'self'!!\n",
        "    self.width = w\n",
        "    self.height = h\n",
        "  def calculate_area(self): # no parameter\n",
        "    return 3.14159 * self.width * self.height\n",
        "  def scale(self, s): # one parameter\n",
        "    self.width = self.width * s\n",
        "    self.height = self.height * s"
      ],
      "metadata": {
        "id": "eAQ0lL6_HAAc"
      },
      "execution_count": null,
      "outputs": []
    },
    {
      "cell_type": "markdown",
      "source": [
        "### Create an object\n",
        "\n",
        "Call methods."
      ],
      "metadata": {
        "id": "rNLkI_vTJYET"
      }
    },
    {
      "cell_type": "code",
      "source": [
        "ell = Ellipse(3, 4) # two argument, width = 3\n",
        "print('Area:'+ str(ell.calculate_area()) ) # str(): number to string\n",
        "ell.scale(2)\n",
        "print('Scale it, width='+str(ell.width))"
      ],
      "metadata": {
        "colab": {
          "base_uri": "https://localhost:8080/"
        },
        "id": "qhjhHhofJqgh",
        "outputId": "52a5a890-88cf-4a8a-c989-4d22f0dc0aeb"
      },
      "execution_count": null,
      "outputs": [
        {
          "output_type": "stream",
          "name": "stdout",
          "text": [
            "Area:37.699079999999995\n",
            "Scale it, width=6\n"
          ]
        }
      ]
    },
    {
      "cell_type": "markdown",
      "source": [
        "## Format output\n",
        "\n",
        "An f-string is a **string literal** prefixed with an f."
      ],
      "metadata": {
        "id": "9oMbZlrqERCr"
      }
    },
    {
      "cell_type": "code",
      "execution_count": null,
      "metadata": {
        "colab": {
          "base_uri": "https://localhost:8080/"
        },
        "id": "U3z5HfnyEOmC",
        "outputId": "9003bfd8-556f-48b4-9e53-daf725875129"
      },
      "outputs": [
        {
          "output_type": "stream",
          "name": "stdout",
          "text": [
            "Account 1 balance is $23.0\n"
          ]
        }
      ],
      "source": [
        "acc = 1\n",
        "bal = 23.0\n",
        "print(f'Account {acc} balance is ${bal}')"
      ]
    },
    {
      "cell_type": "markdown",
      "source": [
        "### Float number with 4 **decimal number**, **width** of 7"
      ],
      "metadata": {
        "id": "heCuF3gAFBb1"
      }
    },
    {
      "cell_type": "code",
      "source": [
        "res = 1/3\n",
        "f'Number:{res:7.2f}'"
      ],
      "metadata": {
        "colab": {
          "base_uri": "https://localhost:8080/",
          "height": 36
        },
        "id": "VBImMhXZFPLs",
        "outputId": "325aa5b8-aebb-4119-cb6d-5292d17409e5"
      },
      "execution_count": null,
      "outputs": [
        {
          "output_type": "execute_result",
          "data": {
            "text/plain": [
              "'Number:   0.33'"
            ],
            "application/vnd.google.colaboratory.intrinsic+json": {
              "type": "string"
            }
          },
          "metadata": {},
          "execution_count": 6
        }
      ]
    },
    {
      "cell_type": "markdown",
      "source": [
        "### Width for String"
      ],
      "metadata": {
        "id": "RxZ2H6X-F2nO"
      }
    },
    {
      "cell_type": "code",
      "source": [
        "f'{\"Hello\":8s}'"
      ],
      "metadata": {
        "colab": {
          "base_uri": "https://localhost:8080/",
          "height": 36
        },
        "id": "-_y3D1aEGavu",
        "outputId": "d9442ce2-9623-466d-8c64-6fb90ee4eb25"
      },
      "execution_count": null,
      "outputs": [
        {
          "output_type": "execute_result",
          "data": {
            "text/plain": [
              "'Hello   '"
            ],
            "application/vnd.google.colaboratory.intrinsic+json": {
              "type": "string"
            }
          },
          "metadata": {},
          "execution_count": 7
        }
      ]
    },
    {
      "cell_type": "code",
      "source": [
        "for i in range(5):\n",
        "  print(i)"
      ],
      "metadata": {
        "id": "FgCZmjAwHNnC"
      },
      "execution_count": null,
      "outputs": []
    },
    {
      "cell_type": "markdown",
      "source": [
        "## Files"
      ],
      "metadata": {
        "id": "FATUKUK1Kx76"
      }
    },
    {
      "cell_type": "markdown",
      "source": [
        "### open"
      ],
      "metadata": {
        "id": "pm1bHSmrK3NZ"
      }
    },
    {
      "cell_type": "code",
      "source": [
        "## Don't use this\n",
        "# file = open(\"filename.txt\", 'r')\n",
        "# string = file.read() # read entire content as a string\n",
        "\n",
        "## read line wiwth for loop\n",
        "# for line in file:\n",
        "#    print(line[:-1])\n",
        "\n",
        "# file.close()"
      ],
      "metadata": {
        "id": "cOjifVocKzSj"
      },
      "execution_count": null,
      "outputs": []
    },
    {
      "cell_type": "markdown",
      "source": [
        "### With open\n",
        "\n",
        "No need to manually close the file.\n",
        "\n",
        "First create a new file and write to it.\n",
        "\n",
        "Then read it."
      ],
      "metadata": {
        "id": "f9zxngBWK502"
      }
    },
    {
      "cell_type": "code",
      "source": [
        "with open(\"hello.txt\", \"w\") as my_file:\n",
        "    my_file.write(\"Hello world \\n\")\n",
        "    my_file.write(\"I hope you're doing well today \\n\")\n",
        "    my_file.write(\"This is a text file \\n\")\n",
        "    my_file.write(\"Have a nice time \\n\")\n",
        "\n",
        "with open(\"hello.txt\") as my_file:\n",
        "    for line in my_file:\n",
        "        print(line)"
      ],
      "metadata": {
        "colab": {
          "base_uri": "https://localhost:8080/"
        },
        "id": "8nbYwe0LK74H",
        "outputId": "8446405b-42a2-4fe4-93f3-69b5fbcaa13f"
      },
      "execution_count": null,
      "outputs": [
        {
          "output_type": "stream",
          "name": "stdout",
          "text": [
            "Hello world \n",
            "\n",
            "I hope you're doing well today \n",
            "\n",
            "This is a text file \n",
            "\n",
            "Have a nice time \n",
            "\n"
          ]
        }
      ]
    },
    {
      "cell_type": "markdown",
      "source": [
        "### Path\n",
        "\n"
      ],
      "metadata": {
        "id": "W9awWFhyFiV0"
      }
    },
    {
      "cell_type": "code",
      "source": [
        "# Identify file\n",
        "import os\n",
        "os.path.isfile(path)"
      ],
      "metadata": {
        "id": "HRG_jKytFndE"
      },
      "execution_count": null,
      "outputs": []
    },
    {
      "cell_type": "code",
      "source": [
        "# Idenfity dir, create path if not exists\n",
        "if not os.path.isdir(path):\n",
        "  os.mkdir(path)"
      ],
      "metadata": {
        "id": "aUcSzdRUFx_7"
      },
      "execution_count": null,
      "outputs": []
    },
    {
      "cell_type": "code",
      "source": [
        "# List all files and folders\n",
        "os.listdir(path)"
      ],
      "metadata": {
        "id": "dtemNtjdGBtH"
      },
      "execution_count": null,
      "outputs": []
    }
  ]
}