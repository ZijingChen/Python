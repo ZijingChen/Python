{
  "nbformat": 4,
  "nbformat_minor": 0,
  "metadata": {
    "colab": {
      "provenance": [],
      "collapsed_sections": []
    },
    "kernelspec": {
      "name": "python3",
      "display_name": "Python 3"
    },
    "language_info": {
      "name": "python"
    }
  },
  "cells": [
    {
      "cell_type": "markdown",
      "source": [
        "## Report Name: \n",
        "### Warning: Please revise the text in this template to avoid plagiarism!!!!\n",
        "### Warning: Please revise the text in this template to avoid plagiarism!!!!\n",
        "### Warning: Please revise the text in this template to avoid plagiarism!!!!\n",
        "\n",
        "\n",
        "**Check filename for how to name your work**\n",
        "\n",
        "Good structure of Python Jupyter Notebook\n",
        "\n",
        "a. Containing title cells, subtitle cells.\n",
        "\n",
        "b. Python codes are reasonable separated into groups (code cells) with functionalities.\n",
        "\n",
        "c. Containing meaningful comments and sensible variable and function names. \n",
        "\n"
      ],
      "metadata": {
        "id": "vYhcZ-hFZFBB"
      }
    },
    {
      "cell_type": "markdown",
      "source": [
        "## Please make sure you've upload the ITEC102_assessment3_data.csv file into colab."
      ],
      "metadata": {
        "id": "jt3_UpqYczQo"
      }
    },
    {
      "cell_type": "code",
      "source": [
        "import pandas as pd\n",
        "import matplotlib.pyplot as plt"
      ],
      "metadata": {
        "id": "NjGNqlHFayV8"
      },
      "execution_count": null,
      "outputs": []
    },
    {
      "cell_type": "code",
      "source": [
        "df = pd.read_csv('ITEC102_assessment3_data.csv') # load dataset into colab workspace\n",
        "df.head() # check the content"
      ],
      "metadata": {
        "colab": {
          "base_uri": "https://localhost:8080/",
          "height": 206
        },
        "id": "-G6hZEQqbVkU",
        "outputId": "42bd3c0b-97a4-42e0-ab9e-8446d97e5dab"
      },
      "execution_count": null,
      "outputs": [
        {
          "output_type": "execute_result",
          "data": {
            "text/plain": [
              "   Unnamed: 0   age     weight2     wtyrago   wtkg2   htm3  sex\n",
              "0           0  39.0   88.636364   88.636364   88.64  180.0  1.0\n",
              "1           1  64.0   75.000000   84.545455   75.00  155.0  2.0\n",
              "2           2  87.0   61.818182   63.636364   61.82    NaN  2.0\n",
              "3           3  51.0  100.000000  100.000000  100.00  183.0  1.0\n",
              "4           4  35.0   63.636364   61.363636   63.64  170.0  2.0"
            ],
            "text/html": [
              "\n",
              "  <div id=\"df-4a71af73-aad2-47dd-9abd-52979f0a3739\">\n",
              "    <div class=\"colab-df-container\">\n",
              "      <div>\n",
              "<style scoped>\n",
              "    .dataframe tbody tr th:only-of-type {\n",
              "        vertical-align: middle;\n",
              "    }\n",
              "\n",
              "    .dataframe tbody tr th {\n",
              "        vertical-align: top;\n",
              "    }\n",
              "\n",
              "    .dataframe thead th {\n",
              "        text-align: right;\n",
              "    }\n",
              "</style>\n",
              "<table border=\"1\" class=\"dataframe\">\n",
              "  <thead>\n",
              "    <tr style=\"text-align: right;\">\n",
              "      <th></th>\n",
              "      <th>Unnamed: 0</th>\n",
              "      <th>age</th>\n",
              "      <th>weight2</th>\n",
              "      <th>wtyrago</th>\n",
              "      <th>wtkg2</th>\n",
              "      <th>htm3</th>\n",
              "      <th>sex</th>\n",
              "    </tr>\n",
              "  </thead>\n",
              "  <tbody>\n",
              "    <tr>\n",
              "      <th>0</th>\n",
              "      <td>0</td>\n",
              "      <td>39.0</td>\n",
              "      <td>88.636364</td>\n",
              "      <td>88.636364</td>\n",
              "      <td>88.64</td>\n",
              "      <td>180.0</td>\n",
              "      <td>1.0</td>\n",
              "    </tr>\n",
              "    <tr>\n",
              "      <th>1</th>\n",
              "      <td>1</td>\n",
              "      <td>64.0</td>\n",
              "      <td>75.000000</td>\n",
              "      <td>84.545455</td>\n",
              "      <td>75.00</td>\n",
              "      <td>155.0</td>\n",
              "      <td>2.0</td>\n",
              "    </tr>\n",
              "    <tr>\n",
              "      <th>2</th>\n",
              "      <td>2</td>\n",
              "      <td>87.0</td>\n",
              "      <td>61.818182</td>\n",
              "      <td>63.636364</td>\n",
              "      <td>61.82</td>\n",
              "      <td>NaN</td>\n",
              "      <td>2.0</td>\n",
              "    </tr>\n",
              "    <tr>\n",
              "      <th>3</th>\n",
              "      <td>3</td>\n",
              "      <td>51.0</td>\n",
              "      <td>100.000000</td>\n",
              "      <td>100.000000</td>\n",
              "      <td>100.00</td>\n",
              "      <td>183.0</td>\n",
              "      <td>1.0</td>\n",
              "    </tr>\n",
              "    <tr>\n",
              "      <th>4</th>\n",
              "      <td>4</td>\n",
              "      <td>35.0</td>\n",
              "      <td>63.636364</td>\n",
              "      <td>61.363636</td>\n",
              "      <td>63.64</td>\n",
              "      <td>170.0</td>\n",
              "      <td>2.0</td>\n",
              "    </tr>\n",
              "  </tbody>\n",
              "</table>\n",
              "</div>\n",
              "      <button class=\"colab-df-convert\" onclick=\"convertToInteractive('df-4a71af73-aad2-47dd-9abd-52979f0a3739')\"\n",
              "              title=\"Convert this dataframe to an interactive table.\"\n",
              "              style=\"display:none;\">\n",
              "        \n",
              "  <svg xmlns=\"http://www.w3.org/2000/svg\" height=\"24px\"viewBox=\"0 0 24 24\"\n",
              "       width=\"24px\">\n",
              "    <path d=\"M0 0h24v24H0V0z\" fill=\"none\"/>\n",
              "    <path d=\"M18.56 5.44l.94 2.06.94-2.06 2.06-.94-2.06-.94-.94-2.06-.94 2.06-2.06.94zm-11 1L8.5 8.5l.94-2.06 2.06-.94-2.06-.94L8.5 2.5l-.94 2.06-2.06.94zm10 10l.94 2.06.94-2.06 2.06-.94-2.06-.94-.94-2.06-.94 2.06-2.06.94z\"/><path d=\"M17.41 7.96l-1.37-1.37c-.4-.4-.92-.59-1.43-.59-.52 0-1.04.2-1.43.59L10.3 9.45l-7.72 7.72c-.78.78-.78 2.05 0 2.83L4 21.41c.39.39.9.59 1.41.59.51 0 1.02-.2 1.41-.59l7.78-7.78 2.81-2.81c.8-.78.8-2.07 0-2.86zM5.41 20L4 18.59l7.72-7.72 1.47 1.35L5.41 20z\"/>\n",
              "  </svg>\n",
              "      </button>\n",
              "      \n",
              "  <style>\n",
              "    .colab-df-container {\n",
              "      display:flex;\n",
              "      flex-wrap:wrap;\n",
              "      gap: 12px;\n",
              "    }\n",
              "\n",
              "    .colab-df-convert {\n",
              "      background-color: #E8F0FE;\n",
              "      border: none;\n",
              "      border-radius: 50%;\n",
              "      cursor: pointer;\n",
              "      display: none;\n",
              "      fill: #1967D2;\n",
              "      height: 32px;\n",
              "      padding: 0 0 0 0;\n",
              "      width: 32px;\n",
              "    }\n",
              "\n",
              "    .colab-df-convert:hover {\n",
              "      background-color: #E2EBFA;\n",
              "      box-shadow: 0px 1px 2px rgba(60, 64, 67, 0.3), 0px 1px 3px 1px rgba(60, 64, 67, 0.15);\n",
              "      fill: #174EA6;\n",
              "    }\n",
              "\n",
              "    [theme=dark] .colab-df-convert {\n",
              "      background-color: #3B4455;\n",
              "      fill: #D2E3FC;\n",
              "    }\n",
              "\n",
              "    [theme=dark] .colab-df-convert:hover {\n",
              "      background-color: #434B5C;\n",
              "      box-shadow: 0px 1px 3px 1px rgba(0, 0, 0, 0.15);\n",
              "      filter: drop-shadow(0px 1px 2px rgba(0, 0, 0, 0.3));\n",
              "      fill: #FFFFFF;\n",
              "    }\n",
              "  </style>\n",
              "\n",
              "      <script>\n",
              "        const buttonEl =\n",
              "          document.querySelector('#df-4a71af73-aad2-47dd-9abd-52979f0a3739 button.colab-df-convert');\n",
              "        buttonEl.style.display =\n",
              "          google.colab.kernel.accessAllowed ? 'block' : 'none';\n",
              "\n",
              "        async function convertToInteractive(key) {\n",
              "          const element = document.querySelector('#df-4a71af73-aad2-47dd-9abd-52979f0a3739');\n",
              "          const dataTable =\n",
              "            await google.colab.kernel.invokeFunction('convertToInteractive',\n",
              "                                                     [key], {});\n",
              "          if (!dataTable) return;\n",
              "\n",
              "          const docLinkHtml = 'Like what you see? Visit the ' +\n",
              "            '<a target=\"_blank\" href=https://colab.research.google.com/notebooks/data_table.ipynb>data table notebook</a>'\n",
              "            + ' to learn more about interactive tables.';\n",
              "          element.innerHTML = '';\n",
              "          dataTable['output_type'] = 'display_data';\n",
              "          await google.colab.output.renderOutput(dataTable, element);\n",
              "          const docLink = document.createElement('div');\n",
              "          docLink.innerHTML = docLinkHtml;\n",
              "          element.appendChild(docLink);\n",
              "        }\n",
              "      </script>\n",
              "    </div>\n",
              "  </div>\n",
              "  "
            ]
          },
          "metadata": {},
          "execution_count": 2
        }
      ]
    },
    {
      "cell_type": "markdown",
      "source": [
        "My comments are ..."
      ],
      "metadata": {
        "id": "wgSDasLkGSWp"
      }
    },
    {
      "cell_type": "markdown",
      "source": [
        "Please notice that\n",
        "\n",
        "\n",
        "*   wtyrago: weight_a_year_ago\n",
        "*   wtkg2 or weight2: current_weight\n",
        "*   sex: gender. 1 for male and 2 for female.\n",
        "\n"
      ],
      "metadata": {
        "id": "ZeFBBAzTbynj"
      }
    },
    {
      "cell_type": "markdown",
      "source": [
        "## Task1: Produce a summary statistics graph on weight2, wtyrago, htm3\n",
        "\n",
        "Required: max, min , mean, median, mean+std, mean-std, 75 perc, 25 perc"
      ],
      "metadata": {
        "id": "NBILyDTGbi2x"
      }
    },
    {
      "cell_type": "code",
      "source": [
        "des = df.describe()\n",
        "des"
      ],
      "metadata": {
        "colab": {
          "base_uri": "https://localhost:8080/",
          "height": 300
        },
        "id": "vJ4qbIfibCXF",
        "outputId": "e5a01f1d-f4d3-421b-dd73-7e529ee025cb"
      },
      "execution_count": null,
      "outputs": [
        {
          "output_type": "execute_result",
          "data": {
            "text/plain": [
              "         Unnamed: 0           age       weight2       wtyrago         wtkg2  \\\n",
              "count  18177.000000  18011.000000  17484.000000  17023.000000  17483.000000   \n",
              "mean    9088.000000     54.910777     80.043323     80.797973     80.044356   \n",
              "std     5247.392257     16.733645     20.199270     21.266622     20.199415   \n",
              "min        0.000000     18.000000     22.727273     27.272727     22.730000   \n",
              "25%     4544.000000     43.000000     65.909091     65.909091     65.910000   \n",
              "50%     9088.000000     56.000000     77.272727     77.272727     77.270000   \n",
              "75%    13632.000000     67.000000     90.909091     90.909091     90.910000   \n",
              "max    18176.000000     99.000000    265.909091    250.000000    265.910000   \n",
              "\n",
              "               htm3           sex  \n",
              "count  17888.000000  18176.000000  \n",
              "mean     168.897753      1.632812  \n",
              "std       10.428222      0.482051  \n",
              "min      102.000000      1.000000  \n",
              "25%      160.000000      1.000000  \n",
              "50%      168.000000      2.000000  \n",
              "75%      175.000000      2.000000  \n",
              "max      229.000000      2.000000  "
            ],
            "text/html": [
              "\n",
              "  <div id=\"df-38fa0708-5774-4d5c-8f5e-9a4cba1a71a3\">\n",
              "    <div class=\"colab-df-container\">\n",
              "      <div>\n",
              "<style scoped>\n",
              "    .dataframe tbody tr th:only-of-type {\n",
              "        vertical-align: middle;\n",
              "    }\n",
              "\n",
              "    .dataframe tbody tr th {\n",
              "        vertical-align: top;\n",
              "    }\n",
              "\n",
              "    .dataframe thead th {\n",
              "        text-align: right;\n",
              "    }\n",
              "</style>\n",
              "<table border=\"1\" class=\"dataframe\">\n",
              "  <thead>\n",
              "    <tr style=\"text-align: right;\">\n",
              "      <th></th>\n",
              "      <th>Unnamed: 0</th>\n",
              "      <th>age</th>\n",
              "      <th>weight2</th>\n",
              "      <th>wtyrago</th>\n",
              "      <th>wtkg2</th>\n",
              "      <th>htm3</th>\n",
              "      <th>sex</th>\n",
              "    </tr>\n",
              "  </thead>\n",
              "  <tbody>\n",
              "    <tr>\n",
              "      <th>count</th>\n",
              "      <td>18177.000000</td>\n",
              "      <td>18011.000000</td>\n",
              "      <td>17484.000000</td>\n",
              "      <td>17023.000000</td>\n",
              "      <td>17483.000000</td>\n",
              "      <td>17888.000000</td>\n",
              "      <td>18176.000000</td>\n",
              "    </tr>\n",
              "    <tr>\n",
              "      <th>mean</th>\n",
              "      <td>9088.000000</td>\n",
              "      <td>54.910777</td>\n",
              "      <td>80.043323</td>\n",
              "      <td>80.797973</td>\n",
              "      <td>80.044356</td>\n",
              "      <td>168.897753</td>\n",
              "      <td>1.632812</td>\n",
              "    </tr>\n",
              "    <tr>\n",
              "      <th>std</th>\n",
              "      <td>5247.392257</td>\n",
              "      <td>16.733645</td>\n",
              "      <td>20.199270</td>\n",
              "      <td>21.266622</td>\n",
              "      <td>20.199415</td>\n",
              "      <td>10.428222</td>\n",
              "      <td>0.482051</td>\n",
              "    </tr>\n",
              "    <tr>\n",
              "      <th>min</th>\n",
              "      <td>0.000000</td>\n",
              "      <td>18.000000</td>\n",
              "      <td>22.727273</td>\n",
              "      <td>27.272727</td>\n",
              "      <td>22.730000</td>\n",
              "      <td>102.000000</td>\n",
              "      <td>1.000000</td>\n",
              "    </tr>\n",
              "    <tr>\n",
              "      <th>25%</th>\n",
              "      <td>4544.000000</td>\n",
              "      <td>43.000000</td>\n",
              "      <td>65.909091</td>\n",
              "      <td>65.909091</td>\n",
              "      <td>65.910000</td>\n",
              "      <td>160.000000</td>\n",
              "      <td>1.000000</td>\n",
              "    </tr>\n",
              "    <tr>\n",
              "      <th>50%</th>\n",
              "      <td>9088.000000</td>\n",
              "      <td>56.000000</td>\n",
              "      <td>77.272727</td>\n",
              "      <td>77.272727</td>\n",
              "      <td>77.270000</td>\n",
              "      <td>168.000000</td>\n",
              "      <td>2.000000</td>\n",
              "    </tr>\n",
              "    <tr>\n",
              "      <th>75%</th>\n",
              "      <td>13632.000000</td>\n",
              "      <td>67.000000</td>\n",
              "      <td>90.909091</td>\n",
              "      <td>90.909091</td>\n",
              "      <td>90.910000</td>\n",
              "      <td>175.000000</td>\n",
              "      <td>2.000000</td>\n",
              "    </tr>\n",
              "    <tr>\n",
              "      <th>max</th>\n",
              "      <td>18176.000000</td>\n",
              "      <td>99.000000</td>\n",
              "      <td>265.909091</td>\n",
              "      <td>250.000000</td>\n",
              "      <td>265.910000</td>\n",
              "      <td>229.000000</td>\n",
              "      <td>2.000000</td>\n",
              "    </tr>\n",
              "  </tbody>\n",
              "</table>\n",
              "</div>\n",
              "      <button class=\"colab-df-convert\" onclick=\"convertToInteractive('df-38fa0708-5774-4d5c-8f5e-9a4cba1a71a3')\"\n",
              "              title=\"Convert this dataframe to an interactive table.\"\n",
              "              style=\"display:none;\">\n",
              "        \n",
              "  <svg xmlns=\"http://www.w3.org/2000/svg\" height=\"24px\"viewBox=\"0 0 24 24\"\n",
              "       width=\"24px\">\n",
              "    <path d=\"M0 0h24v24H0V0z\" fill=\"none\"/>\n",
              "    <path d=\"M18.56 5.44l.94 2.06.94-2.06 2.06-.94-2.06-.94-.94-2.06-.94 2.06-2.06.94zm-11 1L8.5 8.5l.94-2.06 2.06-.94-2.06-.94L8.5 2.5l-.94 2.06-2.06.94zm10 10l.94 2.06.94-2.06 2.06-.94-2.06-.94-.94-2.06-.94 2.06-2.06.94z\"/><path d=\"M17.41 7.96l-1.37-1.37c-.4-.4-.92-.59-1.43-.59-.52 0-1.04.2-1.43.59L10.3 9.45l-7.72 7.72c-.78.78-.78 2.05 0 2.83L4 21.41c.39.39.9.59 1.41.59.51 0 1.02-.2 1.41-.59l7.78-7.78 2.81-2.81c.8-.78.8-2.07 0-2.86zM5.41 20L4 18.59l7.72-7.72 1.47 1.35L5.41 20z\"/>\n",
              "  </svg>\n",
              "      </button>\n",
              "      \n",
              "  <style>\n",
              "    .colab-df-container {\n",
              "      display:flex;\n",
              "      flex-wrap:wrap;\n",
              "      gap: 12px;\n",
              "    }\n",
              "\n",
              "    .colab-df-convert {\n",
              "      background-color: #E8F0FE;\n",
              "      border: none;\n",
              "      border-radius: 50%;\n",
              "      cursor: pointer;\n",
              "      display: none;\n",
              "      fill: #1967D2;\n",
              "      height: 32px;\n",
              "      padding: 0 0 0 0;\n",
              "      width: 32px;\n",
              "    }\n",
              "\n",
              "    .colab-df-convert:hover {\n",
              "      background-color: #E2EBFA;\n",
              "      box-shadow: 0px 1px 2px rgba(60, 64, 67, 0.3), 0px 1px 3px 1px rgba(60, 64, 67, 0.15);\n",
              "      fill: #174EA6;\n",
              "    }\n",
              "\n",
              "    [theme=dark] .colab-df-convert {\n",
              "      background-color: #3B4455;\n",
              "      fill: #D2E3FC;\n",
              "    }\n",
              "\n",
              "    [theme=dark] .colab-df-convert:hover {\n",
              "      background-color: #434B5C;\n",
              "      box-shadow: 0px 1px 3px 1px rgba(0, 0, 0, 0.15);\n",
              "      filter: drop-shadow(0px 1px 2px rgba(0, 0, 0, 0.3));\n",
              "      fill: #FFFFFF;\n",
              "    }\n",
              "  </style>\n",
              "\n",
              "      <script>\n",
              "        const buttonEl =\n",
              "          document.querySelector('#df-38fa0708-5774-4d5c-8f5e-9a4cba1a71a3 button.colab-df-convert');\n",
              "        buttonEl.style.display =\n",
              "          google.colab.kernel.accessAllowed ? 'block' : 'none';\n",
              "\n",
              "        async function convertToInteractive(key) {\n",
              "          const element = document.querySelector('#df-38fa0708-5774-4d5c-8f5e-9a4cba1a71a3');\n",
              "          const dataTable =\n",
              "            await google.colab.kernel.invokeFunction('convertToInteractive',\n",
              "                                                     [key], {});\n",
              "          if (!dataTable) return;\n",
              "\n",
              "          const docLinkHtml = 'Like what you see? Visit the ' +\n",
              "            '<a target=\"_blank\" href=https://colab.research.google.com/notebooks/data_table.ipynb>data table notebook</a>'\n",
              "            + ' to learn more about interactive tables.';\n",
              "          element.innerHTML = '';\n",
              "          dataTable['output_type'] = 'display_data';\n",
              "          await google.colab.output.renderOutput(dataTable, element);\n",
              "          const docLink = document.createElement('div');\n",
              "          docLink.innerHTML = docLinkHtml;\n",
              "          element.appendChild(docLink);\n",
              "        }\n",
              "      </script>\n",
              "    </div>\n",
              "  </div>\n",
              "  "
            ]
          },
          "metadata": {},
          "execution_count": 3
        }
      ]
    },
    {
      "cell_type": "markdown",
      "source": [
        "Find the max value of weight2 column (which denotes the current weight):"
      ],
      "metadata": {
        "id": "JOJ3xQLsxFPn"
      }
    },
    {
      "cell_type": "code",
      "source": [
        "des.loc['max','weight2'] # maximum weight"
      ],
      "metadata": {
        "colab": {
          "base_uri": "https://localhost:8080/"
        },
        "id": "BlZp7am_wxop",
        "outputId": "f9bcb72d-5e62-4425-e2ee-c5aef4e49549"
      },
      "execution_count": null,
      "outputs": [
        {
          "output_type": "execute_result",
          "data": {
            "text/plain": [
              "265.90909090909093"
            ]
          },
          "metadata": {},
          "execution_count": 6
        }
      ]
    },
    {
      "cell_type": "code",
      "source": [
        "des.loc['min','weight2'] # minimum weight"
      ],
      "metadata": {
        "colab": {
          "base_uri": "https://localhost:8080/"
        },
        "id": "Rah70LwHgLtf",
        "outputId": "a353a91d-2c04-4126-9144-9824053bc55a"
      },
      "execution_count": null,
      "outputs": [
        {
          "output_type": "execute_result",
          "data": {
            "text/plain": [
              "22.72727272727273"
            ]
          },
          "metadata": {},
          "execution_count": 8
        }
      ]
    },
    {
      "cell_type": "code",
      "source": [
        "# mean + std\n",
        "des.loc['mean','weight2'] + des.loc['std','weight2']"
      ],
      "metadata": {
        "colab": {
          "base_uri": "https://localhost:8080/"
        },
        "id": "QQrkcQhXeaQA",
        "outputId": "b534d7d1-37fb-4f7a-d4ea-62dee7e3c8c4"
      },
      "execution_count": null,
      "outputs": [
        {
          "output_type": "execute_result",
          "data": {
            "text/plain": [
              "100.24259292729727"
            ]
          },
          "metadata": {},
          "execution_count": 9
        }
      ]
    },
    {
      "cell_type": "markdown",
      "source": [
        "#### Visuliazation on these dots"
      ],
      "metadata": {
        "id": "IkTP78anxrVo"
      }
    },
    {
      "cell_type": "markdown",
      "source": [
        "How to plot with two y-axis on a single figure:"
      ],
      "metadata": {
        "id": "vV0Xr5RJj-U3"
      }
    },
    {
      "cell_type": "code",
      "source": [
        "x1 = 1\n",
        "y1,y2, y3 = 1,3,8\n",
        "\n",
        "z1 = 6\n",
        "t1,t2,t3 = 3,6,7\n",
        "\n",
        "p1 = 11\n",
        "q1,q2,q3 = 2,4,6"
      ],
      "metadata": {
        "id": "qltHUeJLirEL"
      },
      "execution_count": null,
      "outputs": []
    },
    {
      "cell_type": "code",
      "source": [
        "#y1 = des.loc['mean','weight2']\n",
        "#y2 = 3\n",
        "#y3 = 8"
      ],
      "metadata": {
        "id": "LrBg7v-hgdHO"
      },
      "execution_count": null,
      "outputs": []
    },
    {
      "cell_type": "code",
      "source": [
        "# marker reference https://matplotlib.org/stable/api/markers_api.html\n",
        "marker_min = \"k^\"\n",
        "marker_max = \"kv\"\n",
        "marker_mean = \"b+\""
      ],
      "metadata": {
        "id": "xi_bKhsJkaRO"
      },
      "execution_count": null,
      "outputs": []
    },
    {
      "cell_type": "code",
      "source": [
        "fig, ax1 = plt.subplots()\n",
        "ax2 = ax1.twinx()\n",
        "ax1.plot(x1, y1, marker_min, label = 'min')\n",
        "ax1.plot(x1, y2, marker_mean, label = 'mean')\n",
        "ax1.plot(x1, y3, marker_max, label = 'max')\n",
        "\n",
        "ax1.plot(z1, t1, marker_min, label = 'min' )\n",
        "ax1.plot(z1, t2, marker_mean, label = 'mean' )\n",
        "ax1.plot(z1, t3, marker_max, label = 'max' )\n",
        "\n",
        "ax2.plot(p1, q1, marker_min, label = 'min' )\n",
        "ax2.plot(p1, q2, marker_mean, label = 'mean' )\n",
        "ax2.plot(p1, q3, marker_max, label = 'max' )\n",
        "\n",
        "plt.legend(loc='upper right')\n",
        "ax1.set_ylabel('weight',rotation = 0)\n",
        "ax2.set_ylabel('height')\n",
        "plt.xlim([0, 15]) # allow some space for the legend\n",
        "ticks = ax1.set_xticks([x1,z1,p1])\n",
        "labels = ax1.set_xticklabels(['current_weight','Weight_a_year_ago','Height'])"
      ],
      "metadata": {
        "colab": {
          "base_uri": "https://localhost:8080/",
          "height": 266
        },
        "id": "eKvBkwJheBPu",
        "outputId": "f344157b-2a12-4cb4-b051-bfefff5c1dd6"
      },
      "execution_count": null,
      "outputs": [
        {
          "output_type": "display_data",
          "data": {
            "text/plain": [
              "<Figure size 432x288 with 2 Axes>"
            ],
            "image/png": "[encoded data removed]"
          },
          "metadata": {
            "needs_background": "light"
          }
        }
      ]
    },
    {
      "cell_type": "markdown",
      "source": [
        "## Task2 "
      ],
      "metadata": {
        "id": "Uep3CjAg1YAb"
      }
    },
    {
      "cell_type": "markdown",
      "source": [
        "Get the weight change. Add it as a new column of the dataset"
      ],
      "metadata": {
        "id": "kkVTcRLOyaCx"
      }
    },
    {
      "cell_type": "code",
      "source": [
        "df['weight_change'] = df['weight2'] - df['wtyrago'] "
      ],
      "metadata": {
        "id": "osPAU3pGeILC"
      },
      "execution_count": null,
      "outputs": []
    },
    {
      "cell_type": "code",
      "source": [
        "df.head(3)"
      ],
      "metadata": {
        "colab": {
          "base_uri": "https://localhost:8080/",
          "height": 143
        },
        "id": "JjDEyauLeKSc",
        "outputId": "dd27c0d0-204e-4338-82f4-d23b11dc31f4"
      },
      "execution_count": null,
      "outputs": [
        {
          "output_type": "execute_result",
          "data": {
            "text/plain": [
              "   Unnamed: 0   age    weight2    wtyrago  wtkg2   htm3  sex  weight_change\n",
              "0           0  39.0  88.636364  88.636364  88.64  180.0  1.0       0.000000\n",
              "1           1  64.0  75.000000  84.545455  75.00  155.0  2.0      -9.545455\n",
              "2           2  87.0  61.818182  63.636364  61.82    NaN  2.0      -1.818182"
            ],
            "text/html": [
              "\n",
              "  <div id=\"df-a8ab28e6-cbb3-41b4-9d34-61548c02a38b\">\n",
              "    <div class=\"colab-df-container\">\n",
              "      <div>\n",
              "<style scoped>\n",
              "    .dataframe tbody tr th:only-of-type {\n",
              "        vertical-align: middle;\n",
              "    }\n",
              "\n",
              "    .dataframe tbody tr th {\n",
              "        vertical-align: top;\n",
              "    }\n",
              "\n",
              "    .dataframe thead th {\n",
              "        text-align: right;\n",
              "    }\n",
              "</style>\n",
              "<table border=\"1\" class=\"dataframe\">\n",
              "  <thead>\n",
              "    <tr style=\"text-align: right;\">\n",
              "      <th></th>\n",
              "      <th>Unnamed: 0</th>\n",
              "      <th>age</th>\n",
              "      <th>weight2</th>\n",
              "      <th>wtyrago</th>\n",
              "      <th>wtkg2</th>\n",
              "      <th>htm3</th>\n",
              "      <th>sex</th>\n",
              "      <th>weight_change</th>\n",
              "    </tr>\n",
              "  </thead>\n",
              "  <tbody>\n",
              "    <tr>\n",
              "      <th>0</th>\n",
              "      <td>0</td>\n",
              "      <td>39.0</td>\n",
              "      <td>88.636364</td>\n",
              "      <td>88.636364</td>\n",
              "      <td>88.64</td>\n",
              "      <td>180.0</td>\n",
              "      <td>1.0</td>\n",
              "      <td>0.000000</td>\n",
              "    </tr>\n",
              "    <tr>\n",
              "      <th>1</th>\n",
              "      <td>1</td>\n",
              "      <td>64.0</td>\n",
              "      <td>75.000000</td>\n",
              "      <td>84.545455</td>\n",
              "      <td>75.00</td>\n",
              "      <td>155.0</td>\n",
              "      <td>2.0</td>\n",
              "      <td>-9.545455</td>\n",
              "    </tr>\n",
              "    <tr>\n",
              "      <th>2</th>\n",
              "      <td>2</td>\n",
              "      <td>87.0</td>\n",
              "      <td>61.818182</td>\n",
              "      <td>63.636364</td>\n",
              "      <td>61.82</td>\n",
              "      <td>NaN</td>\n",
              "      <td>2.0</td>\n",
              "      <td>-1.818182</td>\n",
              "    </tr>\n",
              "  </tbody>\n",
              "</table>\n",
              "</div>\n",
              "      <button class=\"colab-df-convert\" onclick=\"convertToInteractive('df-a8ab28e6-cbb3-41b4-9d34-61548c02a38b')\"\n",
              "              title=\"Convert this dataframe to an interactive table.\"\n",
              "              style=\"display:none;\">\n",
              "        \n",
              "  <svg xmlns=\"http://www.w3.org/2000/svg\" height=\"24px\"viewBox=\"0 0 24 24\"\n",
              "       width=\"24px\">\n",
              "    <path d=\"M0 0h24v24H0V0z\" fill=\"none\"/>\n",
              "    <path d=\"M18.56 5.44l.94 2.06.94-2.06 2.06-.94-2.06-.94-.94-2.06-.94 2.06-2.06.94zm-11 1L8.5 8.5l.94-2.06 2.06-.94-2.06-.94L8.5 2.5l-.94 2.06-2.06.94zm10 10l.94 2.06.94-2.06 2.06-.94-2.06-.94-.94-2.06-.94 2.06-2.06.94z\"/><path d=\"M17.41 7.96l-1.37-1.37c-.4-.4-.92-.59-1.43-.59-.52 0-1.04.2-1.43.59L10.3 9.45l-7.72 7.72c-.78.78-.78 2.05 0 2.83L4 21.41c.39.39.9.59 1.41.59.51 0 1.02-.2 1.41-.59l7.78-7.78 2.81-2.81c.8-.78.8-2.07 0-2.86zM5.41 20L4 18.59l7.72-7.72 1.47 1.35L5.41 20z\"/>\n",
              "  </svg>\n",
              "      </button>\n",
              "      \n",
              "  <style>\n",
              "    .colab-df-container {\n",
              "      display:flex;\n",
              "      flex-wrap:wrap;\n",
              "      gap: 12px;\n",
              "    }\n",
              "\n",
              "    .colab-df-convert {\n",
              "      background-color: #E8F0FE;\n",
              "      border: none;\n",
              "      border-radius: 50%;\n",
              "      cursor: pointer;\n",
              "      display: none;\n",
              "      fill: #1967D2;\n",
              "      height: 32px;\n",
              "      padding: 0 0 0 0;\n",
              "      width: 32px;\n",
              "    }\n",
              "\n",
              "    .colab-df-convert:hover {\n",
              "      background-color: #E2EBFA;\n",
              "      box-shadow: 0px 1px 2px rgba(60, 64, 67, 0.3), 0px 1px 3px 1px rgba(60, 64, 67, 0.15);\n",
              "      fill: #174EA6;\n",
              "    }\n",
              "\n",
              "    [theme=dark] .colab-df-convert {\n",
              "      background-color: #3B4455;\n",
              "      fill: #D2E3FC;\n",
              "    }\n",
              "\n",
              "    [theme=dark] .colab-df-convert:hover {\n",
              "      background-color: #434B5C;\n",
              "      box-shadow: 0px 1px 3px 1px rgba(0, 0, 0, 0.15);\n",
              "      filter: drop-shadow(0px 1px 2px rgba(0, 0, 0, 0.3));\n",
              "      fill: #FFFFFF;\n",
              "    }\n",
              "  </style>\n",
              "\n",
              "      <script>\n",
              "        const buttonEl =\n",
              "          document.querySelector('#df-a8ab28e6-cbb3-41b4-9d34-61548c02a38b button.colab-df-convert');\n",
              "        buttonEl.style.display =\n",
              "          google.colab.kernel.accessAllowed ? 'block' : 'none';\n",
              "\n",
              "        async function convertToInteractive(key) {\n",
              "          const element = document.querySelector('#df-a8ab28e6-cbb3-41b4-9d34-61548c02a38b');\n",
              "          const dataTable =\n",
              "            await google.colab.kernel.invokeFunction('convertToInteractive',\n",
              "                                                     [key], {});\n",
              "          if (!dataTable) return;\n",
              "\n",
              "          const docLinkHtml = 'Like what you see? Visit the ' +\n",
              "            '<a target=\"_blank\" href=https://colab.research.google.com/notebooks/data_table.ipynb>data table notebook</a>'\n",
              "            + ' to learn more about interactive tables.';\n",
              "          element.innerHTML = '';\n",
              "          dataTable['output_type'] = 'display_data';\n",
              "          await google.colab.output.renderOutput(dataTable, element);\n",
              "          const docLink = document.createElement('div');\n",
              "          docLink.innerHTML = docLinkHtml;\n",
              "          element.appendChild(docLink);\n",
              "        }\n",
              "      </script>\n",
              "    </div>\n",
              "  </div>\n",
              "  "
            ]
          },
          "metadata": {},
          "execution_count": 15
        }
      ]
    },
    {
      "cell_type": "markdown",
      "source": [
        "Calculate correlation between 'weight_change' and other featuress (variables):"
      ],
      "metadata": {
        "id": "uyoswurLySnM"
      }
    },
    {
      "cell_type": "code",
      "source": [
        "corr_matrix = df.corr() # Compute pairwise correlation of columns, excluding NA/null values.\n",
        "corr_matrix['weight_change'].sort_values(ascending = False)"
      ],
      "metadata": {
        "colab": {
          "base_uri": "https://localhost:8080/"
        },
        "id": "2JWNPH1deMFG",
        "outputId": "bf6259a1-bf72-4a1c-d9d5-3c4a4d36fe5d"
      },
      "execution_count": null,
      "outputs": [
        {
          "output_type": "execute_result",
          "data": {
            "text/plain": [
              "weight_change    1.000000\n",
              "wtkg2            0.041168\n",
              "weight2          0.041156\n",
              "sex              0.009722\n",
              "Unnamed: 0      -0.005798\n",
              "htm3            -0.005983\n",
              "age             -0.073251\n",
              "wtyrago         -0.321973\n",
              "Name: weight_change, dtype: float64"
            ]
          },
          "metadata": {},
          "execution_count": 16
        }
      ]
    }
  ]
}
